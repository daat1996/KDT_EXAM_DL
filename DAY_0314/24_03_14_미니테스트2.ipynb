{
 "cells": [
  {
   "cell_type": "markdown",
   "metadata": {},
   "source": [
    "#### [ 미니 테스트  2024-03-14 ]<hr>"
   ]
  },
  {
   "cell_type": "markdown",
   "metadata": {},
   "source": [
    "[1] 지도학습에 대한 설명과 종류에 대해서 간략하게 설명해 주세요."
   ]
  },
  {
   "cell_type": "markdown",
   "metadata": {},
   "source": [
    "알고리즘 모델에 정해진 데이터를 직접 학습시켜 원하는 기능을 갖게 하는 것으로\n",
    "분류, 회귀 등이 존재한다. "
   ]
  },
  {
   "cell_type": "markdown",
   "metadata": {},
   "source": [
    "[2] 지도학습의 학습 프로세스를 간략하게 설명해 주세요."
   ]
  },
  {
   "cell_type": "markdown",
   "source": [
    "모듈설정 -> 데이터셋 불러오기 -> 데이터 전처리 -> (만일 학습데이터와 검증데이터, 테스트 데이터가 따로 없다면)학습데이터 분리\n",
    "-> 모델에 학습시키기 -> 검증 -> 과적합 확인 -> 충족되면 예측시킨다"
   ],
   "metadata": {
    "collapsed": false
   }
  },
  {
   "cell_type": "markdown",
   "metadata": {},
   "source": [
    "[3] 선형회귀 대해 간략하게 설명해주세요.  \n",
    "    - 개념  : 퍼져있는 데이터를 기준으로 거리가 전체적으로 가장 가까운 직선 \n",
    "    - 조건  : \n",
    "    - 동작원리  \n",
    "    - 선형식  : y = ax + b\n",
    "    - 오차/잔차 계산 방법  "
   ]
  },
  {
   "cell_type": "markdown",
   "metadata": {},
   "source": [
    " "
   ]
  },
  {
   "cell_type": "markdown",
   "metadata": {},
   "source": [
    "[4] 로지스틱회귀 대해 간략하게 설명해주세요.  \n",
    "   - 개념  : 로지스틱 함수를 기준으로 0 과 1을 구분시켜 이진분류하는 모델\n",
    "   - 조건  \n",
    "   - 동작원리  \n",
    "   - 선형식  \n",
    "   - 오차/잔차 계산 방법  "
   ]
  },
  {
   "cell_type": "markdown",
   "metadata": {},
   "source": [
    " "
   ]
  },
  {
   "cell_type": "markdown",
   "metadata": {},
   "source": [
    "[5] Fashion MNIST 데이터셋에서 10개 카테고리 중 하나를 선택해서 2진 분류로 구현해 주세요.  \n",
    "- 데이터셋 : scikit-learn의 datasets 사용\n",
    "    - from sklearn.datasets import fetch_openml \n",
    "    - db_name = 'Fashion-MNIST'\n",
    "    - fashion_data = fetch_openml(name=db_name, parser='auto')"
   ]
  },
  {
   "cell_type": "markdown",
   "source": [
    "1) 모듈 로딩 및 데이터 준비<hr>"
   ],
   "metadata": {
    "collapsed": false
   }
  },
  {
   "cell_type": "code",
   "execution_count": 2,
   "metadata": {
    "ExecuteTime": {
     "end_time": "2024-03-14T05:38:15.757653100Z",
     "start_time": "2024-03-14T05:38:14.572685400Z"
    }
   },
   "outputs": [],
   "source": [
    "from sklearn.datasets import fetch_openml\n"
   ]
  },
  {
   "cell_type": "code",
   "outputs": [],
   "source": [
    "import torch\n",
    "import torch.nn as nn               # LinearRegression 기능의 클래스 Linear\n",
    "import torch.nn.functional as F     # 손실함수\n",
    "import torch.optim as optim         # 경사하강법 기반의 최적화 관련 모듈\n",
    "import pandas as pd\n",
    "import numpy as np"
   ],
   "metadata": {
    "collapsed": false,
    "ExecuteTime": {
     "end_time": "2024-03-14T05:38:17.542806100Z",
     "start_time": "2024-03-14T05:38:15.763168900Z"
    }
   },
   "execution_count": 3
  },
  {
   "cell_type": "code",
   "outputs": [
    {
     "data": {
      "text/plain": "<torch._C.Generator at 0x20b37318ad0>"
     },
     "execution_count": 4,
     "metadata": {},
     "output_type": "execute_result"
    }
   ],
   "source": [
    "# 랜덤시드 설정\n",
    "torch.manual_seed(1)"
   ],
   "metadata": {
    "collapsed": false,
    "ExecuteTime": {
     "end_time": "2024-03-14T05:38:17.559511400Z",
     "start_time": "2024-03-14T05:38:17.545865100Z"
    }
   },
   "execution_count": 4
  },
  {
   "cell_type": "code",
   "outputs": [
    {
     "data": {
      "text/plain": "{'data':        pixel1  pixel2  pixel3  pixel4  pixel5  pixel6  pixel7  pixel8  pixel9  \\\n 0           0       0       0       0       0       0       0       0       0   \n 1           0       0       0       0       0       1       0       0       0   \n 2           0       0       0       0       0       0       0       0       0   \n 3           0       0       0       0       0       0       0       0      33   \n 4           0       0       0       0       0       0       0       0       0   \n ...       ...     ...     ...     ...     ...     ...     ...     ...     ...   \n 69995       0       0       0       0       0       0       0       0       0   \n 69996       0       0       0       0       0       0       0       0       0   \n 69997       0       0       0       0       0       0       0       0       0   \n 69998       0       0       0       0       0       0       0       0       0   \n 69999       0       0       0       0       0       0       0       0       0   \n \n        pixel10  ...  pixel775  pixel776  pixel777  pixel778  pixel779  \\\n 0            0  ...         0         0         0         0         0   \n 1            0  ...       119       114       130        76         0   \n 2           22  ...         0         0         1         0         0   \n 3           96  ...         0         0         0         0         0   \n 4            0  ...         0         0         0         0         0   \n ...        ...  ...       ...       ...       ...       ...       ...   \n 69995        0  ...         0         0         0         0         0   \n 69996       31  ...         0         0         0         0         0   \n 69997        0  ...        27         0         0         0         0   \n 69998        0  ...         0         0         0         0         0   \n 69999        0  ...         0         0         0         0         0   \n \n        pixel780  pixel781  pixel782  pixel783  pixel784  \n 0             0         0         0         0         0  \n 1             0         0         0         0         0  \n 2             0         0         0         0         0  \n 3             0         0         0         0         0  \n 4             0         0         0         0         0  \n ...         ...       ...       ...       ...       ...  \n 69995         0         0         0         0         0  \n 69996         0         0         0         0         0  \n 69997         0         0         0         0         0  \n 69998         0         0         0         0         0  \n 69999         0         0         0         0         0  \n \n [70000 rows x 784 columns],\n 'target': 0        9\n 1        0\n 2        0\n 3        3\n 4        0\n         ..\n 69995    9\n 69996    1\n 69997    8\n 69998    1\n 69999    5\n Name: class, Length: 70000, dtype: category\n Categories (10, object): ['0', '1', '2', '3', ..., '6', '7', '8', '9'],\n 'frame':        pixel1  pixel2  pixel3  pixel4  pixel5  pixel6  pixel7  pixel8  pixel9  \\\n 0           0       0       0       0       0       0       0       0       0   \n 1           0       0       0       0       0       1       0       0       0   \n 2           0       0       0       0       0       0       0       0       0   \n 3           0       0       0       0       0       0       0       0      33   \n 4           0       0       0       0       0       0       0       0       0   \n ...       ...     ...     ...     ...     ...     ...     ...     ...     ...   \n 69995       0       0       0       0       0       0       0       0       0   \n 69996       0       0       0       0       0       0       0       0       0   \n 69997       0       0       0       0       0       0       0       0       0   \n 69998       0       0       0       0       0       0       0       0       0   \n 69999       0       0       0       0       0       0       0       0       0   \n \n        pixel10  ...  pixel776  pixel777  pixel778  pixel779  pixel780  \\\n 0            0  ...         0         0         0         0         0   \n 1            0  ...       114       130        76         0         0   \n 2           22  ...         0         1         0         0         0   \n 3           96  ...         0         0         0         0         0   \n 4            0  ...         0         0         0         0         0   \n ...        ...  ...       ...       ...       ...       ...       ...   \n 69995        0  ...         0         0         0         0         0   \n 69996       31  ...         0         0         0         0         0   \n 69997        0  ...         0         0         0         0         0   \n 69998        0  ...         0         0         0         0         0   \n 69999        0  ...         0         0         0         0         0   \n \n        pixel781  pixel782  pixel783  pixel784  class  \n 0             0         0         0         0      9  \n 1             0         0         0         0      0  \n 2             0         0         0         0      0  \n 3             0         0         0         0      3  \n 4             0         0         0         0      0  \n ...         ...       ...       ...       ...    ...  \n 69995         0         0         0         0      9  \n 69996         0         0         0         0      1  \n 69997         0         0         0         0      8  \n 69998         0         0         0         0      1  \n 69999         0         0         0         0      5  \n \n [70000 rows x 785 columns],\n 'categories': None,\n 'feature_names': ['pixel1',\n  'pixel2',\n  'pixel3',\n  'pixel4',\n  'pixel5',\n  'pixel6',\n  'pixel7',\n  'pixel8',\n  'pixel9',\n  'pixel10',\n  'pixel11',\n  'pixel12',\n  'pixel13',\n  'pixel14',\n  'pixel15',\n  'pixel16',\n  'pixel17',\n  'pixel18',\n  'pixel19',\n  'pixel20',\n  'pixel21',\n  'pixel22',\n  'pixel23',\n  'pixel24',\n  'pixel25',\n  'pixel26',\n  'pixel27',\n  'pixel28',\n  'pixel29',\n  'pixel30',\n  'pixel31',\n  'pixel32',\n  'pixel33',\n  'pixel34',\n  'pixel35',\n  'pixel36',\n  'pixel37',\n  'pixel38',\n  'pixel39',\n  'pixel40',\n  'pixel41',\n  'pixel42',\n  'pixel43',\n  'pixel44',\n  'pixel45',\n  'pixel46',\n  'pixel47',\n  'pixel48',\n  'pixel49',\n  'pixel50',\n  'pixel51',\n  'pixel52',\n  'pixel53',\n  'pixel54',\n  'pixel55',\n  'pixel56',\n  'pixel57',\n  'pixel58',\n  'pixel59',\n  'pixel60',\n  'pixel61',\n  'pixel62',\n  'pixel63',\n  'pixel64',\n  'pixel65',\n  'pixel66',\n  'pixel67',\n  'pixel68',\n  'pixel69',\n  'pixel70',\n  'pixel71',\n  'pixel72',\n  'pixel73',\n  'pixel74',\n  'pixel75',\n  'pixel76',\n  'pixel77',\n  'pixel78',\n  'pixel79',\n  'pixel80',\n  'pixel81',\n  'pixel82',\n  'pixel83',\n  'pixel84',\n  'pixel85',\n  'pixel86',\n  'pixel87',\n  'pixel88',\n  'pixel89',\n  'pixel90',\n  'pixel91',\n  'pixel92',\n  'pixel93',\n  'pixel94',\n  'pixel95',\n  'pixel96',\n  'pixel97',\n  'pixel98',\n  'pixel99',\n  'pixel100',\n  'pixel101',\n  'pixel102',\n  'pixel103',\n  'pixel104',\n  'pixel105',\n  'pixel106',\n  'pixel107',\n  'pixel108',\n  'pixel109',\n  'pixel110',\n  'pixel111',\n  'pixel112',\n  'pixel113',\n  'pixel114',\n  'pixel115',\n  'pixel116',\n  'pixel117',\n  'pixel118',\n  'pixel119',\n  'pixel120',\n  'pixel121',\n  'pixel122',\n  'pixel123',\n  'pixel124',\n  'pixel125',\n  'pixel126',\n  'pixel127',\n  'pixel128',\n  'pixel129',\n  'pixel130',\n  'pixel131',\n  'pixel132',\n  'pixel133',\n  'pixel134',\n  'pixel135',\n  'pixel136',\n  'pixel137',\n  'pixel138',\n  'pixel139',\n  'pixel140',\n  'pixel141',\n  'pixel142',\n  'pixel143',\n  'pixel144',\n  'pixel145',\n  'pixel146',\n  'pixel147',\n  'pixel148',\n  'pixel149',\n  'pixel150',\n  'pixel151',\n  'pixel152',\n  'pixel153',\n  'pixel154',\n  'pixel155',\n  'pixel156',\n  'pixel157',\n  'pixel158',\n  'pixel159',\n  'pixel160',\n  'pixel161',\n  'pixel162',\n  'pixel163',\n  'pixel164',\n  'pixel165',\n  'pixel166',\n  'pixel167',\n  'pixel168',\n  'pixel169',\n  'pixel170',\n  'pixel171',\n  'pixel172',\n  'pixel173',\n  'pixel174',\n  'pixel175',\n  'pixel176',\n  'pixel177',\n  'pixel178',\n  'pixel179',\n  'pixel180',\n  'pixel181',\n  'pixel182',\n  'pixel183',\n  'pixel184',\n  'pixel185',\n  'pixel186',\n  'pixel187',\n  'pixel188',\n  'pixel189',\n  'pixel190',\n  'pixel191',\n  'pixel192',\n  'pixel193',\n  'pixel194',\n  'pixel195',\n  'pixel196',\n  'pixel197',\n  'pixel198',\n  'pixel199',\n  'pixel200',\n  'pixel201',\n  'pixel202',\n  'pixel203',\n  'pixel204',\n  'pixel205',\n  'pixel206',\n  'pixel207',\n  'pixel208',\n  'pixel209',\n  'pixel210',\n  'pixel211',\n  'pixel212',\n  'pixel213',\n  'pixel214',\n  'pixel215',\n  'pixel216',\n  'pixel217',\n  'pixel218',\n  'pixel219',\n  'pixel220',\n  'pixel221',\n  'pixel222',\n  'pixel223',\n  'pixel224',\n  'pixel225',\n  'pixel226',\n  'pixel227',\n  'pixel228',\n  'pixel229',\n  'pixel230',\n  'pixel231',\n  'pixel232',\n  'pixel233',\n  'pixel234',\n  'pixel235',\n  'pixel236',\n  'pixel237',\n  'pixel238',\n  'pixel239',\n  'pixel240',\n  'pixel241',\n  'pixel242',\n  'pixel243',\n  'pixel244',\n  'pixel245',\n  'pixel246',\n  'pixel247',\n  'pixel248',\n  'pixel249',\n  'pixel250',\n  'pixel251',\n  'pixel252',\n  'pixel253',\n  'pixel254',\n  'pixel255',\n  'pixel256',\n  'pixel257',\n  'pixel258',\n  'pixel259',\n  'pixel260',\n  'pixel261',\n  'pixel262',\n  'pixel263',\n  'pixel264',\n  'pixel265',\n  'pixel266',\n  'pixel267',\n  'pixel268',\n  'pixel269',\n  'pixel270',\n  'pixel271',\n  'pixel272',\n  'pixel273',\n  'pixel274',\n  'pixel275',\n  'pixel276',\n  'pixel277',\n  'pixel278',\n  'pixel279',\n  'pixel280',\n  'pixel281',\n  'pixel282',\n  'pixel283',\n  'pixel284',\n  'pixel285',\n  'pixel286',\n  'pixel287',\n  'pixel288',\n  'pixel289',\n  'pixel290',\n  'pixel291',\n  'pixel292',\n  'pixel293',\n  'pixel294',\n  'pixel295',\n  'pixel296',\n  'pixel297',\n  'pixel298',\n  'pixel299',\n  'pixel300',\n  'pixel301',\n  'pixel302',\n  'pixel303',\n  'pixel304',\n  'pixel305',\n  'pixel306',\n  'pixel307',\n  'pixel308',\n  'pixel309',\n  'pixel310',\n  'pixel311',\n  'pixel312',\n  'pixel313',\n  'pixel314',\n  'pixel315',\n  'pixel316',\n  'pixel317',\n  'pixel318',\n  'pixel319',\n  'pixel320',\n  'pixel321',\n  'pixel322',\n  'pixel323',\n  'pixel324',\n  'pixel325',\n  'pixel326',\n  'pixel327',\n  'pixel328',\n  'pixel329',\n  'pixel330',\n  'pixel331',\n  'pixel332',\n  'pixel333',\n  'pixel334',\n  'pixel335',\n  'pixel336',\n  'pixel337',\n  'pixel338',\n  'pixel339',\n  'pixel340',\n  'pixel341',\n  'pixel342',\n  'pixel343',\n  'pixel344',\n  'pixel345',\n  'pixel346',\n  'pixel347',\n  'pixel348',\n  'pixel349',\n  'pixel350',\n  'pixel351',\n  'pixel352',\n  'pixel353',\n  'pixel354',\n  'pixel355',\n  'pixel356',\n  'pixel357',\n  'pixel358',\n  'pixel359',\n  'pixel360',\n  'pixel361',\n  'pixel362',\n  'pixel363',\n  'pixel364',\n  'pixel365',\n  'pixel366',\n  'pixel367',\n  'pixel368',\n  'pixel369',\n  'pixel370',\n  'pixel371',\n  'pixel372',\n  'pixel373',\n  'pixel374',\n  'pixel375',\n  'pixel376',\n  'pixel377',\n  'pixel378',\n  'pixel379',\n  'pixel380',\n  'pixel381',\n  'pixel382',\n  'pixel383',\n  'pixel384',\n  'pixel385',\n  'pixel386',\n  'pixel387',\n  'pixel388',\n  'pixel389',\n  'pixel390',\n  'pixel391',\n  'pixel392',\n  'pixel393',\n  'pixel394',\n  'pixel395',\n  'pixel396',\n  'pixel397',\n  'pixel398',\n  'pixel399',\n  'pixel400',\n  'pixel401',\n  'pixel402',\n  'pixel403',\n  'pixel404',\n  'pixel405',\n  'pixel406',\n  'pixel407',\n  'pixel408',\n  'pixel409',\n  'pixel410',\n  'pixel411',\n  'pixel412',\n  'pixel413',\n  'pixel414',\n  'pixel415',\n  'pixel416',\n  'pixel417',\n  'pixel418',\n  'pixel419',\n  'pixel420',\n  'pixel421',\n  'pixel422',\n  'pixel423',\n  'pixel424',\n  'pixel425',\n  'pixel426',\n  'pixel427',\n  'pixel428',\n  'pixel429',\n  'pixel430',\n  'pixel431',\n  'pixel432',\n  'pixel433',\n  'pixel434',\n  'pixel435',\n  'pixel436',\n  'pixel437',\n  'pixel438',\n  'pixel439',\n  'pixel440',\n  'pixel441',\n  'pixel442',\n  'pixel443',\n  'pixel444',\n  'pixel445',\n  'pixel446',\n  'pixel447',\n  'pixel448',\n  'pixel449',\n  'pixel450',\n  'pixel451',\n  'pixel452',\n  'pixel453',\n  'pixel454',\n  'pixel455',\n  'pixel456',\n  'pixel457',\n  'pixel458',\n  'pixel459',\n  'pixel460',\n  'pixel461',\n  'pixel462',\n  'pixel463',\n  'pixel464',\n  'pixel465',\n  'pixel466',\n  'pixel467',\n  'pixel468',\n  'pixel469',\n  'pixel470',\n  'pixel471',\n  'pixel472',\n  'pixel473',\n  'pixel474',\n  'pixel475',\n  'pixel476',\n  'pixel477',\n  'pixel478',\n  'pixel479',\n  'pixel480',\n  'pixel481',\n  'pixel482',\n  'pixel483',\n  'pixel484',\n  'pixel485',\n  'pixel486',\n  'pixel487',\n  'pixel488',\n  'pixel489',\n  'pixel490',\n  'pixel491',\n  'pixel492',\n  'pixel493',\n  'pixel494',\n  'pixel495',\n  'pixel496',\n  'pixel497',\n  'pixel498',\n  'pixel499',\n  'pixel500',\n  'pixel501',\n  'pixel502',\n  'pixel503',\n  'pixel504',\n  'pixel505',\n  'pixel506',\n  'pixel507',\n  'pixel508',\n  'pixel509',\n  'pixel510',\n  'pixel511',\n  'pixel512',\n  'pixel513',\n  'pixel514',\n  'pixel515',\n  'pixel516',\n  'pixel517',\n  'pixel518',\n  'pixel519',\n  'pixel520',\n  'pixel521',\n  'pixel522',\n  'pixel523',\n  'pixel524',\n  'pixel525',\n  'pixel526',\n  'pixel527',\n  'pixel528',\n  'pixel529',\n  'pixel530',\n  'pixel531',\n  'pixel532',\n  'pixel533',\n  'pixel534',\n  'pixel535',\n  'pixel536',\n  'pixel537',\n  'pixel538',\n  'pixel539',\n  'pixel540',\n  'pixel541',\n  'pixel542',\n  'pixel543',\n  'pixel544',\n  'pixel545',\n  'pixel546',\n  'pixel547',\n  'pixel548',\n  'pixel549',\n  'pixel550',\n  'pixel551',\n  'pixel552',\n  'pixel553',\n  'pixel554',\n  'pixel555',\n  'pixel556',\n  'pixel557',\n  'pixel558',\n  'pixel559',\n  'pixel560',\n  'pixel561',\n  'pixel562',\n  'pixel563',\n  'pixel564',\n  'pixel565',\n  'pixel566',\n  'pixel567',\n  'pixel568',\n  'pixel569',\n  'pixel570',\n  'pixel571',\n  'pixel572',\n  'pixel573',\n  'pixel574',\n  'pixel575',\n  'pixel576',\n  'pixel577',\n  'pixel578',\n  'pixel579',\n  'pixel580',\n  'pixel581',\n  'pixel582',\n  'pixel583',\n  'pixel584',\n  'pixel585',\n  'pixel586',\n  'pixel587',\n  'pixel588',\n  'pixel589',\n  'pixel590',\n  'pixel591',\n  'pixel592',\n  'pixel593',\n  'pixel594',\n  'pixel595',\n  'pixel596',\n  'pixel597',\n  'pixel598',\n  'pixel599',\n  'pixel600',\n  'pixel601',\n  'pixel602',\n  'pixel603',\n  'pixel604',\n  'pixel605',\n  'pixel606',\n  'pixel607',\n  'pixel608',\n  'pixel609',\n  'pixel610',\n  'pixel611',\n  'pixel612',\n  'pixel613',\n  'pixel614',\n  'pixel615',\n  'pixel616',\n  'pixel617',\n  'pixel618',\n  'pixel619',\n  'pixel620',\n  'pixel621',\n  'pixel622',\n  'pixel623',\n  'pixel624',\n  'pixel625',\n  'pixel626',\n  'pixel627',\n  'pixel628',\n  'pixel629',\n  'pixel630',\n  'pixel631',\n  'pixel632',\n  'pixel633',\n  'pixel634',\n  'pixel635',\n  'pixel636',\n  'pixel637',\n  'pixel638',\n  'pixel639',\n  'pixel640',\n  'pixel641',\n  'pixel642',\n  'pixel643',\n  'pixel644',\n  'pixel645',\n  'pixel646',\n  'pixel647',\n  'pixel648',\n  'pixel649',\n  'pixel650',\n  'pixel651',\n  'pixel652',\n  'pixel653',\n  'pixel654',\n  'pixel655',\n  'pixel656',\n  'pixel657',\n  'pixel658',\n  'pixel659',\n  'pixel660',\n  'pixel661',\n  'pixel662',\n  'pixel663',\n  'pixel664',\n  'pixel665',\n  'pixel666',\n  'pixel667',\n  'pixel668',\n  'pixel669',\n  'pixel670',\n  'pixel671',\n  'pixel672',\n  'pixel673',\n  'pixel674',\n  'pixel675',\n  'pixel676',\n  'pixel677',\n  'pixel678',\n  'pixel679',\n  'pixel680',\n  'pixel681',\n  'pixel682',\n  'pixel683',\n  'pixel684',\n  'pixel685',\n  'pixel686',\n  'pixel687',\n  'pixel688',\n  'pixel689',\n  'pixel690',\n  'pixel691',\n  'pixel692',\n  'pixel693',\n  'pixel694',\n  'pixel695',\n  'pixel696',\n  'pixel697',\n  'pixel698',\n  'pixel699',\n  'pixel700',\n  'pixel701',\n  'pixel702',\n  'pixel703',\n  'pixel704',\n  'pixel705',\n  'pixel706',\n  'pixel707',\n  'pixel708',\n  'pixel709',\n  'pixel710',\n  'pixel711',\n  'pixel712',\n  'pixel713',\n  'pixel714',\n  'pixel715',\n  'pixel716',\n  'pixel717',\n  'pixel718',\n  'pixel719',\n  'pixel720',\n  'pixel721',\n  'pixel722',\n  'pixel723',\n  'pixel724',\n  'pixel725',\n  'pixel726',\n  'pixel727',\n  'pixel728',\n  'pixel729',\n  'pixel730',\n  'pixel731',\n  'pixel732',\n  'pixel733',\n  'pixel734',\n  'pixel735',\n  'pixel736',\n  'pixel737',\n  'pixel738',\n  'pixel739',\n  'pixel740',\n  'pixel741',\n  'pixel742',\n  'pixel743',\n  'pixel744',\n  'pixel745',\n  'pixel746',\n  'pixel747',\n  'pixel748',\n  'pixel749',\n  'pixel750',\n  'pixel751',\n  'pixel752',\n  'pixel753',\n  'pixel754',\n  'pixel755',\n  'pixel756',\n  'pixel757',\n  'pixel758',\n  'pixel759',\n  'pixel760',\n  'pixel761',\n  'pixel762',\n  'pixel763',\n  'pixel764',\n  'pixel765',\n  'pixel766',\n  'pixel767',\n  'pixel768',\n  'pixel769',\n  'pixel770',\n  'pixel771',\n  'pixel772',\n  'pixel773',\n  'pixel774',\n  'pixel775',\n  'pixel776',\n  'pixel777',\n  'pixel778',\n  'pixel779',\n  'pixel780',\n  'pixel781',\n  'pixel782',\n  'pixel783',\n  'pixel784'],\n 'target_names': ['class'],\n 'DESCR': \"**Author**: Han Xiao, Kashif Rasul, Roland Vollgraf  \\n**Source**: [Zalando Research](https://github.com/zalandoresearch/fashion-mnist)  \\n**Please cite**: Han Xiao and Kashif Rasul and Roland Vollgraf, Fashion-MNIST: a Novel Image Dataset for Benchmarking Machine Learning Algorithms, arXiv, cs.LG/1708.07747  \\n\\nFashion-MNIST is a dataset of Zalando's article images, consisting of a training set of 60,000 examples and a test set of 10,000 examples. Each example is a 28x28 grayscale image, associated with a label from 10 classes. Fashion-MNIST is intended to serve as a direct drop-in replacement for the original MNIST dataset for benchmarking machine learning algorithms. It shares the same image size and structure of training and testing splits. \\n\\nRaw data available at: https://github.com/zalandoresearch/fashion-mnist\\n\\n### Target classes\\nEach training and test example is assigned to one of the following labels:\\nLabel  Description  \\n0  T-shirt/top  \\n1  Trouser  \\n2  Pullover  \\n3  Dress  \\n4  Coat  \\n5  Sandal  \\n6  Shirt  \\n7  Sneaker  \\n8  Bag  \\n9  Ankle boot\\n\\nDownloaded from openml.org.\",\n 'details': {'id': '40996',\n  'name': 'Fashion-MNIST',\n  'version': '1',\n  'description_version': '1',\n  'format': 'ARFF',\n  'creator': ['Han Xiao', 'Kashif Rasul', 'Roland Vollgraf'],\n  'upload_date': '2017-12-20T13:28:27',\n  'licence': 'Public',\n  'url': 'https://api.openml.org/data/v1/download/18238735/Fashion-MNIST.arff',\n  'parquet_url': 'https://openml1.win.tue.nl/datasets/0004/40996/dataset_40996.pq',\n  'file_id': '18238735',\n  'default_target_attribute': 'class',\n  'version_label': '1.0',\n  'citation': '@online{xiao2017/online,\\n  author       = {Han Xiao and Kashif Rasul and Roland Vollgraf},\\n  title        = {Fashion-MNIST: a Novel Image Dataset for Benchmarking Machine Learning Algorithms},\\n  date         = {2017-08-28},\\n  year         = {2017},\\n  eprintclass  = {cs.LG},\\n  eprinttype   = {arXiv},\\n  eprint       = {cs.LG/1708.07747},\\n}',\n  'tag': ['Meteorology',\n   'OpenML-CC18',\n   'study_218',\n   'study_99',\n   'Transportation',\n   'vision'],\n  'visibility': 'public',\n  'original_data_url': 'https://github.com/zalandoresearch/fashion-mnist',\n  'paper_url': 'Fashion-MNIST: a Novel Image Dataset for Benchmarking Machine Learning Algorithms. Han Xiao, Kashif Rasul, Roland Vollgraf. arXiv:1708.07747',\n  'minio_url': 'https://openml1.win.tue.nl/datasets/0004/40996/dataset_40996.pq',\n  'status': 'active',\n  'processing_date': '2018-10-04 07:21:31',\n  'md5_checksum': 'cdfc9c58cb9fe86ffaa76af247ae2ef2'},\n 'url': 'https://www.openml.org/d/40996'}"
     },
     "execution_count": 5,
     "metadata": {},
     "output_type": "execute_result"
    }
   ],
   "source": [
    "# ====> 데이터 준비\n",
    "db_name = 'Fashion-MNIST'\n",
    "fashion_data = fetch_openml(name=db_name, parser='auto')     # as_frame =False로 numpy로 받아온다\n",
    "fashion_data"
   ],
   "metadata": {
    "collapsed": false,
    "ExecuteTime": {
     "end_time": "2024-03-14T05:38:21.235313900Z",
     "start_time": "2024-03-14T05:38:17.562573Z"
    }
   },
   "execution_count": 5
  },
  {
   "cell_type": "code",
   "outputs": [
    {
     "data": {
      "text/plain": "       pixel1  pixel2  pixel3  pixel4  pixel5  pixel6  pixel7  pixel8  pixel9  \\\n0           0       0       0       0       0       0       0       0       0   \n1           0       0       0       0       0       1       0       0       0   \n2           0       0       0       0       0       0       0       0       0   \n3           0       0       0       0       0       0       0       0      33   \n4           0       0       0       0       0       0       0       0       0   \n...       ...     ...     ...     ...     ...     ...     ...     ...     ...   \n69995       0       0       0       0       0       0       0       0       0   \n69996       0       0       0       0       0       0       0       0       0   \n69997       0       0       0       0       0       0       0       0       0   \n69998       0       0       0       0       0       0       0       0       0   \n69999       0       0       0       0       0       0       0       0       0   \n\n       pixel10  ...  pixel775  pixel776  pixel777  pixel778  pixel779  \\\n0            0  ...         0         0         0         0         0   \n1            0  ...       119       114       130        76         0   \n2           22  ...         0         0         1         0         0   \n3           96  ...         0         0         0         0         0   \n4            0  ...         0         0         0         0         0   \n...        ...  ...       ...       ...       ...       ...       ...   \n69995        0  ...         0         0         0         0         0   \n69996       31  ...         0         0         0         0         0   \n69997        0  ...        27         0         0         0         0   \n69998        0  ...         0         0         0         0         0   \n69999        0  ...         0         0         0         0         0   \n\n       pixel780  pixel781  pixel782  pixel783  pixel784  \n0             0         0         0         0         0  \n1             0         0         0         0         0  \n2             0         0         0         0         0  \n3             0         0         0         0         0  \n4             0         0         0         0         0  \n...         ...       ...       ...       ...       ...  \n69995         0         0         0         0         0  \n69996         0         0         0         0         0  \n69997         0         0         0         0         0  \n69998         0         0         0         0         0  \n69999         0         0         0         0         0  \n\n[70000 rows x 784 columns]",
      "text/html": "<div>\n<style scoped>\n    .dataframe tbody tr th:only-of-type {\n        vertical-align: middle;\n    }\n\n    .dataframe tbody tr th {\n        vertical-align: top;\n    }\n\n    .dataframe thead th {\n        text-align: right;\n    }\n</style>\n<table border=\"1\" class=\"dataframe\">\n  <thead>\n    <tr style=\"text-align: right;\">\n      <th></th>\n      <th>pixel1</th>\n      <th>pixel2</th>\n      <th>pixel3</th>\n      <th>pixel4</th>\n      <th>pixel5</th>\n      <th>pixel6</th>\n      <th>pixel7</th>\n      <th>pixel8</th>\n      <th>pixel9</th>\n      <th>pixel10</th>\n      <th>...</th>\n      <th>pixel775</th>\n      <th>pixel776</th>\n      <th>pixel777</th>\n      <th>pixel778</th>\n      <th>pixel779</th>\n      <th>pixel780</th>\n      <th>pixel781</th>\n      <th>pixel782</th>\n      <th>pixel783</th>\n      <th>pixel784</th>\n    </tr>\n  </thead>\n  <tbody>\n    <tr>\n      <th>0</th>\n      <td>0</td>\n      <td>0</td>\n      <td>0</td>\n      <td>0</td>\n      <td>0</td>\n      <td>0</td>\n      <td>0</td>\n      <td>0</td>\n      <td>0</td>\n      <td>0</td>\n      <td>...</td>\n      <td>0</td>\n      <td>0</td>\n      <td>0</td>\n      <td>0</td>\n      <td>0</td>\n      <td>0</td>\n      <td>0</td>\n      <td>0</td>\n      <td>0</td>\n      <td>0</td>\n    </tr>\n    <tr>\n      <th>1</th>\n      <td>0</td>\n      <td>0</td>\n      <td>0</td>\n      <td>0</td>\n      <td>0</td>\n      <td>1</td>\n      <td>0</td>\n      <td>0</td>\n      <td>0</td>\n      <td>0</td>\n      <td>...</td>\n      <td>119</td>\n      <td>114</td>\n      <td>130</td>\n      <td>76</td>\n      <td>0</td>\n      <td>0</td>\n      <td>0</td>\n      <td>0</td>\n      <td>0</td>\n      <td>0</td>\n    </tr>\n    <tr>\n      <th>2</th>\n      <td>0</td>\n      <td>0</td>\n      <td>0</td>\n      <td>0</td>\n      <td>0</td>\n      <td>0</td>\n      <td>0</td>\n      <td>0</td>\n      <td>0</td>\n      <td>22</td>\n      <td>...</td>\n      <td>0</td>\n      <td>0</td>\n      <td>1</td>\n      <td>0</td>\n      <td>0</td>\n      <td>0</td>\n      <td>0</td>\n      <td>0</td>\n      <td>0</td>\n      <td>0</td>\n    </tr>\n    <tr>\n      <th>3</th>\n      <td>0</td>\n      <td>0</td>\n      <td>0</td>\n      <td>0</td>\n      <td>0</td>\n      <td>0</td>\n      <td>0</td>\n      <td>0</td>\n      <td>33</td>\n      <td>96</td>\n      <td>...</td>\n      <td>0</td>\n      <td>0</td>\n      <td>0</td>\n      <td>0</td>\n      <td>0</td>\n      <td>0</td>\n      <td>0</td>\n      <td>0</td>\n      <td>0</td>\n      <td>0</td>\n    </tr>\n    <tr>\n      <th>4</th>\n      <td>0</td>\n      <td>0</td>\n      <td>0</td>\n      <td>0</td>\n      <td>0</td>\n      <td>0</td>\n      <td>0</td>\n      <td>0</td>\n      <td>0</td>\n      <td>0</td>\n      <td>...</td>\n      <td>0</td>\n      <td>0</td>\n      <td>0</td>\n      <td>0</td>\n      <td>0</td>\n      <td>0</td>\n      <td>0</td>\n      <td>0</td>\n      <td>0</td>\n      <td>0</td>\n    </tr>\n    <tr>\n      <th>...</th>\n      <td>...</td>\n      <td>...</td>\n      <td>...</td>\n      <td>...</td>\n      <td>...</td>\n      <td>...</td>\n      <td>...</td>\n      <td>...</td>\n      <td>...</td>\n      <td>...</td>\n      <td>...</td>\n      <td>...</td>\n      <td>...</td>\n      <td>...</td>\n      <td>...</td>\n      <td>...</td>\n      <td>...</td>\n      <td>...</td>\n      <td>...</td>\n      <td>...</td>\n      <td>...</td>\n    </tr>\n    <tr>\n      <th>69995</th>\n      <td>0</td>\n      <td>0</td>\n      <td>0</td>\n      <td>0</td>\n      <td>0</td>\n      <td>0</td>\n      <td>0</td>\n      <td>0</td>\n      <td>0</td>\n      <td>0</td>\n      <td>...</td>\n      <td>0</td>\n      <td>0</td>\n      <td>0</td>\n      <td>0</td>\n      <td>0</td>\n      <td>0</td>\n      <td>0</td>\n      <td>0</td>\n      <td>0</td>\n      <td>0</td>\n    </tr>\n    <tr>\n      <th>69996</th>\n      <td>0</td>\n      <td>0</td>\n      <td>0</td>\n      <td>0</td>\n      <td>0</td>\n      <td>0</td>\n      <td>0</td>\n      <td>0</td>\n      <td>0</td>\n      <td>31</td>\n      <td>...</td>\n      <td>0</td>\n      <td>0</td>\n      <td>0</td>\n      <td>0</td>\n      <td>0</td>\n      <td>0</td>\n      <td>0</td>\n      <td>0</td>\n      <td>0</td>\n      <td>0</td>\n    </tr>\n    <tr>\n      <th>69997</th>\n      <td>0</td>\n      <td>0</td>\n      <td>0</td>\n      <td>0</td>\n      <td>0</td>\n      <td>0</td>\n      <td>0</td>\n      <td>0</td>\n      <td>0</td>\n      <td>0</td>\n      <td>...</td>\n      <td>27</td>\n      <td>0</td>\n      <td>0</td>\n      <td>0</td>\n      <td>0</td>\n      <td>0</td>\n      <td>0</td>\n      <td>0</td>\n      <td>0</td>\n      <td>0</td>\n    </tr>\n    <tr>\n      <th>69998</th>\n      <td>0</td>\n      <td>0</td>\n      <td>0</td>\n      <td>0</td>\n      <td>0</td>\n      <td>0</td>\n      <td>0</td>\n      <td>0</td>\n      <td>0</td>\n      <td>0</td>\n      <td>...</td>\n      <td>0</td>\n      <td>0</td>\n      <td>0</td>\n      <td>0</td>\n      <td>0</td>\n      <td>0</td>\n      <td>0</td>\n      <td>0</td>\n      <td>0</td>\n      <td>0</td>\n    </tr>\n    <tr>\n      <th>69999</th>\n      <td>0</td>\n      <td>0</td>\n      <td>0</td>\n      <td>0</td>\n      <td>0</td>\n      <td>0</td>\n      <td>0</td>\n      <td>0</td>\n      <td>0</td>\n      <td>0</td>\n      <td>...</td>\n      <td>0</td>\n      <td>0</td>\n      <td>0</td>\n      <td>0</td>\n      <td>0</td>\n      <td>0</td>\n      <td>0</td>\n      <td>0</td>\n      <td>0</td>\n      <td>0</td>\n    </tr>\n  </tbody>\n</table>\n<p>70000 rows × 784 columns</p>\n</div>"
     },
     "execution_count": 6,
     "metadata": {},
     "output_type": "execute_result"
    }
   ],
   "source": [
    "fashion_data.data"
   ],
   "metadata": {
    "collapsed": false,
    "ExecuteTime": {
     "end_time": "2024-03-14T05:38:21.275002Z",
     "start_time": "2024-03-14T05:38:21.229949700Z"
    }
   },
   "execution_count": 6
  },
  {
   "cell_type": "code",
   "outputs": [
    {
     "data": {
      "text/plain": "0        9\n1        0\n2        0\n3        3\n4        0\n        ..\n69995    9\n69996    1\n69997    8\n69998    1\n69999    5\nName: class, Length: 70000, dtype: category\nCategories (10, object): ['0', '1', '2', '3', ..., '6', '7', '8', '9']"
     },
     "execution_count": 7,
     "metadata": {},
     "output_type": "execute_result"
    }
   ],
   "source": [
    "fashion_data.target"
   ],
   "metadata": {
    "collapsed": false,
    "ExecuteTime": {
     "end_time": "2024-03-14T05:38:21.297158800Z",
     "start_time": "2024-03-14T05:38:21.271962200Z"
    }
   },
   "execution_count": 7
  },
  {
   "cell_type": "code",
   "outputs": [
    {
     "data": {
      "text/plain": "0        False\n1        False\n2        False\n3        False\n4        False\n         ...  \n69995    False\n69996    False\n69997    False\n69998    False\n69999     True\nName: class, Length: 70000, dtype: bool"
     },
     "execution_count": 8,
     "metadata": {},
     "output_type": "execute_result"
    }
   ],
   "source": [
    "fashion_data.target == '5'"
   ],
   "metadata": {
    "collapsed": false,
    "ExecuteTime": {
     "end_time": "2024-03-14T05:38:21.357801200Z",
     "start_time": "2024-03-14T05:38:21.288189800Z"
    }
   },
   "execution_count": 8
  },
  {
   "cell_type": "code",
   "outputs": [],
   "source": [
    "### ====> 데이터 확인\n",
    "feature = fashion_data.data\n",
    "target = fashion_data.target"
   ],
   "metadata": {
    "collapsed": false,
    "ExecuteTime": {
     "end_time": "2024-03-14T05:38:21.361270900Z",
     "start_time": "2024-03-14T05:38:21.306130100Z"
    }
   },
   "execution_count": 9
  },
  {
   "cell_type": "code",
   "outputs": [
    {
     "name": "stdout",
     "output_type": "stream",
     "text": [
      "Feature => (70000, 784), 2D\n",
      "Target => (70000,), 1D\n"
     ]
    }
   ],
   "source": [
    "## 피쳐와 타겟 겟수 확인\n",
    "print(f'Feature => {feature.shape}, {feature.ndim}D')\n",
    "print(f'Target => {target.shape}, {target.ndim}D')"
   ],
   "metadata": {
    "collapsed": false,
    "ExecuteTime": {
     "end_time": "2024-03-14T05:38:21.406335100Z",
     "start_time": "2024-03-14T05:38:21.320083100Z"
    }
   },
   "execution_count": 10
  },
  {
   "cell_type": "code",
   "outputs": [
    {
     "name": "stdout",
     "output_type": "stream",
     "text": [
      "Featrue name => ['pixel1', 'pixel2', 'pixel3', 'pixel4', 'pixel5', 'pixel6', 'pixel7', 'pixel8', 'pixel9', 'pixel10', 'pixel11', 'pixel12', 'pixel13', 'pixel14', 'pixel15', 'pixel16', 'pixel17', 'pixel18', 'pixel19', 'pixel20', 'pixel21', 'pixel22', 'pixel23', 'pixel24', 'pixel25', 'pixel26', 'pixel27', 'pixel28', 'pixel29', 'pixel30', 'pixel31', 'pixel32', 'pixel33', 'pixel34', 'pixel35', 'pixel36', 'pixel37', 'pixel38', 'pixel39', 'pixel40', 'pixel41', 'pixel42', 'pixel43', 'pixel44', 'pixel45', 'pixel46', 'pixel47', 'pixel48', 'pixel49', 'pixel50', 'pixel51', 'pixel52', 'pixel53', 'pixel54', 'pixel55', 'pixel56', 'pixel57', 'pixel58', 'pixel59', 'pixel60', 'pixel61', 'pixel62', 'pixel63', 'pixel64', 'pixel65', 'pixel66', 'pixel67', 'pixel68', 'pixel69', 'pixel70', 'pixel71', 'pixel72', 'pixel73', 'pixel74', 'pixel75', 'pixel76', 'pixel77', 'pixel78', 'pixel79', 'pixel80', 'pixel81', 'pixel82', 'pixel83', 'pixel84', 'pixel85', 'pixel86', 'pixel87', 'pixel88', 'pixel89', 'pixel90', 'pixel91', 'pixel92', 'pixel93', 'pixel94', 'pixel95', 'pixel96', 'pixel97', 'pixel98', 'pixel99', 'pixel100', 'pixel101', 'pixel102', 'pixel103', 'pixel104', 'pixel105', 'pixel106', 'pixel107', 'pixel108', 'pixel109', 'pixel110', 'pixel111', 'pixel112', 'pixel113', 'pixel114', 'pixel115', 'pixel116', 'pixel117', 'pixel118', 'pixel119', 'pixel120', 'pixel121', 'pixel122', 'pixel123', 'pixel124', 'pixel125', 'pixel126', 'pixel127', 'pixel128', 'pixel129', 'pixel130', 'pixel131', 'pixel132', 'pixel133', 'pixel134', 'pixel135', 'pixel136', 'pixel137', 'pixel138', 'pixel139', 'pixel140', 'pixel141', 'pixel142', 'pixel143', 'pixel144', 'pixel145', 'pixel146', 'pixel147', 'pixel148', 'pixel149', 'pixel150', 'pixel151', 'pixel152', 'pixel153', 'pixel154', 'pixel155', 'pixel156', 'pixel157', 'pixel158', 'pixel159', 'pixel160', 'pixel161', 'pixel162', 'pixel163', 'pixel164', 'pixel165', 'pixel166', 'pixel167', 'pixel168', 'pixel169', 'pixel170', 'pixel171', 'pixel172', 'pixel173', 'pixel174', 'pixel175', 'pixel176', 'pixel177', 'pixel178', 'pixel179', 'pixel180', 'pixel181', 'pixel182', 'pixel183', 'pixel184', 'pixel185', 'pixel186', 'pixel187', 'pixel188', 'pixel189', 'pixel190', 'pixel191', 'pixel192', 'pixel193', 'pixel194', 'pixel195', 'pixel196', 'pixel197', 'pixel198', 'pixel199', 'pixel200', 'pixel201', 'pixel202', 'pixel203', 'pixel204', 'pixel205', 'pixel206', 'pixel207', 'pixel208', 'pixel209', 'pixel210', 'pixel211', 'pixel212', 'pixel213', 'pixel214', 'pixel215', 'pixel216', 'pixel217', 'pixel218', 'pixel219', 'pixel220', 'pixel221', 'pixel222', 'pixel223', 'pixel224', 'pixel225', 'pixel226', 'pixel227', 'pixel228', 'pixel229', 'pixel230', 'pixel231', 'pixel232', 'pixel233', 'pixel234', 'pixel235', 'pixel236', 'pixel237', 'pixel238', 'pixel239', 'pixel240', 'pixel241', 'pixel242', 'pixel243', 'pixel244', 'pixel245', 'pixel246', 'pixel247', 'pixel248', 'pixel249', 'pixel250', 'pixel251', 'pixel252', 'pixel253', 'pixel254', 'pixel255', 'pixel256', 'pixel257', 'pixel258', 'pixel259', 'pixel260', 'pixel261', 'pixel262', 'pixel263', 'pixel264', 'pixel265', 'pixel266', 'pixel267', 'pixel268', 'pixel269', 'pixel270', 'pixel271', 'pixel272', 'pixel273', 'pixel274', 'pixel275', 'pixel276', 'pixel277', 'pixel278', 'pixel279', 'pixel280', 'pixel281', 'pixel282', 'pixel283', 'pixel284', 'pixel285', 'pixel286', 'pixel287', 'pixel288', 'pixel289', 'pixel290', 'pixel291', 'pixel292', 'pixel293', 'pixel294', 'pixel295', 'pixel296', 'pixel297', 'pixel298', 'pixel299', 'pixel300', 'pixel301', 'pixel302', 'pixel303', 'pixel304', 'pixel305', 'pixel306', 'pixel307', 'pixel308', 'pixel309', 'pixel310', 'pixel311', 'pixel312', 'pixel313', 'pixel314', 'pixel315', 'pixel316', 'pixel317', 'pixel318', 'pixel319', 'pixel320', 'pixel321', 'pixel322', 'pixel323', 'pixel324', 'pixel325', 'pixel326', 'pixel327', 'pixel328', 'pixel329', 'pixel330', 'pixel331', 'pixel332', 'pixel333', 'pixel334', 'pixel335', 'pixel336', 'pixel337', 'pixel338', 'pixel339', 'pixel340', 'pixel341', 'pixel342', 'pixel343', 'pixel344', 'pixel345', 'pixel346', 'pixel347', 'pixel348', 'pixel349', 'pixel350', 'pixel351', 'pixel352', 'pixel353', 'pixel354', 'pixel355', 'pixel356', 'pixel357', 'pixel358', 'pixel359', 'pixel360', 'pixel361', 'pixel362', 'pixel363', 'pixel364', 'pixel365', 'pixel366', 'pixel367', 'pixel368', 'pixel369', 'pixel370', 'pixel371', 'pixel372', 'pixel373', 'pixel374', 'pixel375', 'pixel376', 'pixel377', 'pixel378', 'pixel379', 'pixel380', 'pixel381', 'pixel382', 'pixel383', 'pixel384', 'pixel385', 'pixel386', 'pixel387', 'pixel388', 'pixel389', 'pixel390', 'pixel391', 'pixel392', 'pixel393', 'pixel394', 'pixel395', 'pixel396', 'pixel397', 'pixel398', 'pixel399', 'pixel400', 'pixel401', 'pixel402', 'pixel403', 'pixel404', 'pixel405', 'pixel406', 'pixel407', 'pixel408', 'pixel409', 'pixel410', 'pixel411', 'pixel412', 'pixel413', 'pixel414', 'pixel415', 'pixel416', 'pixel417', 'pixel418', 'pixel419', 'pixel420', 'pixel421', 'pixel422', 'pixel423', 'pixel424', 'pixel425', 'pixel426', 'pixel427', 'pixel428', 'pixel429', 'pixel430', 'pixel431', 'pixel432', 'pixel433', 'pixel434', 'pixel435', 'pixel436', 'pixel437', 'pixel438', 'pixel439', 'pixel440', 'pixel441', 'pixel442', 'pixel443', 'pixel444', 'pixel445', 'pixel446', 'pixel447', 'pixel448', 'pixel449', 'pixel450', 'pixel451', 'pixel452', 'pixel453', 'pixel454', 'pixel455', 'pixel456', 'pixel457', 'pixel458', 'pixel459', 'pixel460', 'pixel461', 'pixel462', 'pixel463', 'pixel464', 'pixel465', 'pixel466', 'pixel467', 'pixel468', 'pixel469', 'pixel470', 'pixel471', 'pixel472', 'pixel473', 'pixel474', 'pixel475', 'pixel476', 'pixel477', 'pixel478', 'pixel479', 'pixel480', 'pixel481', 'pixel482', 'pixel483', 'pixel484', 'pixel485', 'pixel486', 'pixel487', 'pixel488', 'pixel489', 'pixel490', 'pixel491', 'pixel492', 'pixel493', 'pixel494', 'pixel495', 'pixel496', 'pixel497', 'pixel498', 'pixel499', 'pixel500', 'pixel501', 'pixel502', 'pixel503', 'pixel504', 'pixel505', 'pixel506', 'pixel507', 'pixel508', 'pixel509', 'pixel510', 'pixel511', 'pixel512', 'pixel513', 'pixel514', 'pixel515', 'pixel516', 'pixel517', 'pixel518', 'pixel519', 'pixel520', 'pixel521', 'pixel522', 'pixel523', 'pixel524', 'pixel525', 'pixel526', 'pixel527', 'pixel528', 'pixel529', 'pixel530', 'pixel531', 'pixel532', 'pixel533', 'pixel534', 'pixel535', 'pixel536', 'pixel537', 'pixel538', 'pixel539', 'pixel540', 'pixel541', 'pixel542', 'pixel543', 'pixel544', 'pixel545', 'pixel546', 'pixel547', 'pixel548', 'pixel549', 'pixel550', 'pixel551', 'pixel552', 'pixel553', 'pixel554', 'pixel555', 'pixel556', 'pixel557', 'pixel558', 'pixel559', 'pixel560', 'pixel561', 'pixel562', 'pixel563', 'pixel564', 'pixel565', 'pixel566', 'pixel567', 'pixel568', 'pixel569', 'pixel570', 'pixel571', 'pixel572', 'pixel573', 'pixel574', 'pixel575', 'pixel576', 'pixel577', 'pixel578', 'pixel579', 'pixel580', 'pixel581', 'pixel582', 'pixel583', 'pixel584', 'pixel585', 'pixel586', 'pixel587', 'pixel588', 'pixel589', 'pixel590', 'pixel591', 'pixel592', 'pixel593', 'pixel594', 'pixel595', 'pixel596', 'pixel597', 'pixel598', 'pixel599', 'pixel600', 'pixel601', 'pixel602', 'pixel603', 'pixel604', 'pixel605', 'pixel606', 'pixel607', 'pixel608', 'pixel609', 'pixel610', 'pixel611', 'pixel612', 'pixel613', 'pixel614', 'pixel615', 'pixel616', 'pixel617', 'pixel618', 'pixel619', 'pixel620', 'pixel621', 'pixel622', 'pixel623', 'pixel624', 'pixel625', 'pixel626', 'pixel627', 'pixel628', 'pixel629', 'pixel630', 'pixel631', 'pixel632', 'pixel633', 'pixel634', 'pixel635', 'pixel636', 'pixel637', 'pixel638', 'pixel639', 'pixel640', 'pixel641', 'pixel642', 'pixel643', 'pixel644', 'pixel645', 'pixel646', 'pixel647', 'pixel648', 'pixel649', 'pixel650', 'pixel651', 'pixel652', 'pixel653', 'pixel654', 'pixel655', 'pixel656', 'pixel657', 'pixel658', 'pixel659', 'pixel660', 'pixel661', 'pixel662', 'pixel663', 'pixel664', 'pixel665', 'pixel666', 'pixel667', 'pixel668', 'pixel669', 'pixel670', 'pixel671', 'pixel672', 'pixel673', 'pixel674', 'pixel675', 'pixel676', 'pixel677', 'pixel678', 'pixel679', 'pixel680', 'pixel681', 'pixel682', 'pixel683', 'pixel684', 'pixel685', 'pixel686', 'pixel687', 'pixel688', 'pixel689', 'pixel690', 'pixel691', 'pixel692', 'pixel693', 'pixel694', 'pixel695', 'pixel696', 'pixel697', 'pixel698', 'pixel699', 'pixel700', 'pixel701', 'pixel702', 'pixel703', 'pixel704', 'pixel705', 'pixel706', 'pixel707', 'pixel708', 'pixel709', 'pixel710', 'pixel711', 'pixel712', 'pixel713', 'pixel714', 'pixel715', 'pixel716', 'pixel717', 'pixel718', 'pixel719', 'pixel720', 'pixel721', 'pixel722', 'pixel723', 'pixel724', 'pixel725', 'pixel726', 'pixel727', 'pixel728', 'pixel729', 'pixel730', 'pixel731', 'pixel732', 'pixel733', 'pixel734', 'pixel735', 'pixel736', 'pixel737', 'pixel738', 'pixel739', 'pixel740', 'pixel741', 'pixel742', 'pixel743', 'pixel744', 'pixel745', 'pixel746', 'pixel747', 'pixel748', 'pixel749', 'pixel750', 'pixel751', 'pixel752', 'pixel753', 'pixel754', 'pixel755', 'pixel756', 'pixel757', 'pixel758', 'pixel759', 'pixel760', 'pixel761', 'pixel762', 'pixel763', 'pixel764', 'pixel765', 'pixel766', 'pixel767', 'pixel768', 'pixel769', 'pixel770', 'pixel771', 'pixel772', 'pixel773', 'pixel774', 'pixel775', 'pixel776', 'pixel777', 'pixel778', 'pixel779', 'pixel780', 'pixel781', 'pixel782', 'pixel783', 'pixel784']\n",
      "Target name => ['class']\n",
      "Categories => None\n",
      "Categories => <bound method Series.unique of 0        9\n",
      "1        0\n",
      "2        0\n",
      "3        3\n",
      "4        0\n",
      "        ..\n",
      "69995    9\n",
      "69996    1\n",
      "69997    8\n",
      "69998    1\n",
      "69999    5\n",
      "Name: class, Length: 70000, dtype: category\n",
      "Categories (10, object): ['0', '1', '2', '3', ..., '6', '7', '8', '9']>\n"
     ]
    }
   ],
   "source": [
    "### 분류 확인 ===>\n",
    "print(f'Featrue name => {fashion_data.feature_names}')\n",
    "print(f'Target name => {fashion_data.target_names}')\n",
    "print(f'Categories => {fashion_data.categories}')\n",
    "print(f'Categories => {target.unique}')"
   ],
   "metadata": {
    "collapsed": false,
    "ExecuteTime": {
     "end_time": "2024-03-14T05:38:21.481343100Z",
     "start_time": "2024-03-14T05:38:21.337173100Z"
    }
   },
   "execution_count": 11
  },
  {
   "cell_type": "markdown",
   "source": [
    "2) 데이터 가공 및 전처리 <hr>\n",
    "- 결측치/중복/이상치 => 없음\n",
    "- 다중분류 ==> 2진분류 변환 : target 변환\n",
    "- 표준화 ==> 이미지 동일 크기 및 색상채널 : 동일 크기(28*28)와 채널(흑백 1) \n",
    "- 정규화 ==> 피쳐 정규화 / 타겟 정규화"
   ],
   "metadata": {
    "collapsed": false
   }
  },
  {
   "cell_type": "code",
   "outputs": [
    {
     "data": {
      "text/plain": "array([False,  True])"
     },
     "execution_count": 12,
     "metadata": {},
     "output_type": "execute_result"
    }
   ],
   "source": [
    "### ===> [2-1]  다중분류 ==> 2진분류 변환 : target 변환\n",
    "target = target == '0'\n",
    "target.unique()"
   ],
   "metadata": {
    "collapsed": false,
    "ExecuteTime": {
     "end_time": "2024-03-14T05:38:21.517095100Z",
     "start_time": "2024-03-14T05:38:21.351733Z"
    }
   },
   "execution_count": 12
  },
  {
   "cell_type": "code",
   "outputs": [
    {
     "data": {
      "text/plain": "   pixel1  pixel2  pixel3  pixel4  pixel5    pixel6  pixel7  pixel8    pixel9  \\\n0     0.0     0.0     0.0     0.0     0.0  0.000000     0.0     0.0  0.000000   \n1     0.0     0.0     0.0     0.0     0.0  0.003922     0.0     0.0  0.000000   \n2     0.0     0.0     0.0     0.0     0.0  0.000000     0.0     0.0  0.000000   \n3     0.0     0.0     0.0     0.0     0.0  0.000000     0.0     0.0  0.129412   \n4     0.0     0.0     0.0     0.0     0.0  0.000000     0.0     0.0  0.000000   \n\n    pixel10  ...  pixel775  pixel776  pixel777  pixel778  pixel779  pixel780  \\\n0  0.000000  ...  0.000000  0.000000  0.000000  0.000000       0.0       0.0   \n1  0.000000  ...  0.466667  0.447059  0.509804  0.298039       0.0       0.0   \n2  0.086275  ...  0.000000  0.000000  0.003922  0.000000       0.0       0.0   \n3  0.376471  ...  0.000000  0.000000  0.000000  0.000000       0.0       0.0   \n4  0.000000  ...  0.000000  0.000000  0.000000  0.000000       0.0       0.0   \n\n   pixel781  pixel782  pixel783  pixel784  \n0       0.0       0.0       0.0       0.0  \n1       0.0       0.0       0.0       0.0  \n2       0.0       0.0       0.0       0.0  \n3       0.0       0.0       0.0       0.0  \n4       0.0       0.0       0.0       0.0  \n\n[5 rows x 784 columns]",
      "text/html": "<div>\n<style scoped>\n    .dataframe tbody tr th:only-of-type {\n        vertical-align: middle;\n    }\n\n    .dataframe tbody tr th {\n        vertical-align: top;\n    }\n\n    .dataframe thead th {\n        text-align: right;\n    }\n</style>\n<table border=\"1\" class=\"dataframe\">\n  <thead>\n    <tr style=\"text-align: right;\">\n      <th></th>\n      <th>pixel1</th>\n      <th>pixel2</th>\n      <th>pixel3</th>\n      <th>pixel4</th>\n      <th>pixel5</th>\n      <th>pixel6</th>\n      <th>pixel7</th>\n      <th>pixel8</th>\n      <th>pixel9</th>\n      <th>pixel10</th>\n      <th>...</th>\n      <th>pixel775</th>\n      <th>pixel776</th>\n      <th>pixel777</th>\n      <th>pixel778</th>\n      <th>pixel779</th>\n      <th>pixel780</th>\n      <th>pixel781</th>\n      <th>pixel782</th>\n      <th>pixel783</th>\n      <th>pixel784</th>\n    </tr>\n  </thead>\n  <tbody>\n    <tr>\n      <th>0</th>\n      <td>0.0</td>\n      <td>0.0</td>\n      <td>0.0</td>\n      <td>0.0</td>\n      <td>0.0</td>\n      <td>0.000000</td>\n      <td>0.0</td>\n      <td>0.0</td>\n      <td>0.000000</td>\n      <td>0.000000</td>\n      <td>...</td>\n      <td>0.000000</td>\n      <td>0.000000</td>\n      <td>0.000000</td>\n      <td>0.000000</td>\n      <td>0.0</td>\n      <td>0.0</td>\n      <td>0.0</td>\n      <td>0.0</td>\n      <td>0.0</td>\n      <td>0.0</td>\n    </tr>\n    <tr>\n      <th>1</th>\n      <td>0.0</td>\n      <td>0.0</td>\n      <td>0.0</td>\n      <td>0.0</td>\n      <td>0.0</td>\n      <td>0.003922</td>\n      <td>0.0</td>\n      <td>0.0</td>\n      <td>0.000000</td>\n      <td>0.000000</td>\n      <td>...</td>\n      <td>0.466667</td>\n      <td>0.447059</td>\n      <td>0.509804</td>\n      <td>0.298039</td>\n      <td>0.0</td>\n      <td>0.0</td>\n      <td>0.0</td>\n      <td>0.0</td>\n      <td>0.0</td>\n      <td>0.0</td>\n    </tr>\n    <tr>\n      <th>2</th>\n      <td>0.0</td>\n      <td>0.0</td>\n      <td>0.0</td>\n      <td>0.0</td>\n      <td>0.0</td>\n      <td>0.000000</td>\n      <td>0.0</td>\n      <td>0.0</td>\n      <td>0.000000</td>\n      <td>0.086275</td>\n      <td>...</td>\n      <td>0.000000</td>\n      <td>0.000000</td>\n      <td>0.003922</td>\n      <td>0.000000</td>\n      <td>0.0</td>\n      <td>0.0</td>\n      <td>0.0</td>\n      <td>0.0</td>\n      <td>0.0</td>\n      <td>0.0</td>\n    </tr>\n    <tr>\n      <th>3</th>\n      <td>0.0</td>\n      <td>0.0</td>\n      <td>0.0</td>\n      <td>0.0</td>\n      <td>0.0</td>\n      <td>0.000000</td>\n      <td>0.0</td>\n      <td>0.0</td>\n      <td>0.129412</td>\n      <td>0.376471</td>\n      <td>...</td>\n      <td>0.000000</td>\n      <td>0.000000</td>\n      <td>0.000000</td>\n      <td>0.000000</td>\n      <td>0.0</td>\n      <td>0.0</td>\n      <td>0.0</td>\n      <td>0.0</td>\n      <td>0.0</td>\n      <td>0.0</td>\n    </tr>\n    <tr>\n      <th>4</th>\n      <td>0.0</td>\n      <td>0.0</td>\n      <td>0.0</td>\n      <td>0.0</td>\n      <td>0.0</td>\n      <td>0.000000</td>\n      <td>0.0</td>\n      <td>0.0</td>\n      <td>0.000000</td>\n      <td>0.000000</td>\n      <td>...</td>\n      <td>0.000000</td>\n      <td>0.000000</td>\n      <td>0.000000</td>\n      <td>0.000000</td>\n      <td>0.0</td>\n      <td>0.0</td>\n      <td>0.0</td>\n      <td>0.0</td>\n      <td>0.0</td>\n      <td>0.0</td>\n    </tr>\n  </tbody>\n</table>\n<p>5 rows × 784 columns</p>\n</div>"
     },
     "execution_count": 13,
     "metadata": {},
     "output_type": "execute_result"
    }
   ],
   "source": [
    "### ===> [2-2] 정규화 ==> 피쳐 : 784개 색상값 즉, 0~255 범위 값\n",
    "norm_feature = feature/255.          # 실수(255.)로 나누었기에 정수(255)가 아니라 실수 결과만 나온다\n",
    "norm_feature.head()"
   ],
   "metadata": {
    "collapsed": false,
    "ExecuteTime": {
     "end_time": "2024-03-14T05:38:22.242979400Z",
     "start_time": "2024-03-14T05:38:21.367598800Z"
    }
   },
   "execution_count": 13
  },
  {
   "cell_type": "code",
   "outputs": [
    {
     "data": {
      "text/plain": "       False  True \n0       True  False\n1      False   True\n2      False   True\n3       True  False\n4      False   True\n...      ...    ...\n69995   True  False\n69996   True  False\n69997   True  False\n69998   True  False\n69999   True  False\n\n[70000 rows x 2 columns]",
      "text/html": "<div>\n<style scoped>\n    .dataframe tbody tr th:only-of-type {\n        vertical-align: middle;\n    }\n\n    .dataframe tbody tr th {\n        vertical-align: top;\n    }\n\n    .dataframe thead th {\n        text-align: right;\n    }\n</style>\n<table border=\"1\" class=\"dataframe\">\n  <thead>\n    <tr style=\"text-align: right;\">\n      <th></th>\n      <th>False</th>\n      <th>True</th>\n    </tr>\n  </thead>\n  <tbody>\n    <tr>\n      <th>0</th>\n      <td>True</td>\n      <td>False</td>\n    </tr>\n    <tr>\n      <th>1</th>\n      <td>False</td>\n      <td>True</td>\n    </tr>\n    <tr>\n      <th>2</th>\n      <td>False</td>\n      <td>True</td>\n    </tr>\n    <tr>\n      <th>3</th>\n      <td>True</td>\n      <td>False</td>\n    </tr>\n    <tr>\n      <th>4</th>\n      <td>False</td>\n      <td>True</td>\n    </tr>\n    <tr>\n      <th>...</th>\n      <td>...</td>\n      <td>...</td>\n    </tr>\n    <tr>\n      <th>69995</th>\n      <td>True</td>\n      <td>False</td>\n    </tr>\n    <tr>\n      <th>69996</th>\n      <td>True</td>\n      <td>False</td>\n    </tr>\n    <tr>\n      <th>69997</th>\n      <td>True</td>\n      <td>False</td>\n    </tr>\n    <tr>\n      <th>69998</th>\n      <td>True</td>\n      <td>False</td>\n    </tr>\n    <tr>\n      <th>69999</th>\n      <td>True</td>\n      <td>False</td>\n    </tr>\n  </tbody>\n</table>\n<p>70000 rows × 2 columns</p>\n</div>"
     },
     "execution_count": 14,
     "metadata": {},
     "output_type": "execute_result"
    }
   ],
   "source": [
    "### ===> [2-2] 정규화 ==> 타겟 : One-Hot 인코딩으로 변환\n",
    "pd.get_dummies(target)        # "
   ],
   "metadata": {
    "collapsed": false,
    "ExecuteTime": {
     "end_time": "2024-03-14T05:38:22.246386200Z",
     "start_time": "2024-03-14T05:38:22.156652900Z"
    }
   },
   "execution_count": 14
  },
  {
   "cell_type": "code",
   "outputs": [
    {
     "name": "stdout",
     "output_type": "stream",
     "text": [
      "(70000, 1)\n"
     ]
    }
   ],
   "source": [
    "from sklearn.preprocessing import OneHotEncoder\n",
    "\n",
    "targetDF = target.to_frame()            # DataFrame 화 시킨다\n",
    "print(targetDF.shape)\n"
   ],
   "metadata": {
    "collapsed": false,
    "ExecuteTime": {
     "end_time": "2024-03-14T05:38:22.306663500Z",
     "start_time": "2024-03-14T05:38:22.185876100Z"
    }
   },
   "execution_count": 15
  },
  {
   "cell_type": "code",
   "outputs": [
    {
     "data": {
      "text/plain": "[array([False,  True])]"
     },
     "execution_count": 16,
     "metadata": {},
     "output_type": "execute_result"
    }
   ],
   "source": [
    "# sparse_output = False : ndarray 타입으로 반환\n",
    "ohencoder = OneHotEncoder(sparse_output=False)         # 압축된게 아니라 풀어서 받게 된다.\n",
    "ohencoder.fit(targetDF)\n",
    "ohencoder.categories_"
   ],
   "metadata": {
    "collapsed": false,
    "ExecuteTime": {
     "end_time": "2024-03-14T05:38:22.307726700Z",
     "start_time": "2024-03-14T05:38:22.207801900Z"
    }
   },
   "execution_count": 16
  },
  {
   "cell_type": "code",
   "outputs": [
    {
     "data": {
      "text/plain": "array([[1., 0.],\n       [0., 1.],\n       [0., 1.],\n       ...,\n       [1., 0.],\n       [1., 0.],\n       [1., 0.]])"
     },
     "execution_count": 17,
     "metadata": {},
     "output_type": "execute_result"
    }
   ],
   "source": [
    "ohencoder.transform(targetDF)"
   ],
   "metadata": {
    "collapsed": false,
    "ExecuteTime": {
     "end_time": "2024-03-14T05:38:22.311852200Z",
     "start_time": "2024-03-14T05:38:22.228916100Z"
    }
   },
   "execution_count": 17
  },
  {
   "cell_type": "code",
   "outputs": [
    {
     "data": {
      "text/plain": "((70000, 2), 2)"
     },
     "execution_count": 18,
     "metadata": {},
     "output_type": "execute_result"
    }
   ],
   "source": [
    "norm_target = ohencoder.transform(targetDF)\n",
    "norm_target.shape, norm_target.ndim"
   ],
   "metadata": {
    "collapsed": false,
    "ExecuteTime": {
     "end_time": "2024-03-14T05:38:22.377921700Z",
     "start_time": "2024-03-14T05:38:22.247455Z"
    }
   },
   "execution_count": 18
  },
  {
   "cell_type": "code",
   "outputs": [],
   "source": [
    "# target5DF = fashion_data.target == '5'      # 시리즈 타입\n",
    "# target5DF"
   ],
   "metadata": {
    "collapsed": false,
    "ExecuteTime": {
     "end_time": "2024-03-14T05:38:22.403290700Z",
     "start_time": "2024-03-14T05:38:22.262073800Z"
    }
   },
   "execution_count": 19
  },
  {
   "cell_type": "code",
   "outputs": [],
   "source": [
    "# fashion_data.data       # DataFrame 타입"
   ],
   "metadata": {
    "collapsed": false,
    "ExecuteTime": {
     "end_time": "2024-03-14T05:38:22.465103300Z",
     "start_time": "2024-03-14T05:38:22.278953700Z"
    }
   },
   "execution_count": 20
  },
  {
   "cell_type": "code",
   "outputs": [],
   "source": [
    "# 훈련데이터\n",
    "x_data = targetDF.values/255              # 스케일링으로 0~255 까지 범위를 0~1 범위로 스케일링\n",
    "y_data = target\n",
    "x_train = torch.FloatTensor(x_data)\n",
    "y_train = torch.FloatTensor(y_data)"
   ],
   "metadata": {
    "collapsed": false,
    "ExecuteTime": {
     "end_time": "2024-03-14T05:38:22.602970200Z",
     "start_time": "2024-03-14T05:38:22.295825400Z"
    }
   },
   "execution_count": 21
  },
  {
   "cell_type": "code",
   "outputs": [
    {
     "data": {
      "text/plain": "tensor([[0.0000],\n        [0.0039],\n        [0.0039],\n        ...,\n        [0.0000],\n        [0.0000],\n        [0.0000]])"
     },
     "execution_count": 22,
     "metadata": {},
     "output_type": "execute_result"
    }
   ],
   "source": [
    "x_train"
   ],
   "metadata": {
    "collapsed": false,
    "ExecuteTime": {
     "end_time": "2024-03-14T05:38:22.632869200Z",
     "start_time": "2024-03-14T05:38:22.343135200Z"
    }
   },
   "execution_count": 22
  },
  {
   "cell_type": "code",
   "outputs": [
    {
     "data": {
      "text/plain": "torch.Size([70000])"
     },
     "execution_count": 23,
     "metadata": {},
     "output_type": "execute_result"
    }
   ],
   "source": [
    "y_train.shape"
   ],
   "metadata": {
    "collapsed": false,
    "ExecuteTime": {
     "end_time": "2024-03-14T05:38:22.699639Z",
     "start_time": "2024-03-14T05:38:22.390944400Z"
    }
   },
   "execution_count": 23
  },
  {
   "cell_type": "code",
   "outputs": [],
   "source": [
    "# y_train=torch.unsqueeze(y_train,dim=1)"
   ],
   "metadata": {
    "collapsed": false,
    "ExecuteTime": {
     "end_time": "2024-03-14T05:38:22.716959700Z",
     "start_time": "2024-03-14T05:38:22.403290700Z"
    }
   },
   "execution_count": 24
  },
  {
   "cell_type": "code",
   "outputs": [
    {
     "name": "stdout",
     "output_type": "stream",
     "text": [
      "torch.Size([70000, 1])\n",
      "torch.Size([70000])\n"
     ]
    }
   ],
   "source": [
    "print(x_train.shape)\n",
    "print(y_train.shape)"
   ],
   "metadata": {
    "collapsed": false,
    "ExecuteTime": {
     "end_time": "2024-03-14T05:38:22.758280700Z",
     "start_time": "2024-03-14T05:38:22.420323Z"
    }
   },
   "execution_count": 25
  },
  {
   "cell_type": "markdown",
   "source": [
    "3) 학습 준비 <hr>\n",
    "- 텐서화\n",
    "- 데이터셋 준비 : 훈련용, 테스트용\n",
    "- 학습 방법 : 지도학습 - 이진분류   => Linear 클래스 + sigmoid 함수\n",
    "- 최적화 방법 : 경사하강법기반의 방법 => Adam, SDG\n",
    "- 손실함수 : 이진분류 손실 계산 함수 => binary_cross_entropy"
   ],
   "metadata": {
    "collapsed": false
   }
  },
  {
   "cell_type": "code",
   "outputs": [
    {
     "data": {
      "text/plain": "array([[1., 0.],\n       [0., 1.],\n       [0., 1.],\n       ...,\n       [1., 0.],\n       [1., 0.],\n       [1., 0.]])"
     },
     "execution_count": 26,
     "metadata": {},
     "output_type": "execute_result"
    }
   ],
   "source": [
    "norm_target"
   ],
   "metadata": {
    "collapsed": false,
    "ExecuteTime": {
     "end_time": "2024-03-14T05:38:22.760324600Z",
     "start_time": "2024-03-14T05:38:22.434237600Z"
    }
   },
   "execution_count": 26
  },
  {
   "cell_type": "code",
   "outputs": [],
   "source": [
    "target_false = norm_target.reshape(2,norm_target.shape[0])[0][0]\n",
    "target_true = norm_target.reshape(2,norm_target.shape[0])[0][1]"
   ],
   "metadata": {
    "collapsed": false,
    "ExecuteTime": {
     "end_time": "2024-03-14T05:41:33.910194700Z",
     "start_time": "2024-03-14T05:41:33.866282300Z"
    }
   },
   "execution_count": 43
  },
  {
   "cell_type": "code",
   "outputs": [
    {
     "data": {
      "text/plain": "array([[1., 0.],\n       [0., 1.],\n       [0., 1.],\n       ...,\n       [1., 0.],\n       [1., 0.],\n       [1., 0.]])"
     },
     "execution_count": 42,
     "metadata": {},
     "output_type": "execute_result"
    }
   ],
   "source": [
    "norm_target"
   ],
   "metadata": {
    "collapsed": false,
    "ExecuteTime": {
     "end_time": "2024-03-14T05:40:23.161799900Z",
     "start_time": "2024-03-14T05:40:23.141833800Z"
    }
   },
   "execution_count": 42
  },
  {
   "cell_type": "code",
   "outputs": [],
   "source": [
    "### ==> 데이터셋 준비 : 60000개 훈련, 10000개 테스트\n",
    "limit = 60000\n",
    "\n",
    "train = norm_feature.iloc[:limit]\n",
    "test = norm_feature.iloc[limit:]\n",
    "\n",
    "train_y = norm_target[:limit]\n",
    "test_y = norm_target[limit:]"
   ],
   "metadata": {
    "collapsed": false,
    "ExecuteTime": {
     "end_time": "2024-03-14T05:43:19.149594400Z",
     "start_time": "2024-03-14T05:43:19.108351300Z"
    }
   },
   "execution_count": 47
  },
  {
   "cell_type": "code",
   "outputs": [
    {
     "name": "stdout",
     "output_type": "stream",
     "text": [
      "train (60000, 784), 2D, (60000, 2), 2D\n",
      "train (10000, 784), 2D, (10000, 2), 2D\n"
     ]
    }
   ],
   "source": [
    "print(f'train {train.shape}, {train.ndim}D, {train_y.shape}, {train_y.ndim}D')\n",
    "print(f'train {test.shape}, {test.ndim}D, {test_y.shape}, {test_y.ndim}D')\n"
   ],
   "metadata": {
    "collapsed": false,
    "ExecuteTime": {
     "end_time": "2024-03-14T05:43:19.553853800Z",
     "start_time": "2024-03-14T05:43:19.528005100Z"
    }
   },
   "execution_count": 48
  },
  {
   "cell_type": "code",
   "outputs": [],
   "source": [
    "### ===> 텐서로 변환\n",
    "X_train = torch.FloatTensor(train.values)\n",
    "X_test = torch.FloatTensor(test.values)\n",
    "\n",
    "y_train = torch.FloatTensor(train_y)\n",
    "y_test = torch.FloatTensor(test_y)"
   ],
   "metadata": {
    "collapsed": false,
    "ExecuteTime": {
     "end_time": "2024-03-14T05:43:59.937335400Z",
     "start_time": "2024-03-14T05:43:59.853398100Z"
    }
   },
   "execution_count": 50
  },
  {
   "cell_type": "code",
   "outputs": [
    {
     "data": {
      "text/plain": "torch.Size([60000, 2])"
     },
     "execution_count": 51,
     "metadata": {},
     "output_type": "execute_result"
    }
   ],
   "source": [
    "y_train.shape"
   ],
   "metadata": {
    "collapsed": false,
    "ExecuteTime": {
     "end_time": "2024-03-14T05:44:01.713339900Z",
     "start_time": "2024-03-14T05:44:01.700760900Z"
    }
   },
   "execution_count": 51
  },
  {
   "cell_type": "code",
   "outputs": [
    {
     "name": "stdout",
     "output_type": "stream",
     "text": [
      "X_train torch.Size([60000, 784]), 2D, torch.Size([60000, 2]), 2D\n",
      "X_test torch.Size([10000, 784]), 2D, torch.Size([10000, 2]), 2D\n"
     ]
    }
   ],
   "source": [
    "print(f'X_train {X_train.shape}, {X_train.ndim}D, {y_train.shape}, {y_train.ndim}D')\n",
    "print(f'X_test {X_test.shape}, {X_test.ndim}D, {y_test.shape}, {y_test.ndim}D')\n",
    "# Linear 는 784 와 2"
   ],
   "metadata": {
    "collapsed": false,
    "ExecuteTime": {
     "end_time": "2024-03-14T05:44:06.028440800Z",
     "start_time": "2024-03-14T05:44:05.996461500Z"
    }
   },
   "execution_count": 52
  },
  {
   "cell_type": "code",
   "outputs": [
    {
     "data": {
      "text/plain": "Linear(in_features=784, out_features=2, bias=True)"
     },
     "execution_count": 53,
     "metadata": {},
     "output_type": "execute_result"
    }
   ],
   "source": [
    "### 학습 인스턴스 생성\n",
    "in_, out_ = X_train.shape[1], y_train.shape[1]\n",
    "model = nn.Linear(in_, out_)\n",
    "model"
   ],
   "metadata": {
    "collapsed": false,
    "ExecuteTime": {
     "end_time": "2024-03-14T05:44:20.188421400Z",
     "start_time": "2024-03-14T05:44:20.145628400Z"
    }
   },
   "execution_count": 53
  },
  {
   "cell_type": "code",
   "outputs": [],
   "source": [
    "### 최적화 인스턴스 생성 ==> 모델에서 사용하는 w, b 변수들 전달\n",
    "optimizer = optim.Adam(model.parameters())"
   ],
   "metadata": {
    "collapsed": false,
    "ExecuteTime": {
     "end_time": "2024-03-14T05:44:28.304847500Z",
     "start_time": "2024-03-14T05:44:28.284949900Z"
    }
   },
   "execution_count": 54
  },
  {
   "cell_type": "code",
   "outputs": [],
   "source": [
    "### 학습횟수 => 샘플 처음부터 끝까지 읽는 것을 기준으로 횟수 지정\n",
    "EPOCHS=150"
   ],
   "metadata": {
    "collapsed": false,
    "ExecuteTime": {
     "end_time": "2024-03-14T05:44:29.788923Z",
     "start_time": "2024-03-14T05:44:29.760208200Z"
    }
   },
   "execution_count": 55
  },
  {
   "cell_type": "markdown",
   "source": [
    "4) 학습<hr>\n",
    "- 반복횟수만큼 학습 진행"
   ],
   "metadata": {
    "collapsed": false
   }
  },
  {
   "cell_type": "code",
   "outputs": [
    {
     "name": "stdout",
     "output_type": "stream",
     "text": [
      "0 Loss => 0.1106966882944107\tTrain Accuracy => 0.9575333595275879\n",
      "1 Loss => 0.11068347841501236\tTrain Accuracy => 0.9575499892234802\n",
      "2 Loss => 0.1106702983379364\tTrain Accuracy => 0.9575499892234802\n",
      "3 Loss => 0.11065711826086044\tTrain Accuracy => 0.9575499892234802\n",
      "4 Loss => 0.11064396053552628\tTrain Accuracy => 0.9575499892234802\n",
      "5 Loss => 0.1106308177113533\tTrain Accuracy => 0.9575499892234802\n",
      "6 Loss => 0.11061768978834152\tTrain Accuracy => 0.9575666785240173\n",
      "7 Loss => 0.11060460656881332\tTrain Accuracy => 0.9575499892234802\n",
      "8 Loss => 0.11059152334928513\tTrain Accuracy => 0.9575333595275879\n",
      "9 Loss => 0.11057844758033752\tTrain Accuracy => 0.9575166702270508\n",
      "10 Loss => 0.1105654165148735\tTrain Accuracy => 0.9575499892234802\n",
      "11 Loss => 0.1105523630976677\tTrain Accuracy => 0.9575499892234802\n",
      "12 Loss => 0.11053934693336487\tTrain Accuracy => 0.9575499892234802\n",
      "13 Loss => 0.11052636802196503\tTrain Accuracy => 0.9575333595275879\n",
      "14 Loss => 0.11051339656114578\tTrain Accuracy => 0.9575333595275879\n",
      "15 Loss => 0.11050044000148773\tTrain Accuracy => 0.9575333595275879\n",
      "16 Loss => 0.11048748344182968\tTrain Accuracy => 0.9575333595275879\n",
      "17 Loss => 0.11047456413507462\tTrain Accuracy => 0.9575499892234802\n",
      "18 Loss => 0.11046165972948074\tTrain Accuracy => 0.9575666785240173\n",
      "19 Loss => 0.11044876277446747\tTrain Accuracy => 0.9575666785240173\n",
      "20 Loss => 0.11043588817119598\tTrain Accuracy => 0.9575499892234802\n",
      "21 Loss => 0.11042303591966629\tTrain Accuracy => 0.9575333595275879\n",
      "22 Loss => 0.11041021347045898\tTrain Accuracy => 0.9575499892234802\n",
      "23 Loss => 0.11039737612009048\tTrain Accuracy => 0.9575499892234802\n",
      "24 Loss => 0.11038456112146378\tTrain Accuracy => 0.9575666785240173\n",
      "25 Loss => 0.11037179082632065\tTrain Accuracy => 0.9575499892234802\n",
      "26 Loss => 0.11035902798175812\tTrain Accuracy => 0.9575499892234802\n",
      "27 Loss => 0.11034628003835678\tTrain Accuracy => 0.9575333595275879\n",
      "28 Loss => 0.11033355444669724\tTrain Accuracy => 0.9575333595275879\n",
      "29 Loss => 0.1103208139538765\tTrain Accuracy => 0.9575333595275879\n",
      "30 Loss => 0.11030813306570053\tTrain Accuracy => 0.9575333595275879\n",
      "31 Loss => 0.11029544472694397\tTrain Accuracy => 0.9575333595275879\n",
      "32 Loss => 0.1102827861905098\tTrain Accuracy => 0.9575666785240173\n",
      "33 Loss => 0.11027013510465622\tTrain Accuracy => 0.9575666785240173\n",
      "34 Loss => 0.11025752127170563\tTrain Accuracy => 0.9575666785240173\n",
      "35 Loss => 0.11024487763643265\tTrain Accuracy => 0.9575666785240173\n",
      "36 Loss => 0.11023230105638504\tTrain Accuracy => 0.9575666785240173\n",
      "37 Loss => 0.11021970957517624\tTrain Accuracy => 0.9575499892234802\n",
      "38 Loss => 0.11020716279745102\tTrain Accuracy => 0.9575499892234802\n",
      "39 Loss => 0.1101946160197258\tTrain Accuracy => 0.9575499892234802\n",
      "40 Loss => 0.11018206179141998\tTrain Accuracy => 0.9575333595275879\n",
      "41 Loss => 0.11016955226659775\tTrain Accuracy => 0.9575499892234802\n",
      "42 Loss => 0.1101570650935173\tTrain Accuracy => 0.9575499892234802\n",
      "43 Loss => 0.11014459282159805\tTrain Accuracy => 0.9575499892234802\n",
      "44 Loss => 0.1101321280002594\tTrain Accuracy => 0.9575833082199097\n",
      "45 Loss => 0.11011967808008194\tTrain Accuracy => 0.9575833082199097\n",
      "46 Loss => 0.11010724306106567\tTrain Accuracy => 0.9575999975204468\n",
      "47 Loss => 0.1100948378443718\tTrain Accuracy => 0.9575999975204468\n",
      "48 Loss => 0.11008244007825851\tTrain Accuracy => 0.9576166868209839\n",
      "49 Loss => 0.11007005721330643\tTrain Accuracy => 0.9576166868209839\n",
      "50 Loss => 0.11005771160125732\tTrain Accuracy => 0.9576333165168762\n",
      "51 Loss => 0.11004535853862762\tTrain Accuracy => 0.9576333165168762\n",
      "52 Loss => 0.11003302037715912\tTrain Accuracy => 0.9576500058174133\n",
      "53 Loss => 0.110020712018013\tTrain Accuracy => 0.9576333165168762\n",
      "54 Loss => 0.11000841110944748\tTrain Accuracy => 0.9576500058174133\n",
      "55 Loss => 0.10999614745378494\tTrain Accuracy => 0.9576500058174133\n",
      "56 Loss => 0.10998387634754181\tTrain Accuracy => 0.9576500058174133\n",
      "57 Loss => 0.10997162759304047\tTrain Accuracy => 0.9576333165168762\n",
      "58 Loss => 0.10995939373970032\tTrain Accuracy => 0.9576333165168762\n",
      "59 Loss => 0.10994718223810196\tTrain Accuracy => 0.9576333165168762\n",
      "60 Loss => 0.1099349781870842\tTrain Accuracy => 0.9576166868209839\n",
      "61 Loss => 0.10992280393838882\tTrain Accuracy => 0.9576166868209839\n",
      "62 Loss => 0.10991062968969345\tTrain Accuracy => 0.9576166868209839\n",
      "63 Loss => 0.10989850014448166\tTrain Accuracy => 0.9576166868209839\n",
      "64 Loss => 0.10988634079694748\tTrain Accuracy => 0.9576333165168762\n",
      "65 Loss => 0.10987421870231628\tTrain Accuracy => 0.9576500058174133\n",
      "66 Loss => 0.10986212641000748\tTrain Accuracy => 0.9576333165168762\n",
      "67 Loss => 0.10985004901885986\tTrain Accuracy => 0.9576333165168762\n",
      "68 Loss => 0.10983798652887344\tTrain Accuracy => 0.9576833248138428\n",
      "69 Loss => 0.10982592403888702\tTrain Accuracy => 0.9577000141143799\n",
      "70 Loss => 0.1098138764500618\tTrain Accuracy => 0.9577000141143799\n",
      "71 Loss => 0.10980186611413956\tTrain Accuracy => 0.9577166438102722\n",
      "72 Loss => 0.10978984832763672\tTrain Accuracy => 0.9577166438102722\n",
      "73 Loss => 0.10977786779403687\tTrain Accuracy => 0.9577166438102722\n",
      "74 Loss => 0.10976589471101761\tTrain Accuracy => 0.9577333331108093\n",
      "75 Loss => 0.10975393652915955\tTrain Accuracy => 0.9577166438102722\n",
      "76 Loss => 0.10974199324846268\tTrain Accuracy => 0.9577166438102722\n",
      "77 Loss => 0.109730064868927\tTrain Accuracy => 0.9577166438102722\n",
      "78 Loss => 0.10971815139055252\tTrain Accuracy => 0.9577333331108093\n",
      "79 Loss => 0.10970625281333923\tTrain Accuracy => 0.9577666521072388\n",
      "80 Loss => 0.10969438403844833\tTrain Accuracy => 0.9577666521072388\n",
      "81 Loss => 0.10968252271413803\tTrain Accuracy => 0.9577666521072388\n",
      "82 Loss => 0.10967066884040833\tTrain Accuracy => 0.9577833414077759\n",
      "83 Loss => 0.10965882241725922\tTrain Accuracy => 0.9577999711036682\n",
      "84 Loss => 0.1096469983458519\tTrain Accuracy => 0.9578166604042053\n",
      "85 Loss => 0.10963521152734756\tTrain Accuracy => 0.9577999711036682\n",
      "86 Loss => 0.10962343215942383\tTrain Accuracy => 0.9577999711036682\n",
      "87 Loss => 0.10961166024208069\tTrain Accuracy => 0.9577999711036682\n",
      "88 Loss => 0.10959990322589874\tTrain Accuracy => 0.9578333497047424\n",
      "89 Loss => 0.1095881462097168\tTrain Accuracy => 0.957883358001709\n",
      "90 Loss => 0.10957643389701843\tTrain Accuracy => 0.957883358001709\n",
      "91 Loss => 0.10956472903490067\tTrain Accuracy => 0.9578999876976013\n",
      "92 Loss => 0.1095530241727829\tTrain Accuracy => 0.9578999876976013\n",
      "93 Loss => 0.10954134911298752\tTrain Accuracy => 0.9578999876976013\n",
      "94 Loss => 0.10952968895435333\tTrain Accuracy => 0.957883358001709\n",
      "95 Loss => 0.10951803624629974\tTrain Accuracy => 0.9578666687011719\n",
      "96 Loss => 0.10950639843940735\tTrain Accuracy => 0.9578499794006348\n",
      "97 Loss => 0.10949477553367615\tTrain Accuracy => 0.9578333497047424\n",
      "98 Loss => 0.10948318243026733\tTrain Accuracy => 0.9578666687011719\n",
      "99 Loss => 0.10947159677743912\tTrain Accuracy => 0.957883358001709\n",
      "100 Loss => 0.1094600260257721\tTrain Accuracy => 0.957883358001709\n",
      "101 Loss => 0.10944844782352448\tTrain Accuracy => 0.9578499794006348\n",
      "102 Loss => 0.10943691432476044\tTrain Accuracy => 0.9578333497047424\n",
      "103 Loss => 0.109425388276577\tTrain Accuracy => 0.9578333497047424\n",
      "104 Loss => 0.10941387712955475\tTrain Accuracy => 0.9578499794006348\n",
      "105 Loss => 0.1094023808836937\tTrain Accuracy => 0.9578333497047424\n",
      "106 Loss => 0.10939089208841324\tTrain Accuracy => 0.9578333497047424\n",
      "107 Loss => 0.10937940329313278\tTrain Accuracy => 0.9578333497047424\n",
      "108 Loss => 0.1093679666519165\tTrain Accuracy => 0.9578333497047424\n",
      "109 Loss => 0.10935653001070023\tTrain Accuracy => 0.9578499794006348\n",
      "110 Loss => 0.10934510827064514\tTrain Accuracy => 0.9578499794006348\n",
      "111 Loss => 0.10933370143175125\tTrain Accuracy => 0.9578333497047424\n",
      "112 Loss => 0.10932231694459915\tTrain Accuracy => 0.9578333497047424\n",
      "113 Loss => 0.10931091010570526\tTrain Accuracy => 0.9578666687011719\n",
      "114 Loss => 0.10929955542087555\tTrain Accuracy => 0.9578666687011719\n",
      "115 Loss => 0.10928820073604584\tTrain Accuracy => 0.9578666687011719\n",
      "116 Loss => 0.10927686840295792\tTrain Accuracy => 0.957883358001709\n",
      "117 Loss => 0.10926555097103119\tTrain Accuracy => 0.9578666687011719\n",
      "118 Loss => 0.10925425589084625\tTrain Accuracy => 0.9578666687011719\n",
      "119 Loss => 0.10924296081066132\tTrain Accuracy => 0.957883358001709\n",
      "120 Loss => 0.10923167318105698\tTrain Accuracy => 0.9579166769981384\n",
      "121 Loss => 0.10922040790319443\tTrain Accuracy => 0.9579166769981384\n",
      "122 Loss => 0.10920917242765427\tTrain Accuracy => 0.9579166769981384\n",
      "123 Loss => 0.10919792950153351\tTrain Accuracy => 0.9579166769981384\n",
      "124 Loss => 0.10918670892715454\tTrain Accuracy => 0.9579166769981384\n",
      "125 Loss => 0.10917550325393677\tTrain Accuracy => 0.9579333066940308\n",
      "126 Loss => 0.10916431248188019\tTrain Accuracy => 0.9579333066940308\n",
      "127 Loss => 0.10915312170982361\tTrain Accuracy => 0.9579499959945679\n",
      "128 Loss => 0.10914197564125061\tTrain Accuracy => 0.9579333066940308\n",
      "129 Loss => 0.10913082957267761\tTrain Accuracy => 0.9579333066940308\n",
      "130 Loss => 0.10911969095468521\tTrain Accuracy => 0.9579333066940308\n",
      "131 Loss => 0.1091085746884346\tTrain Accuracy => 0.9579333066940308\n",
      "132 Loss => 0.10909745842218399\tTrain Accuracy => 0.957966685295105\n",
      "133 Loss => 0.10908637195825577\tTrain Accuracy => 0.957966685295105\n",
      "134 Loss => 0.10907530784606934\tTrain Accuracy => 0.9579833149909973\n",
      "135 Loss => 0.10906423628330231\tTrain Accuracy => 0.9579833149909973\n",
      "136 Loss => 0.10905318707227707\tTrain Accuracy => 0.9580000042915344\n",
      "137 Loss => 0.10904215276241302\tTrain Accuracy => 0.9580000042915344\n",
      "138 Loss => 0.10903111845254898\tTrain Accuracy => 0.958050012588501\n",
      "139 Loss => 0.10902011394500732\tTrain Accuracy => 0.9580666422843933\n",
      "140 Loss => 0.10900913178920746\tTrain Accuracy => 0.9580666422843933\n",
      "141 Loss => 0.10899814963340759\tTrain Accuracy => 0.9580833315849304\n",
      "142 Loss => 0.10898719727993011\tTrain Accuracy => 0.9580833315849304\n",
      "143 Loss => 0.10897624492645264\tTrain Accuracy => 0.9581000208854675\n",
      "144 Loss => 0.10896531492471695\tTrain Accuracy => 0.9581000208854675\n",
      "145 Loss => 0.10895437747240067\tTrain Accuracy => 0.9580833315849304\n",
      "146 Loss => 0.10894346982240677\tTrain Accuracy => 0.9580666422843933\n",
      "147 Loss => 0.10893258452415466\tTrain Accuracy => 0.9580666422843933\n",
      "148 Loss => 0.10892169922590256\tTrain Accuracy => 0.9580833315849304\n",
      "149 Loss => 0.10891083627939224\tTrain Accuracy => 0.9580833315849304\n"
     ]
    }
   ],
   "source": [
    "loss_accuracy =[[],[]]       # 로스율이 들어갈 리스트\n",
    "\n",
    "for ep in range(EPOCHS):\n",
    "    # 학습\n",
    "    pre_y = model(X_train)\n",
    "    # print(f'예측값 : {pre_y}')\n",
    "    \n",
    "    # 분류값 변환\n",
    "    pre_y2=F.sigmoid(pre_y)\n",
    "    # print(f'분류값 : {pre_y2}')\n",
    "    \n",
    "    # 오차 즉 손실 계산\n",
    "    loss = F.binary_cross_entropy(pre_y2, y_train)\n",
    "    loss_accuracy[0].append(loss.item())\n",
    "    print(f'{ep} Loss => {loss}',end='\\t')\n",
    "    \n",
    "    # w, b 업데이트\n",
    "    optimizer.zero_grad()\n",
    "    loss.backward()             # 손실함수 계산값으로 미분 진행하여 새로운 w,b 계산\n",
    "    optimizer.step()            # 새로운 값으로 w, b 업데이트\n",
    "    \n",
    "    # 정확도() 계산 => 예측값을 0과 1로 변환 => 정답과 비교\n",
    "    train_accuracy = (torch.argmax(pre_y2, dim=1)==torch.argmax(y_train, dim=1)).sum()/ y_train.shape[0]\n",
    "    print(f'Train Accuracy => {train_accuracy}')\n",
    "    loss_accuracy[1].append(train_accuracy.item())"
   ],
   "metadata": {
    "collapsed": false,
    "ExecuteTime": {
     "end_time": "2024-03-14T06:02:47.903636200Z",
     "start_time": "2024-03-14T06:02:43.997985200Z"
    }
   },
   "execution_count": 64
  },
  {
   "cell_type": "code",
   "outputs": [
    {
     "data": {
      "text/plain": "tensor(0.9466)"
     },
     "execution_count": 36,
     "metadata": {},
     "output_type": "execute_result"
    }
   ],
   "source": [
    "(y_train == (pre_y>=0.5)).sum() / y_train.shape[0]"
   ],
   "metadata": {
    "collapsed": false,
    "ExecuteTime": {
     "end_time": "2024-03-14T05:38:26.440208400Z",
     "start_time": "2024-03-14T05:38:26.414250Z"
    }
   },
   "execution_count": 36
  },
  {
   "cell_type": "code",
   "outputs": [
    {
     "data": {
      "text/plain": "<Figure size 640x480 with 2 Axes>",
      "image/png": "[encoded data removed]"
     },
     "metadata": {},
     "output_type": "display_data"
    }
   ],
   "source": [
    "## 손실과 정확도 시각화\n",
    "import matplotlib.pyplot as plt\n",
    "fig, ax1 = plt.subplots()\n",
    "\n",
    "ax1.plot(loss_accuracy[0], label='Loss', color ='red')\n",
    "ax1.legend()\n",
    "ax2 = ax1.twinx()\n",
    "ax2.plot(loss_accuracy[1], label='Accuracy')\n",
    "plt.legend()\n",
    "plt.show()"
   ],
   "metadata": {
    "collapsed": false,
    "ExecuteTime": {
     "end_time": "2024-03-14T05:38:27.190344Z",
     "start_time": "2024-03-14T05:38:26.438138600Z"
    }
   },
   "execution_count": 37
  },
  {
   "cell_type": "code",
   "outputs": [],
   "source": [],
   "metadata": {
    "collapsed": false,
    "ExecuteTime": {
     "end_time": "2024-03-14T05:38:27.232979600Z",
     "start_time": "2024-03-14T05:38:27.186090800Z"
    }
   },
   "execution_count": 37
  },
  {
   "cell_type": "markdown",
   "source": [
    "다중분류는 sigmoid 필요없이 softmax 도 상관없이 cross_entrophy가 포함하고있다"
   ],
   "metadata": {
    "collapsed": false
   }
  },
  {
   "cell_type": "code",
   "outputs": [],
   "source": [],
   "metadata": {
    "collapsed": false,
    "ExecuteTime": {
     "end_time": "2024-03-14T05:38:27.236258200Z",
     "start_time": "2024-03-14T05:38:27.223101Z"
    }
   },
   "execution_count": 37
  },
  {
   "cell_type": "code",
   "outputs": [],
   "source": [],
   "metadata": {
    "collapsed": false,
    "ExecuteTime": {
     "end_time": "2024-03-14T05:38:27.261802Z",
     "start_time": "2024-03-14T05:38:27.231905300Z"
    }
   },
   "execution_count": 37
  },
  {
   "cell_type": "code",
   "outputs": [],
   "source": [
    "# # 모델 설계\n",
    "# model = nn.Sequential(\n",
    "#     nn.Linear(784,1),      # input: 2차원,  output : 1차원\n",
    "#     nn.Sigmoid()        # 출력은 시그모이드 함수 거침\n",
    "# )\n",
    "# \n",
    "# # optimizer 설정\n",
    "# optimizer = optim.SGD(model.parameters(), lr=0.9)\n"
   ],
   "metadata": {
    "collapsed": false,
    "ExecuteTime": {
     "end_time": "2024-03-14T05:38:27.299687500Z",
     "start_time": "2024-03-14T05:38:27.256033Z"
    }
   },
   "execution_count": 38
  },
  {
   "cell_type": "code",
   "outputs": [],
   "source": [
    "# # 학습 -----------------------------------------\n",
    "#     \n",
    "# def training():\n",
    "#     nb_epochs = 1000\n",
    "#     for epoch in range(nb_epochs + 1):\n",
    "# \n",
    "#         # H(x) 계산\n",
    "#         hypothesis = model(x_train)\n",
    "# \n",
    "#         # cost 계산 => 이진 분류 손실함수  binary_cross_entropy()\n",
    "#         cost = F.binary_cross_entropy(hypothesis, y_train)\n",
    "# \n",
    "#         # cost로 W,b값 업데이트\n",
    "#         optimizer.zero_grad()\n",
    "#         cost.backward()\n",
    "#         optimizer.step()\n",
    "# \n",
    "#         # 20번마다 로그 출력\n",
    "#         if epoch % 10 == 0:\n",
    "#             prediction = hypothesis >= torch.FloatTensor([0.5])     # 예측값이 0.5를 넘으면 True로 간주\n",
    "#             correct_prediction = prediction.float() == y_train      # 실제값과 일치하는 경우만 True로 간주\n",
    "#             accuracy = correct_prediction.sum().item() / len(correct_prediction) # 정확도를 계산\n",
    "#  \n",
    "#             print(f'Epoch {epoch:4d}/{nb_epochs} Cost: {cost.item():.6f} Accuracy {accuracy * 100:2.2f}%')\n",
    "#     "
   ],
   "metadata": {
    "collapsed": false,
    "ExecuteTime": {
     "end_time": "2024-03-14T05:38:27.317222400Z",
     "start_time": "2024-03-14T05:38:27.275410800Z"
    }
   },
   "execution_count": 39
  },
  {
   "cell_type": "code",
   "outputs": [],
   "source": [
    "# training()"
   ],
   "metadata": {
    "collapsed": false,
    "ExecuteTime": {
     "end_time": "2024-03-14T05:38:27.328242900Z",
     "start_time": "2024-03-14T05:38:27.287203400Z"
    }
   },
   "execution_count": 40
  },
  {
   "cell_type": "code",
   "outputs": [],
   "source": [],
   "metadata": {
    "collapsed": false,
    "ExecuteTime": {
     "end_time": "2024-03-14T05:38:27.330341100Z",
     "start_time": "2024-03-14T05:38:27.303317900Z"
    }
   },
   "execution_count": 40
  }
 ],
 "metadata": {
  "kernelspec": {
   "display_name": "TORCH_PY38",
   "language": "python",
   "name": "python3"
  },
  "language_info": {
   "codemirror_mode": {
    "name": "ipython",
    "version": 3
   },
   "file_extension": ".py",
   "mimetype": "text/x-python",
   "name": "python",
   "nbconvert_exporter": "python",
   "pygments_lexer": "ipython3",
   "version": "3.8.18"
  }
 },
 "nbformat": 4,
 "nbformat_minor": 2
}
