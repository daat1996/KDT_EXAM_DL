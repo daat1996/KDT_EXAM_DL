{
 "cells": [
  {
   "cell_type": "markdown",
   "source": [
    "### softmax(), sigmoid() 함수 <hr>\n",
    "- sigmoid() : y=wx+b 결과를 전달 ===> 반환 : 0.0 ~ 1.0 사이 값으로 변환 ==> 이진분류\n",
    "- softmax() : y=wx+b 결과 여러개 전달 ===> 반환 : 여러개의 결과값의 합이 1.0이 되도록 변환 ==> 다중분류"
   ],
   "metadata": {
    "collapsed": false
   },
   "id": "4cf1c32dda76881a"
  },
  {
   "cell_type": "code",
   "outputs": [],
   "source": [
    "## 모듈로딩\n",
    "import torch                            # 파이토치 기본 모듈로 텐서 및 기본 함수들\n",
    "import torch.nn.functional as F         # 파이토치 인공신경만 관련 함수들\n",
    "import torch.nn as nn\n",
    "import torch.optim as optim"
   ],
   "metadata": {
    "collapsed": false,
    "ExecuteTime": {
     "end_time": "2024-03-14T01:30:22.713409Z",
     "start_time": "2024-03-14T01:30:21.337186100Z"
    }
   },
   "id": "b61bdd0111dce941",
   "execution_count": 2
  },
  {
   "cell_type": "code",
   "outputs": [
    {
     "data": {
      "text/plain": "torch.Size([5])"
     },
     "execution_count": 3,
     "metadata": {},
     "output_type": "execute_result"
    }
   ],
   "source": [
    "# 임의 데이터 생성\n",
    "data1 = torch.tensor([1,2,1,1,2])\n",
    "data1.shape"
   ],
   "metadata": {
    "collapsed": false,
    "ExecuteTime": {
     "end_time": "2024-03-14T01:30:22.728114600Z",
     "start_time": "2024-03-14T01:30:22.718685600Z"
    }
   },
   "id": "188a9c82e42ff1fb",
   "execution_count": 3
  },
  {
   "cell_type": "code",
   "outputs": [
    {
     "data": {
      "text/plain": "tensor([0.7311, 0.8808, 0.7311, 0.7311, 0.8808])"
     },
     "execution_count": 4,
     "metadata": {},
     "output_type": "execute_result"
    }
   ],
   "source": [
    "F.sigmoid(data1)"
   ],
   "metadata": {
    "collapsed": false,
    "ExecuteTime": {
     "end_time": "2024-03-14T01:30:55.971416300Z",
     "start_time": "2024-03-14T01:30:55.964147800Z"
    }
   },
   "id": "d7b040e2bd9fc518",
   "execution_count": 4
  },
  {
   "cell_type": "code",
   "outputs": [
    {
     "data": {
      "text/plain": "(torch.Size([1, 5]), tensor([[1, 2, 1, 1, 2]]))"
     },
     "execution_count": 7,
     "metadata": {},
     "output_type": "execute_result"
    }
   ],
   "source": [
    "data2 = data1.unsqueeze(dim=0)      # 0을 주면 앞에, 1을 주면 뒤에 붙는다\n",
    "data2.shape, data2"
   ],
   "metadata": {
    "collapsed": false,
    "ExecuteTime": {
     "end_time": "2024-03-14T01:34:08.631842400Z",
     "start_time": "2024-03-14T01:34:08.620985400Z"
    }
   },
   "id": "a0d6b7f0a7b840c3",
   "execution_count": 7
  },
  {
   "cell_type": "code",
   "outputs": [
    {
     "data": {
      "text/plain": "tensor([[-1.6401,  0.6775, -1.0545],\n        [-0.5932, -0.7467,  0.2982]])"
     },
     "execution_count": 8,
     "metadata": {},
     "output_type": "execute_result"
    }
   ],
   "source": [
    "input = torch.randn(2, 3)\n",
    "input"
   ],
   "metadata": {
    "collapsed": false,
    "ExecuteTime": {
     "end_time": "2024-03-14T01:38:30.948479100Z",
     "start_time": "2024-03-14T01:38:30.930585Z"
    }
   },
   "id": "f829eb5c528b2094",
   "execution_count": 8
  },
  {
   "cell_type": "code",
   "outputs": [
    {
     "name": "stderr",
     "output_type": "stream",
     "text": [
      "C:\\Users\\KDP-23\\AppData\\Local\\Temp\\ipykernel_19572\\3683852505.py:1: UserWarning: Implicit dimension choice for softmax has been deprecated. Change the call to include dim=X as an argument.\n",
      "  output = F.softmax(input)\n"
     ]
    },
    {
     "data": {
      "text/plain": "tensor([[0.0772, 0.7840, 0.1387],\n        [0.2328, 0.1996, 0.5676]])"
     },
     "execution_count": 9,
     "metadata": {},
     "output_type": "execute_result"
    }
   ],
   "source": [
    "output = F.softmax(input)\n",
    "output"
   ],
   "metadata": {
    "collapsed": false,
    "ExecuteTime": {
     "end_time": "2024-03-14T01:38:45.199644Z",
     "start_time": "2024-03-14T01:38:45.180500Z"
    }
   },
   "id": "f2cb16fa3c40fbee",
   "execution_count": 9
  },
  {
   "cell_type": "code",
   "outputs": [
    {
     "data": {
      "text/plain": "tensor([0.3100, 0.9837, 0.7063])"
     },
     "execution_count": 11,
     "metadata": {},
     "output_type": "execute_result"
    }
   ],
   "source": [
    "output.sum(dim=0)       # 열단위 합"
   ],
   "metadata": {
    "collapsed": false,
    "ExecuteTime": {
     "end_time": "2024-03-14T01:40:15.989201200Z",
     "start_time": "2024-03-14T01:40:15.966530800Z"
    }
   },
   "id": "598e07115d3f2d70",
   "execution_count": 11
  },
  {
   "cell_type": "code",
   "outputs": [
    {
     "data": {
      "text/plain": "tensor([1.0000, 1.0000])"
     },
     "execution_count": 13,
     "metadata": {},
     "output_type": "execute_result"
    }
   ],
   "source": [
    "output.sum(dim=1)       # 행단위 합"
   ],
   "metadata": {
    "collapsed": false,
    "ExecuteTime": {
     "end_time": "2024-03-14T01:40:33.625030800Z",
     "start_time": "2024-03-14T01:40:33.614510300Z"
    }
   },
   "id": "9af4c66d7c44b427",
   "execution_count": 13
  },
  {
   "cell_type": "code",
   "outputs": [
    {
     "data": {
      "text/plain": "torch.return_types.max(\nvalues=tensor([0.7840, 0.5676]),\nindices=tensor([1, 2]))"
     },
     "execution_count": 15,
     "metadata": {},
     "output_type": "execute_result"
    }
   ],
   "source": [
    "output.max(dim=1)       # 인덱스만 빼려면 인덱싱 하면 된다."
   ],
   "metadata": {
    "collapsed": false,
    "ExecuteTime": {
     "end_time": "2024-03-14T01:41:29.666539400Z",
     "start_time": "2024-03-14T01:41:29.643642400Z"
    }
   },
   "id": "550e43ed6ee1bf9c",
   "execution_count": 15
  },
  {
   "cell_type": "code",
   "outputs": [
    {
     "data": {
      "text/plain": "tensor([1, 2])"
     },
     "execution_count": 16,
     "metadata": {},
     "output_type": "execute_result"
    }
   ],
   "source": [
    "output.max(dim=1)[1]"
   ],
   "metadata": {
    "collapsed": false,
    "ExecuteTime": {
     "end_time": "2024-03-14T01:41:39.648368700Z",
     "start_time": "2024-03-14T01:41:39.615332800Z"
    }
   },
   "id": "d782b927cac3f7d5",
   "execution_count": 16
  },
  {
   "cell_type": "code",
   "outputs": [],
   "source": [],
   "metadata": {
    "collapsed": false
   },
   "id": "2cd1b8e71bf8c797"
  }
 ],
 "metadata": {
  "kernelspec": {
   "display_name": "Python 3",
   "language": "python",
   "name": "python3"
  },
  "language_info": {
   "codemirror_mode": {
    "name": "ipython",
    "version": 2
   },
   "file_extension": ".py",
   "mimetype": "text/x-python",
   "name": "python",
   "nbconvert_exporter": "python",
   "pygments_lexer": "ipython2",
   "version": "2.7.6"
  }
 },
 "nbformat": 4,
 "nbformat_minor": 5
}
