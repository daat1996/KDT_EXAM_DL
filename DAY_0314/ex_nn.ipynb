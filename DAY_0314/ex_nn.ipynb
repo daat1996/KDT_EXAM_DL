{
 "cells": [
  {
   "cell_type": "markdown",
   "source": [
    "### 인공신경망 모델 클래스 만들기 <hr> \n",
    "- 부모 클래스 : nn.Module 상속 받음\n",
    "- 필수 오버라이딩 메서드: __init__(), forward()\n",
    "- "
   ],
   "metadata": {
    "collapsed": false
   },
   "id": "a1bcba74bafd7e75"
  },
  {
   "cell_type": "markdown",
   "source": [
    "[1] 모듈로딩 <hr>"
   ],
   "metadata": {
    "collapsed": false
   },
   "id": "12964c922e356c32"
  },
  {
   "cell_type": "code",
   "outputs": [],
   "source": [
    "import torch\n",
    "import torch.nn as nn"
   ],
   "metadata": {
    "collapsed": false,
    "ExecuteTime": {
     "end_time": "2024-03-14T08:25:03.412608900Z",
     "start_time": "2024-03-14T08:25:03.398923800Z"
    }
   },
   "id": "129e60db5fc60303",
   "execution_count": 2
  },
  {
   "cell_type": "code",
   "outputs": [],
   "source": [
    "# 로지스틱회귀 모델 클래스 생성\n",
    "# -Linear+ sigmoid\n",
    "\n",
    "class LogicLinear(nn.Module):\n",
    "    # 모델 구조 설정\n",
    "    def __init__(self,in_,out_):\n",
    "        #부모 만들기\n",
    "        super().__init__()\n",
    "        self.layer1=nn.Linear(in_,10)\n",
    "        self.sigmoid1=nn.Sigmoid()\n",
    "        #변환을 해주는 녀석일 뿐, 다른 의미는 없다. layer자리에는 이름 맘대로 넣어도 된다.\n",
    "        self.layer2=nn.Linear(10,out_)\n",
    "        self.sigmoid2=nn.Sigmoid()  #만약 하나 더 넣는다면? 헌거의 열과 새거의 행이 같아야 한다.\n",
    "        \n",
    "    #순방향 학습 진행 콜백함수(순전파)\n",
    "    def forward(self,x): #x가 입력 데이터,레이어에게 x를 주어야 한다.\n",
    "        y=self.layer1(x)\n",
    "        z=self.sigmoid1(y) #y는 시그모이드에게 가야한다.\n",
    "        y=self.layer2(x)\n",
    "        z=self.sigmoid2(y) #y는 시그모이드에게 가야한다.\n",
    "        return z\n",
    "        #y=self.layer1(x)\n",
    "        #z=self.sigmoid(y)\n",
    "        #return z\n",
    "        \n",
    "        "
   ],
   "metadata": {
    "collapsed": false,
    "ExecuteTime": {
     "end_time": "2024-03-14T08:41:18.994130300Z",
     "start_time": "2024-03-14T08:41:18.986733Z"
    }
   },
   "id": "9026c6445eff3779",
   "execution_count": 20
  },
  {
   "cell_type": "code",
   "outputs": [
    {
     "name": "stdout",
     "output_type": "stream",
     "text": [
      "모델 구조 확인==== :LogicLinear(\n",
      "  (layer1): Linear(in_features=784, out_features=10, bias=True)\n",
      "  (sigmoid1): Sigmoid()\n",
      "  (layer2): Linear(in_features=10, out_features=3, bias=True)\n",
      "  (sigmoid2): Sigmoid()\n",
      ")\n"
     ]
    }
   ],
   "source": [
    "\n",
    "ll=LogicLinear(784,3)\n",
    "print(f'모델 구조 확인==== :{ll}')"
   ],
   "metadata": {
    "collapsed": false,
    "ExecuteTime": {
     "end_time": "2024-03-14T08:42:01.486487900Z",
     "start_time": "2024-03-14T08:42:01.461547800Z"
    }
   },
   "id": "713aa91ca09e8e0d",
   "execution_count": 27
  },
  {
   "cell_type": "code",
   "outputs": [
    {
     "data": {
      "text/plain": "<generator object Module.parameters at 0x000001FD1D284430>"
     },
     "execution_count": 28,
     "metadata": {},
     "output_type": "execute_result"
    }
   ],
   "source": [
    "ll.parameters()"
   ],
   "metadata": {
    "collapsed": false,
    "ExecuteTime": {
     "end_time": "2024-03-14T08:42:01.938931700Z",
     "start_time": "2024-03-14T08:42:01.923325300Z"
    }
   },
   "id": "7aff375350cefd99",
   "execution_count": 28
  },
  {
   "cell_type": "code",
   "outputs": [
    {
     "name": "stdout",
     "output_type": "stream",
     "text": [
      "f모델 구성 w,b ===== \n",
      "Parameter containing:\n",
      "tensor([[ 0.0332,  0.0273,  0.0135,  ...,  0.0029,  0.0046,  0.0196],\n",
      "        [-0.0033,  0.0121,  0.0284,  ..., -0.0051, -0.0189, -0.0241],\n",
      "        [ 0.0003,  0.0324,  0.0237,  ..., -0.0338,  0.0217, -0.0330],\n",
      "        ...,\n",
      "        [ 0.0274,  0.0348, -0.0198,  ..., -0.0261,  0.0203, -0.0248],\n",
      "        [ 0.0162,  0.0239, -0.0223,  ...,  0.0337,  0.0059,  0.0050],\n",
      "        [-0.0104, -0.0127, -0.0164,  ...,  0.0083, -0.0285, -0.0060]],\n",
      "       requires_grad=True)\n",
      "Parameter containing:\n",
      "tensor([-0.0245, -0.0320, -0.0018,  0.0150, -0.0239, -0.0131,  0.0112, -0.0333,\n",
      "        -0.0014,  0.0221], requires_grad=True)\n",
      "Parameter containing:\n",
      "tensor([[ 0.1687,  0.0879,  0.2873, -0.3088, -0.1024, -0.0176, -0.0377,  0.0200,\n",
      "         -0.2974,  0.0411],\n",
      "        [-0.0186,  0.2505,  0.2279,  0.1979,  0.1769,  0.1695,  0.0254,  0.1760,\n",
      "         -0.1201, -0.0654],\n",
      "        [ 0.1477, -0.2044,  0.2909, -0.2075,  0.1064, -0.1403,  0.1959, -0.2720,\n",
      "          0.0016,  0.1619]], requires_grad=True)\n",
      "Parameter containing:\n",
      "tensor([ 0.0758, -0.0101, -0.0834], requires_grad=True)\n"
     ]
    }
   ],
   "source": [
    "print('f모델 구성 w,b ===== ')\n",
    "for param in ll.parameters():\n",
    "    print(param)"
   ],
   "metadata": {
    "collapsed": false,
    "ExecuteTime": {
     "end_time": "2024-03-14T08:42:02.312008400Z",
     "start_time": "2024-03-14T08:42:02.296252700Z"
    }
   },
   "id": "1cae18b2510db3a3",
   "execution_count": 29
  },
  {
   "cell_type": "code",
   "outputs": [],
   "source": [],
   "metadata": {
    "collapsed": false,
    "ExecuteTime": {
     "end_time": "2024-03-14T08:42:02.691619800Z",
     "start_time": "2024-03-14T08:42:02.675625300Z"
    }
   },
   "id": "c96452d8e1eefb97",
   "execution_count": 29
  },
  {
   "cell_type": "code",
   "outputs": [],
   "source": [],
   "metadata": {
    "collapsed": false
   },
   "id": "ee56bcd0482f46ff"
  }
 ],
 "metadata": {
  "kernelspec": {
   "display_name": "Python 3",
   "language": "python",
   "name": "python3"
  },
  "language_info": {
   "codemirror_mode": {
    "name": "ipython",
    "version": 2
   },
   "file_extension": ".py",
   "mimetype": "text/x-python",
   "name": "python",
   "nbconvert_exporter": "python",
   "pygments_lexer": "ipython2",
   "version": "2.7.6"
  }
 },
 "nbformat": 4,
 "nbformat_minor": 5
}
