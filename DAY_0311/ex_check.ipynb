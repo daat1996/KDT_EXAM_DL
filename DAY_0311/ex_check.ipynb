{
 "cells": [
  {
   "cell_type": "code",
   "execution_count": 2,
   "id": "initial_id",
   "metadata": {
    "collapsed": true,
    "ExecuteTime": {
     "end_time": "2024-03-11T00:45:00.760900500Z",
     "start_time": "2024-03-11T00:45:00.737378200Z"
    }
   },
   "outputs": [],
   "source": [
    "# 모듈 로딩 및 버전 체크\n",
    "import pandas as pd\n",
    "import matplotlib as mt\n",
    "import sklearn as sk\n",
    "import torch "
   ]
  },
  {
   "cell_type": "code",
   "outputs": [
    {
     "name": "stdout",
     "output_type": "stream",
     "text": [
      "pandas v2.0.3\n",
      "Matplotlib v3.7.2\n",
      "sklearn v1.3.0\n",
      "PyTorch v2.2.0\n"
     ]
    }
   ],
   "source": [
    "# 버전 정보 출력\n",
    "print(f'pandas v{pd.__version__}')\n",
    "print(f'Matplotlib v{mt.__version__}')\n",
    "print(f'sklearn v{sk.__version__}')\n",
    "print(f'PyTorch v{torch.__version__}')"
   ],
   "metadata": {
    "collapsed": false,
    "ExecuteTime": {
     "end_time": "2024-03-11T00:45:26.964207100Z",
     "start_time": "2024-03-11T00:45:26.946850500Z"
    }
   },
   "id": "7c764eb99d4b373e",
   "execution_count": 3
  },
  {
   "cell_type": "code",
   "outputs": [
    {
     "name": "stdout",
     "output_type": "stream",
     "text": [
      "torch => False\n"
     ]
    }
   ],
   "source": [
    "# 해당 PC에 GPU 여부\n",
    "print(f'GPU => {torch.cuda.is_available()}')"
   ],
   "metadata": {
    "collapsed": false,
    "ExecuteTime": {
     "end_time": "2024-03-11T00:49:14.323829800Z",
     "start_time": "2024-03-11T00:49:14.292964300Z"
    }
   },
   "id": "6436d72d6fd109d0",
   "execution_count": 4
  },
  {
   "cell_type": "code",
   "outputs": [],
   "source": [
    "# 저장 및 실행 Device 설정 \n",
    "DEVICE = 'gpu' if torch.cuda.is_available() else 'cpu'"
   ],
   "metadata": {
    "collapsed": false
   },
   "id": "72a50c7c47ecaf0d"
  }
 ],
 "metadata": {
  "kernelspec": {
   "display_name": "Python 3",
   "language": "python",
   "name": "python3"
  },
  "language_info": {
   "codemirror_mode": {
    "name": "ipython",
    "version": 2
   },
   "file_extension": ".py",
   "mimetype": "text/x-python",
   "name": "python",
   "nbconvert_exporter": "python",
   "pygments_lexer": "ipython2",
   "version": "2.7.6"
  }
 },
 "nbformat": 4,
 "nbformat_minor": 5
}
