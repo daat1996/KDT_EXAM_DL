{
 "cells": [
  {
   "cell_type": "markdown",
   "source": [
    "### 데이터 로딩 및 텐서 변환<hr>"
   ],
   "metadata": {
    "collapsed": false
   },
   "id": "6e0feadd9d8c6758"
  },
  {
   "cell_type": "code",
   "outputs": [],
   "source": [
    "# 모듈로딩\n",
    "import imageio.v2 as imageio    # 이미지 데이터 관련 모듈\n",
    "import numpy as np\n",
    "import torch                    # Pytorch 텐서 및 기본 함수 관련 모듈\n",
    "import pandas as pd             # csv 읽어오기"
   ],
   "metadata": {
    "collapsed": false,
    "ExecuteTime": {
     "end_time": "2024-03-13T05:56:27.441076300Z",
     "start_time": "2024-03-13T05:56:26.819924200Z"
    }
   },
   "id": "2125f74f84c10e3c",
   "execution_count": 16
  },
  {
   "cell_type": "code",
   "outputs": [],
   "source": [
    "# 이미지 데이터 로딩\n",
    "filename='../data/img/mushroom.jpg'"
   ],
   "metadata": {
    "collapsed": false,
    "ExecuteTime": {
     "end_time": "2024-03-13T04:53:12.255018300Z",
     "start_time": "2024-03-13T04:53:12.242511600Z"
    }
   },
   "id": "e363ff0ebc3c48d3",
   "execution_count": 2
  },
  {
   "cell_type": "code",
   "outputs": [
    {
     "name": "stdout",
     "output_type": "stream",
     "text": [
      "(183, 275, 3) 3 차원\n"
     ]
    }
   ],
   "source": [
    "# ndarray 타입의 이미지 데이터\n",
    "img_data = imageio.v2.imread(filename)\n",
    "\n",
    "print(img_data.shape, img_data.ndim,'차원')"
   ],
   "metadata": {
    "collapsed": false,
    "ExecuteTime": {
     "end_time": "2024-03-13T04:58:02.179846600Z",
     "start_time": "2024-03-13T04:58:02.164560700Z"
    }
   },
   "id": "fc83b8fd1a581fc7",
   "execution_count": 11
  },
  {
   "cell_type": "code",
   "outputs": [],
   "source": [
    "# ndarray -> tensor 변환 : [행(높이), 열(너비), 채널]\n",
    "img_datat1=torch.tensor(img_data)\n",
    "img_datat2=torch.from_numpy(img_data)\n",
    "img_datat3=torch.as_tensor(img_data)"
   ],
   "metadata": {
    "collapsed": false,
    "ExecuteTime": {
     "end_time": "2024-03-13T05:00:04.833325100Z",
     "start_time": "2024-03-13T05:00:04.824020500Z"
    }
   },
   "id": "43ac6bf212628c42",
   "execution_count": 12
  },
  {
   "cell_type": "code",
   "outputs": [
    {
     "name": "stdout",
     "output_type": "stream",
     "text": [
      "torch.Size([183, 275, 3]) 3\n",
      "torch.Size([183, 275, 3]) 3\n",
      "torch.Size([183, 275, 3]) 3\n"
     ]
    }
   ],
   "source": [
    "print(img_datat1.shape, img_datat1.ndim)\n",
    "print(img_datat2.shape, img_datat2.ndim)\n",
    "print(img_datat3.shape, img_datat3.ndim)\n"
   ],
   "metadata": {
    "collapsed": false,
    "ExecuteTime": {
     "end_time": "2024-03-13T05:00:36.272645200Z",
     "start_time": "2024-03-13T05:00:36.245184900Z"
    }
   },
   "id": "bbeacecedc71e7f6",
   "execution_count": 13
  },
  {
   "cell_type": "code",
   "outputs": [],
   "source": [
    "# [행(높이), 열(너비), 채널] => [채널, 행(높이), 열(너비)]"
   ],
   "metadata": {
    "collapsed": false,
    "ExecuteTime": {
     "end_time": "2024-03-13T05:01:36.309545Z",
     "start_time": "2024-03-13T05:01:36.294871Z"
    }
   },
   "id": "bbcf589fec4910a5",
   "execution_count": 14
  },
  {
   "cell_type": "code",
   "outputs": [
    {
     "data": {
      "text/plain": "torch.Size([3, 183, 275])"
     },
     "execution_count": 15,
     "metadata": {},
     "output_type": "execute_result"
    }
   ],
   "source": [
    "img_datat1.permute(2,0,1).shape"
   ],
   "metadata": {
    "collapsed": false,
    "ExecuteTime": {
     "end_time": "2024-03-13T05:02:38.503247100Z",
     "start_time": "2024-03-13T05:02:38.492794600Z"
    }
   },
   "id": "4e40d09fe6eef414",
   "execution_count": 15
  },
  {
   "cell_type": "markdown",
   "source": [
    "## Wine 데이터 텐서로 변환"
   ],
   "metadata": {
    "collapsed": false
   },
   "id": "ee45c6f653dc6c83"
  },
  {
   "cell_type": "code",
   "outputs": [],
   "source": [
    "file = '../data/text/winequality-white.csv'\n"
   ],
   "metadata": {
    "collapsed": false,
    "ExecuteTime": {
     "end_time": "2024-03-13T06:11:28.986773400Z",
     "start_time": "2024-03-13T06:11:28.972903100Z"
    }
   },
   "id": "8e17a6caa53194c6",
   "execution_count": 33
  },
  {
   "cell_type": "markdown",
   "source": [
    "[2-1] Pandas 사용한 데이터 로딩 "
   ],
   "metadata": {
    "collapsed": false
   },
   "id": "e3deb5d2b7d176bb"
  },
  {
   "cell_type": "code",
   "outputs": [
    {
     "data": {
      "text/plain": "tensor([[ 7.0000,  0.2700,  0.3600,  ...,  3.0000,  0.4500,  8.8000],\n        [ 6.3000,  0.3000,  0.3400,  ...,  3.3000,  0.4900,  9.5000],\n        [ 8.1000,  0.2800,  0.4000,  ...,  3.2600,  0.4400, 10.1000],\n        ...,\n        [ 6.5000,  0.2400,  0.1900,  ...,  2.9900,  0.4600,  9.4000],\n        [ 5.5000,  0.2900,  0.3000,  ...,  3.3400,  0.3800, 12.8000],\n        [ 6.0000,  0.2100,  0.3800,  ...,  3.2600,  0.3200, 11.8000]],\n       dtype=torch.float64)"
     },
     "execution_count": 39,
     "metadata": {},
     "output_type": "execute_result"
    }
   ],
   "source": [
    "csv_data = pd.read_csv(file,sep=';')\n",
    "\n",
    "# quality는 제거한다\n",
    "csv_data_feat=csv_data[csv_data.columns[:-1]]\n",
    "wine_ft = torch.from_numpy(csv_data_feat.values)\n",
    "wine_ft         # 피쳐\n",
    "# type(csv_data.values)"
   ],
   "metadata": {
    "collapsed": false,
    "ExecuteTime": {
     "end_time": "2024-03-13T06:27:40.061968400Z",
     "start_time": "2024-03-13T06:27:40.033505Z"
    }
   },
   "id": "cf2d0ceffa1daef8",
   "execution_count": 39
  },
  {
   "cell_type": "code",
   "outputs": [
    {
     "data": {
      "text/plain": "tensor([6, 6, 6,  ..., 6, 7, 6])"
     },
     "execution_count": 40,
     "metadata": {},
     "output_type": "execute_result"
    }
   ],
   "source": [
    "# csv_data.values\\\n",
    "csv_data_target=csv_data[csv_data.columns[-1]]\n",
    "wine_tg = torch.from_numpy(csv_data_target.values)\n",
    "wine_tg         # 타겟"
   ],
   "metadata": {
    "collapsed": false,
    "ExecuteTime": {
     "end_time": "2024-03-13T06:27:40.661982600Z",
     "start_time": "2024-03-13T06:27:40.641627900Z"
    }
   },
   "id": "a6fd40df2e91b2e6",
   "execution_count": 40
  },
  {
   "cell_type": "code",
   "outputs": [
    {
     "name": "stdout",
     "output_type": "stream",
     "text": [
      "torch.Size([4898, 11]) 2 차원 torch.float64\n",
      "torch.Size([4898]) 1 차원 torch.int64\n"
     ]
    }
   ],
   "source": [
    "print(wine_ft.shape, wine_ft.ndim,'차원', wine_ft.dtype)\n",
    "print(wine_tg.shape, wine_tg.ndim,'차원', wine_tg.dtype)"
   ],
   "metadata": {
    "collapsed": false,
    "ExecuteTime": {
     "end_time": "2024-03-13T06:27:57.908750900Z",
     "start_time": "2024-03-13T06:27:57.898231800Z"
    }
   },
   "id": "7e918851bbb5deb9",
   "execution_count": 42
  },
  {
   "cell_type": "code",
   "outputs": [],
   "source": [
    "# 데이터 파일 => csv 파일 : 분리자 - ; , 첫번째 줄 - 컬럼명, 데이터 타입 - 실수"
   ],
   "metadata": {
    "collapsed": false,
    "ExecuteTime": {
     "end_time": "2024-03-13T06:03:00.902665400Z",
     "start_time": "2024-03-13T06:03:00.882658200Z"
    }
   },
   "id": "504a087da48685b4",
   "execution_count": 25
  },
  {
   "cell_type": "markdown",
   "source": [
    "[2-2] Numpy사용한 데이터 로딩"
   ],
   "metadata": {
    "collapsed": false
   },
   "id": "c5aecd920646852e"
  },
  {
   "cell_type": "code",
   "outputs": [],
   "source": [
    "import csv"
   ],
   "metadata": {
    "collapsed": false,
    "ExecuteTime": {
     "end_time": "2024-03-13T06:30:32.504459700Z",
     "start_time": "2024-03-13T06:30:32.494130500Z"
    }
   },
   "id": "dd4910fb0e80f1bd",
   "execution_count": 43
  },
  {
   "cell_type": "code",
   "outputs": [],
   "source": [
    "wineq_numpy = np.loadtxt(file, dtype=np.array)"
   ],
   "metadata": {
    "collapsed": false
   },
   "id": "fd617a729f383bd0"
  },
  {
   "cell_type": "code",
   "outputs": [],
   "source": [
    "# 컬럼 만 먼저 읽어오기\n",
    "col_list = next()"
   ],
   "metadata": {
    "collapsed": false
   },
   "id": "9f8e54d02e116085"
  }
 ],
 "metadata": {
  "kernelspec": {
   "display_name": "Python 3",
   "language": "python",
   "name": "python3"
  },
  "language_info": {
   "codemirror_mode": {
    "name": "ipython",
    "version": 2
   },
   "file_extension": ".py",
   "mimetype": "text/x-python",
   "name": "python",
   "nbconvert_exporter": "python",
   "pygments_lexer": "ipython2",
   "version": "2.7.6"
  }
 },
 "nbformat": 4,
 "nbformat_minor": 5
}
