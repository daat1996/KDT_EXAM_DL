{
 "cells": [
  {
   "cell_type": "code",
   "execution_count": 1,
   "id": "initial_id",
   "metadata": {
    "collapsed": true,
    "ExecuteTime": {
     "end_time": "2024-03-13T00:06:50.177303Z",
     "start_time": "2024-03-13T00:06:48.853493900Z"
    }
   },
   "outputs": [],
   "source": [
    "import torch"
   ]
  },
  {
   "cell_type": "markdown",
   "source": [
    "## 1. 화면상에서 Pytorch에서 데이터를 저장하는 단위는?\n",
    "a. Tensor"
   ],
   "metadata": {
    "collapsed": false
   },
   "id": "e9c99738bf2d6bdf"
  },
  {
   "cell_type": "markdown",
   "source": [
    "## 2. 1번 문제에 해당하는 것의 특징을 간력히 설명해 보세요.\n",
    "a. 실제로 저장할때는 1열로 저장된다."
   ],
   "metadata": {
    "collapsed": false
   },
   "id": "c4175b4b9713421"
  },
  {
   "cell_type": "markdown",
   "source": [
    "## 3. Pytorch에서 정수형 데이터를 저장하는 데이터 타입을 모두 나열하세요. 또 간단한 데이터 타입의 크기 설명도 함께 작성하세요\n",
    "a. Longtensor : 64intTensor\n",
    "   "
   ],
   "metadata": {
    "collapsed": false
   },
   "id": "755a969156fc4980"
  },
  {
   "cell_type": "markdown",
   "source": [
    "## 4. Pytorch에 논리형 데이터로 저장 후 속성을 출력하는 코드를 작성하세요"
   ],
   "metadata": {
    "collapsed": false
   },
   "id": "ddba73423355a98d"
  },
  {
   "cell_type": "code",
   "outputs": [
    {
     "data": {
      "text/plain": "tensor([ True,  True,  True,  True, False,  True, False])"
     },
     "execution_count": 8,
     "metadata": {},
     "output_type": "execute_result"
    }
   ],
   "source": [
    "# a.\n",
    "data = [10,-5,1.4,7,0,-1,0]\n",
    "torch.BoolTensor(data)"
   ],
   "metadata": {
    "collapsed": false,
    "ExecuteTime": {
     "end_time": "2024-03-13T00:17:06.282911900Z",
     "start_time": "2024-03-13T00:17:06.271177800Z"
    }
   },
   "id": "9bb89b2ff051eb9b",
   "execution_count": 8
  },
  {
   "cell_type": "markdown",
   "source": [
    "## 5. 10개의 0데이터를 2차원으로 저장코드를 작성하세요"
   ],
   "metadata": {
    "collapsed": false
   },
   "id": "76d84af4c64544dc"
  },
  {
   "cell_type": "code",
   "outputs": [
    {
     "data": {
      "text/plain": "tensor([[0, 0, 0, 0, 0, 0, 0, 0, 0, 0]], dtype=torch.int32)"
     },
     "execution_count": 58,
     "metadata": {},
     "output_type": "execute_result"
    }
   ],
   "source": [
    "a = torch.zeros(1,10,dtype=torch.int32)\n",
    "a"
   ],
   "metadata": {
    "collapsed": false,
    "ExecuteTime": {
     "end_time": "2024-03-13T00:47:35.255888700Z",
     "start_time": "2024-03-13T00:47:35.223652500Z"
    }
   },
   "id": "690c576b3d04280f",
   "execution_count": 58
  },
  {
   "cell_type": "markdown",
   "source": [
    "## 6. 5개의 1 데이터가 대각선으로 저장되는 2차원 저장 코드를 작성하세요"
   ],
   "metadata": {
    "collapsed": false
   },
   "id": "543426cc67c5a428"
  },
  {
   "cell_type": "code",
   "outputs": [
    {
     "data": {
      "text/plain": "tensor([[1., 0., 0., 0., 0.],\n        [0., 1., 0., 0., 0.],\n        [0., 0., 1., 0., 0.],\n        [0., 0., 0., 1., 0.],\n        [0., 0., 0., 0., 1.]])"
     },
     "execution_count": 25,
     "metadata": {},
     "output_type": "execute_result"
    }
   ],
   "source": [
    "torch.eye(5)"
   ],
   "metadata": {
    "collapsed": false,
    "ExecuteTime": {
     "end_time": "2024-03-13T00:28:52.028179700Z",
     "start_time": "2024-03-13T00:28:51.995165900Z"
    }
   },
   "id": "735f55d3ea8fcd71",
   "execution_count": 25
  },
  {
   "cell_type": "markdown",
   "source": [
    "## 7. 5번에서 저장된 형태와 동일하지만 값이 3이 저장된 코드를 작성하세요"
   ],
   "metadata": {
    "collapsed": false
   },
   "id": "85f8e5c095aa10db"
  },
  {
   "cell_type": "code",
   "outputs": [
    {
     "data": {
      "text/plain": "tensor([[3, 3, 3, 3, 3, 3, 3, 3, 3, 3]], dtype=torch.int32)"
     },
     "execution_count": 59,
     "metadata": {},
     "output_type": "execute_result"
    }
   ],
   "source": [
    "torch.full_like(a,3)"
   ],
   "metadata": {
    "collapsed": false,
    "ExecuteTime": {
     "end_time": "2024-03-13T00:48:10.779059500Z",
     "start_time": "2024-03-13T00:48:10.754834200Z"
    }
   },
   "id": "3c6c7df440dba91",
   "execution_count": 59
  },
  {
   "cell_type": "markdown",
   "source": [
    "## 8. ndarray 데이터를 Pytorch에 저장하는 코드를 작성하세요"
   ],
   "metadata": {
    "collapsed": false
   },
   "id": "244b69c648bab1e8"
  },
  {
   "cell_type": "code",
   "outputs": [
    {
     "data": {
      "text/plain": "tensor([-0.4612, -0.8898, -0.2159, -0.2395,  0.0779, -0.3766, -1.2692])"
     },
     "execution_count": 37,
     "metadata": {},
     "output_type": "execute_result"
    }
   ],
   "source": [
    "torch.randn(7)"
   ],
   "metadata": {
    "collapsed": false,
    "ExecuteTime": {
     "end_time": "2024-03-13T00:33:45.167267900Z",
     "start_time": "2024-03-13T00:33:45.019714700Z"
    }
   },
   "id": "226541d217f2f0eb",
   "execution_count": 37
  },
  {
   "cell_type": "markdown",
   "source": [
    "## 9. 아래 조건에 맞는 데이터를 Pytorch에 저장하는 코드를 작성하세요\n",
    "- 데이터 임의의 값 : 1픽셀 0~ 255\n",
    "- 이미지 크기 120X80은 tensor에서는 가로 세로가 바뀐다."
   ],
   "metadata": {
    "collapsed": false
   },
   "id": "3a40094e25e45870"
  },
  {
   "cell_type": "code",
   "outputs": [
    {
     "data": {
      "text/plain": "tensor(120)"
     },
     "execution_count": 39,
     "metadata": {},
     "output_type": "execute_result"
    }
   ],
   "source": [
    "img = torch.\n",
    "img"
   ],
   "metadata": {
    "collapsed": false,
    "ExecuteTime": {
     "end_time": "2024-03-13T00:34:24.215292200Z",
     "start_time": "2024-03-13T00:34:24.189515100Z"
    }
   },
   "id": "568fd576e0e53dfc",
   "execution_count": 39
  },
  {
   "cell_type": "code",
   "outputs": [],
   "source": [],
   "metadata": {
    "collapsed": false,
    "ExecuteTime": {
     "end_time": "2024-03-13T00:34:48.811982800Z",
     "start_time": "2024-03-13T00:34:48.802623700Z"
    }
   },
   "id": "d1153712faebacff",
   "execution_count": 39
  },
  {
   "cell_type": "code",
   "outputs": [],
   "source": [],
   "metadata": {
    "collapsed": false,
    "ExecuteTime": {
     "end_time": "2024-03-13T00:34:49.136671600Z",
     "start_time": "2024-03-13T00:34:49.129237800Z"
    }
   },
   "id": "19cb413526af5cae",
   "execution_count": 39
  },
  {
   "cell_type": "code",
   "outputs": [],
   "source": [],
   "metadata": {
    "collapsed": false,
    "ExecuteTime": {
     "end_time": "2024-03-13T00:34:49.264058100Z",
     "start_time": "2024-03-13T00:34:49.254530Z"
    }
   },
   "id": "6d6a6aaa6f9162d",
   "execution_count": 39
  },
  {
   "cell_type": "code",
   "outputs": [],
   "source": [],
   "metadata": {
    "collapsed": false,
    "ExecuteTime": {
     "end_time": "2024-03-13T00:34:49.383682100Z",
     "start_time": "2024-03-13T00:34:49.376182600Z"
    }
   },
   "id": "b8325494356cb144",
   "execution_count": 39
  },
  {
   "cell_type": "markdown",
   "source": [
    "## 11. "
   ],
   "metadata": {
    "collapsed": false
   },
   "id": "bf14e881ab03343"
  },
  {
   "cell_type": "code",
   "outputs": [
    {
     "name": "stdout",
     "output_type": "stream",
     "text": [
      "tensor([240, 250, 264])\n",
      "torch.return_types.max(\n",
      "values=tensor([ 90, 100,  99]),\n",
      "indices=tensor([0, 1, 0]))\n"
     ]
    }
   ],
   "source": [
    "data = torch.tensor([[90, 70, 80],[70, 100,80],[99,88,77]])\n",
    "print(data.sum(dim=1))\n",
    "print(data.max(dim=1))"
   ],
   "metadata": {
    "collapsed": false,
    "ExecuteTime": {
     "end_time": "2024-03-13T00:40:31.332689300Z",
     "start_time": "2024-03-13T00:40:31.311444100Z"
    }
   },
   "id": "41841d7bad9313e4",
   "execution_count": 52
  },
  {
   "cell_type": "code",
   "outputs": [],
   "source": [],
   "metadata": {
    "collapsed": false
   },
   "id": "624dafed014b6fd3"
  }
 ],
 "metadata": {
  "kernelspec": {
   "display_name": "Python 3",
   "language": "python",
   "name": "python3"
  },
  "language_info": {
   "codemirror_mode": {
    "name": "ipython",
    "version": 2
   },
   "file_extension": ".py",
   "mimetype": "text/x-python",
   "name": "python",
   "nbconvert_exporter": "python",
   "pygments_lexer": "ipython2",
   "version": "2.7.6"
  }
 },
 "nbformat": 4,
 "nbformat_minor": 5
}
