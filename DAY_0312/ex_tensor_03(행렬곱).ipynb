{
 "cells": [
  {
   "cell_type": "code",
   "execution_count": 1,
   "id": "initial_id",
   "metadata": {
    "collapsed": true,
    "ExecuteTime": {
     "end_time": "2024-03-12T04:13:23.336865300Z",
     "start_time": "2024-03-12T04:13:23.323598900Z"
    }
   },
   "outputs": [],
   "source": [
    "# 행렬 곱 : matmul(matrix mul)"
   ]
  },
  {
   "cell_type": "markdown",
   "source": [
    "## 행렬 곱셈\n",
    " - 피쳐와 가중치 연산에 활용\n",
    " - tensor.matmul()"
   ],
   "metadata": {
    "collapsed": false
   },
   "id": "6a4a631f8b5e2078"
  },
  {
   "cell_type": "code",
   "outputs": [],
   "source": [
    "# 모듈 로딩\n",
    "import torch"
   ],
   "metadata": {
    "collapsed": false,
    "ExecuteTime": {
     "end_time": "2024-03-12T04:14:24.069142300Z",
     "start_time": "2024-03-12T04:14:22.792887800Z"
    }
   },
   "id": "617a36e494418e48",
   "execution_count": 2
  },
  {
   "cell_type": "code",
   "outputs": [],
   "source": [
    "data = torch.tensor([[1,2],\n",
    "                     [3,4]])\n",
    "w = torch.tensor([7])"
   ],
   "metadata": {
    "collapsed": false,
    "ExecuteTime": {
     "end_time": "2024-03-12T04:15:17.549802600Z",
     "start_time": "2024-03-12T04:15:17.529534100Z"
    }
   },
   "id": "1d422833760c0522",
   "execution_count": 3
  },
  {
   "cell_type": "code",
   "outputs": [
    {
     "name": "stdout",
     "output_type": "stream",
     "text": [
      "data.shape => torch.Size([2, 2])\n",
      "w.shape => torch.Size([1])\n"
     ]
    }
   ],
   "source": [
    "print(f'data.shape => {data.shape}')\n",
    "print(f'w.shape => {w.shape}')"
   ],
   "metadata": {
    "collapsed": false,
    "ExecuteTime": {
     "end_time": "2024-03-12T04:15:43.237456500Z",
     "start_time": "2024-03-12T04:15:43.209256500Z"
    }
   },
   "id": "57fe917d7bfbf546",
   "execution_count": 4
  },
  {
   "cell_type": "code",
   "outputs": [
    {
     "name": "stdout",
     "output_type": "stream",
     "text": [
      "tensor([[ 7, 14],\n",
      "        [21, 28]])\n"
     ]
    }
   ],
   "source": [
    "# 원소단위 곱셈 => 인덱스에 1:1 대응하도록 브로드캐스팅\n",
    "print(f'{data.mul(w)}')"
   ],
   "metadata": {
    "collapsed": false,
    "ExecuteTime": {
     "end_time": "2024-03-12T04:16:19.666392900Z",
     "start_time": "2024-03-12T04:16:19.641433200Z"
    }
   },
   "id": "14e78b42886b7efd",
   "execution_count": 5
  },
  {
   "cell_type": "code",
   "outputs": [
    {
     "name": "stdout",
     "output_type": "stream",
     "text": [
      "data.matmul(w) : tensor([23, 53])\n"
     ]
    }
   ],
   "source": [
    "# 행열단위 곱셈 => 행*열 : (행,열) x (행, 열)\n",
    "w=torch.tensor([7])\n",
    "# print(f'data.matmul(w) : {data.matmul(w)}')       # 행과 열이 맞지 않으면 오류난다\n",
    "\n",
    "# 행열단위 곱셈 => (2,2) * (2,0)\n",
    "# 가능\n",
    "w=torch.tensor([7, 8])\n",
    "print(f'data.matmul(w) : {data.matmul(w)}')         \n"
   ],
   "metadata": {
    "collapsed": false,
    "ExecuteTime": {
     "end_time": "2024-03-12T04:25:27.410674900Z",
     "start_time": "2024-03-12T04:25:27.392887900Z"
    }
   },
   "id": "9e192e2eeacff3b8",
   "execution_count": 10
  },
  {
   "cell_type": "code",
   "outputs": [
    {
     "name": "stdout",
     "output_type": "stream",
     "text": [
      "data.matmul(w2)\n",
      " => tensor([[23],\n",
      "        [53]])\n"
     ]
    }
   ],
   "source": [
    "\n",
    "w2=torch.tensor([[7],[8]])\n",
    "print(f'data.matmul(w2)\\n => {data.matmul(w2)}')"
   ],
   "metadata": {
    "collapsed": false,
    "ExecuteTime": {
     "end_time": "2024-03-12T04:25:14.643882200Z",
     "start_time": "2024-03-12T04:25:14.610928800Z"
    }
   },
   "id": "ee4c95f59aeb6fe6",
   "execution_count": 9
  },
  {
   "cell_type": "code",
   "outputs": [],
   "source": [],
   "metadata": {
    "collapsed": false
   },
   "id": "dffe12fa966b4134"
  }
 ],
 "metadata": {
  "kernelspec": {
   "display_name": "Python 3",
   "language": "python",
   "name": "python3"
  },
  "language_info": {
   "codemirror_mode": {
    "name": "ipython",
    "version": 2
   },
   "file_extension": ".py",
   "mimetype": "text/x-python",
   "name": "python",
   "nbconvert_exporter": "python",
   "pygments_lexer": "ipython2",
   "version": "2.7.6"
  }
 },
 "nbformat": 4,
 "nbformat_minor": 5
}
