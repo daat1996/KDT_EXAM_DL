{
 "cells": [
  {
   "cell_type": "markdown",
   "source": [
    "### 텐서 연결$ 결합"
   ],
   "metadata": {
    "collapsed": false
   },
   "id": "c257bb5a000d51fa"
  },
  {
   "cell_type": "code",
   "outputs": [],
   "source": [
    "# 모듈로딩\n",
    "import torch"
   ],
   "metadata": {
    "collapsed": false,
    "ExecuteTime": {
     "end_time": "2024-03-12T06:02:58.174203200Z",
     "start_time": "2024-03-12T06:02:56.953836300Z"
    }
   },
   "id": "a95a58c4bd2e035a",
   "execution_count": 1
  },
  {
   "cell_type": "code",
   "outputs": [],
   "source": [
    "# 텐서 데이터 생성\n",
    "torch.manual_seed(12)\n",
    "\n",
    "# 임의의 0.<=~<1. 실수\n",
    "X = torch.rand(2, 10)\n",
    "# 임의의 정수 : low<= ~ <high\n",
    "y = torch.randint(0, 2, (10,))\n",
    "y2 = torch.randint(0, 2, (2, 10))"
   ],
   "metadata": {
    "collapsed": false,
    "ExecuteTime": {
     "end_time": "2024-03-12T06:11:39.479082400Z",
     "start_time": "2024-03-12T06:11:39.458021700Z"
    }
   },
   "id": "cc2e058727b4662c",
   "execution_count": 10
  },
  {
   "cell_type": "code",
   "outputs": [
    {
     "name": "stdout",
     "output_type": "stream",
     "text": [
      "tensor([[1, 1, 0, 1, 1, 0, 0, 0, 0, 0],\n",
      "        [0, 0, 1, 1, 1, 1, 0, 0, 0, 0]])\n",
      "tensor([[0.4657, 0.2328, 0.4527, 0.5871, 0.4086, 0.1272, 0.6373, 0.2421, 0.7312,\n",
      "         0.7224],\n",
      "        [0.1992, 0.6948, 0.5830, 0.6318, 0.5559, 0.1262, 0.9790, 0.8443, 0.1256,\n",
      "         0.4456]])\n"
     ]
    }
   ],
   "source": [
    "print(y2)\n",
    "print(X)"
   ],
   "metadata": {
    "collapsed": false,
    "ExecuteTime": {
     "end_time": "2024-03-12T06:14:36.744346600Z",
     "start_time": "2024-03-12T06:14:36.732217500Z"
    }
   },
   "id": "d8392d9d80797f55",
   "execution_count": 17
  },
  {
   "cell_type": "code",
   "outputs": [
    {
     "name": "stdout",
     "output_type": "stream",
     "text": [
      "X => torch.Size([2, 10]), 2D\n",
      "y => torch.Size([10]), 1D\n",
      "y2 => torch.Size([2, 10]), 2D\n"
     ]
    }
   ],
   "source": [
    "print(f'X => {X.shape}, {X.ndim}D')\n",
    "print(f'y => {y.shape}, {y.ndim}D')\n",
    "print(f'y2 => {y2.shape}, {y2.ndim}D')"
   ],
   "metadata": {
    "collapsed": false,
    "ExecuteTime": {
     "end_time": "2024-03-12T06:11:39.824789900Z",
     "start_time": "2024-03-12T06:11:39.803418200Z"
    }
   },
   "id": "a283e3d25417241f",
   "execution_count": 11
  },
  {
   "cell_type": "code",
   "outputs": [
    {
     "name": "stdout",
     "output_type": "stream",
     "text": [
      "xy1 => torch.Size([2, 20]), 2D\n"
     ]
    }
   ],
   "source": [
    "# tensor 연결 cat([텐서1, 텐서2, ...]\n",
    "xy1=torch.cat([X, y2], dim=1)\n",
    "print(f'xy1 => {xy1.shape}, {xy1.ndim}D')"
   ],
   "metadata": {
    "collapsed": false,
    "ExecuteTime": {
     "end_time": "2024-03-12T06:11:40.140758900Z",
     "start_time": "2024-03-12T06:11:40.114363700Z"
    }
   },
   "id": "6281df62939cf482",
   "execution_count": 12
  },
  {
   "cell_type": "code",
   "outputs": [
    {
     "name": "stdout",
     "output_type": "stream",
     "text": [
      "xy1 => torch.Size([4, 10]), 2D\n"
     ]
    }
   ],
   "source": [
    "xy1=torch.cat([X, y2], dim=0)\n",
    "print(f'xy1 => {xy1.shape}, {xy1.ndim}D')"
   ],
   "metadata": {
    "collapsed": false,
    "ExecuteTime": {
     "end_time": "2024-03-12T06:11:40.725167400Z",
     "start_time": "2024-03-12T06:11:40.687729300Z"
    }
   },
   "id": "e0704ee7573626de",
   "execution_count": 13
  },
  {
   "cell_type": "code",
   "outputs": [
    {
     "name": "stdout",
     "output_type": "stream",
     "text": [
      "tensor([[0.4657, 0.2328, 0.4527, 0.5871, 0.4086, 0.1272, 0.6373, 0.2421, 0.7312,\n",
      "         0.7224],\n",
      "        [0.1992, 0.6948, 0.5830, 0.6318, 0.5559, 0.1262, 0.9790, 0.8443, 0.1256,\n",
      "         0.4456],\n",
      "        [1.0000, 1.0000, 0.0000, 1.0000, 1.0000, 0.0000, 0.0000, 0.0000, 0.0000,\n",
      "         0.0000],\n",
      "        [0.0000, 0.0000, 1.0000, 1.0000, 1.0000, 1.0000, 0.0000, 0.0000, 0.0000,\n",
      "         0.0000]])\n"
     ]
    }
   ],
   "source": [
    "print(xy1)"
   ],
   "metadata": {
    "collapsed": false,
    "ExecuteTime": {
     "end_time": "2024-03-12T06:15:08.937152400Z",
     "start_time": "2024-03-12T06:15:08.927306800Z"
    }
   },
   "id": "1a6f05680f496ba3",
   "execution_count": 18
  },
  {
   "cell_type": "code",
   "outputs": [
    {
     "data": {
      "text/plain": "tensor([[[0.4657, 0.2328, 0.4527, 0.5871, 0.4086, 0.1272, 0.6373, 0.2421,\n          0.7312, 0.7224],\n         [0.1992, 0.6948, 0.5830, 0.6318, 0.5559, 0.1262, 0.9790, 0.8443,\n          0.1256, 0.4456]],\n\n        [[1.0000, 1.0000, 0.0000, 1.0000, 1.0000, 0.0000, 0.0000, 0.0000,\n          0.0000, 0.0000],\n         [0.0000, 0.0000, 1.0000, 1.0000, 1.0000, 1.0000, 0.0000, 0.0000,\n          0.0000, 0.0000]]])"
     },
     "execution_count": 20,
     "metadata": {},
     "output_type": "execute_result"
    }
   ],
   "source": [
    "# stack 은 행 방향으로 합치는 녀석들이다.\n",
    "torch.stack([X,y2])"
   ],
   "metadata": {
    "collapsed": false,
    "ExecuteTime": {
     "end_time": "2024-03-12T06:17:15.366506300Z",
     "start_time": "2024-03-12T06:17:15.349900900Z"
    }
   },
   "id": "2a60e72c88d7a910",
   "execution_count": 20
  },
  {
   "cell_type": "code",
   "outputs": [
    {
     "data": {
      "text/plain": "tensor(1.)"
     },
     "execution_count": 21,
     "metadata": {},
     "output_type": "execute_result"
    }
   ],
   "source": [
    "xy1.max()"
   ],
   "metadata": {
    "collapsed": false,
    "ExecuteTime": {
     "end_time": "2024-03-12T06:18:26.937289500Z",
     "start_time": "2024-03-12T06:18:26.908175300Z"
    }
   },
   "id": "e4db095ab04ca7e5",
   "execution_count": 21
  },
  {
   "cell_type": "code",
   "outputs": [
    {
     "data": {
      "text/plain": "torch.return_types.max(\nvalues=tensor([0.7312, 0.9790, 1.0000, 1.0000]),\nindices=tensor([8, 6, 0, 2]))"
     },
     "execution_count": 23,
     "metadata": {},
     "output_type": "execute_result"
    }
   ],
   "source": [
    "xy1.max(dim=1)      # index까지 나옴"
   ],
   "metadata": {
    "collapsed": false,
    "ExecuteTime": {
     "end_time": "2024-03-12T06:19:57.178482800Z",
     "start_time": "2024-03-12T06:19:57.160729300Z"
    }
   },
   "id": "ef847e04edcfdf96",
   "execution_count": 23
  },
  {
   "cell_type": "code",
   "outputs": [
    {
     "data": {
      "text/plain": "(tensor([0.7312, 0.9790, 1.0000, 1.0000]), tensor([8, 6, 0, 2]))"
     },
     "execution_count": 27,
     "metadata": {},
     "output_type": "execute_result"
    }
   ],
   "source": [
    "# 행 단위로최댓값 및 최댓값의 인덱스\n",
    "max_value = xy1.max(dim=1)[0]\n",
    "max_index = xy1.max(dim=1)[1]\n",
    "\n",
    "max_value, max_index"
   ],
   "metadata": {
    "collapsed": false,
    "ExecuteTime": {
     "end_time": "2024-03-12T06:22:11.167069800Z",
     "start_time": "2024-03-12T06:22:11.148058500Z"
    }
   },
   "id": "ac5eab3ac9bb7161",
   "execution_count": 27
  },
  {
   "cell_type": "code",
   "outputs": [
    {
     "data": {
      "text/plain": "(tensor([1.0000, 1.0000, 1.0000, 1.0000, 1.0000, 1.0000, 0.9790, 0.8443, 0.7312,\n         0.7224]),\n tensor([2, 2, 3, 2, 2, 3, 1, 1, 0, 0]))"
     },
     "execution_count": 28,
     "metadata": {},
     "output_type": "execute_result"
    }
   ],
   "source": [
    "# 열 단위로최댓값 및 최댓값의 인덱스\n",
    "max_value = xy1.max(dim=0)[0]\n",
    "max_index = xy1.max(dim=0)[1]\n",
    "\n",
    "max_value, max_index"
   ],
   "metadata": {
    "collapsed": false,
    "ExecuteTime": {
     "end_time": "2024-03-12T06:24:21.354341600Z",
     "start_time": "2024-03-12T06:24:21.319870400Z"
    }
   },
   "id": "649319cd37a5d24a",
   "execution_count": 28
  },
  {
   "cell_type": "markdown",
   "source": [
    "집계를 내는 집계함수이기 때문에 DF과는 다르게\n",
    "column에서 집계를 내는 것이 최우선 단위이다.\n",
    "dim=0일때 열 단위로 최댓값을 찾는 이유"
   ],
   "metadata": {
    "collapsed": false
   },
   "id": "7598f226e1770027"
  },
  {
   "cell_type": "code",
   "outputs": [],
   "source": [],
   "metadata": {
    "collapsed": false
   },
   "id": "4b6a6512375c0edf"
  }
 ],
 "metadata": {
  "kernelspec": {
   "display_name": "Python 3",
   "language": "python",
   "name": "python3"
  },
  "language_info": {
   "codemirror_mode": {
    "name": "ipython",
    "version": 2
   },
   "file_extension": ".py",
   "mimetype": "text/x-python",
   "name": "python",
   "nbconvert_exporter": "python",
   "pygments_lexer": "ipython2",
   "version": "2.7.6"
  }
 },
 "nbformat": 4,
 "nbformat_minor": 5
}
