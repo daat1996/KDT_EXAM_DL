{
 "cells": [
  {
   "cell_type": "markdown",
   "source": [
    "### Tensor 원소/요소 접근\n",
    "  - 인덱싱과 슬라이싱"
   ],
   "metadata": {
    "collapsed": false
   },
   "id": "c016dc3c72e76f8d"
  },
  {
   "cell_type": "code",
   "outputs": [],
   "source": [
    "# 모듈 로딩\n",
    "import torch"
   ],
   "metadata": {
    "collapsed": false,
    "ExecuteTime": {
     "end_time": "2024-03-12T02:02:48.295433300Z",
     "start_time": "2024-03-12T02:02:46.877728900Z"
    }
   },
   "id": "74aab45ec25d3b25",
   "execution_count": 1
  },
  {
   "cell_type": "code",
   "outputs": [
    {
     "name": "stdout",
     "output_type": "stream",
     "text": [
      "tensor([[4, 2],\n",
      "        [5, 3],\n",
      "        [6, 4]])\n"
     ]
    },
    {
     "name": "stderr",
     "output_type": "stream",
     "text": [
      "C:\\Users\\KDP-23\\AppData\\Local\\Temp\\ipykernel_19352\\1160277296.py:2: DeprecationWarning: an integer is required (got type float).  Implicit conversion to integers using __int__ is deprecated, and may be removed in a future version of Python.\n",
      "  points=torch.tensor([[4.,2.],[5.,3.],[6.,4.]], dtype=torch.int64)\n"
     ]
    }
   ],
   "source": [
    "# 텐서 생성\n",
    "points=torch.tensor([[4.,2.],[5.,3.],[6.,4.]], dtype=torch.int64)\n",
    "print(points)"
   ],
   "metadata": {
    "collapsed": false,
    "ExecuteTime": {
     "end_time": "2024-03-12T02:04:25.664258400Z",
     "start_time": "2024-03-12T02:04:25.631013900Z"
    }
   },
   "id": "4034f11203d4c8f5",
   "execution_count": 2
  },
  {
   "cell_type": "code",
   "outputs": [
    {
     "name": "stdout",
     "output_type": "stream",
     "text": [
      "tensor(3)\n",
      "tensor(4) tensor(4)\n"
     ]
    }
   ],
   "source": [
    "# 텐서의 원소 1개 접근\n",
    "# 데이터 3 추출\n",
    "print(points[1,1])\n",
    "\n",
    "# 마지막 데이터 4추출\n",
    "print(points[2,1], points[-1,-1])"
   ],
   "metadata": {
    "collapsed": false,
    "ExecuteTime": {
     "end_time": "2024-03-12T02:07:06.254266200Z",
     "start_time": "2024-03-12T02:07:06.244620600Z"
    }
   },
   "id": "7c8e85687dfd37f2",
   "execution_count": 4
  },
  {
   "cell_type": "code",
   "outputs": [
    {
     "name": "stdout",
     "output_type": "stream",
     "text": [
      "tensor([[5, 3],\n",
      "        [6, 4]])\n"
     ]
    }
   ],
   "source": [
    "# 1번 행부터 나머지 모든 행 추출\n",
    "print(points[1:])\n"
   ],
   "metadata": {
    "collapsed": false,
    "ExecuteTime": {
     "end_time": "2024-03-12T02:10:08.176569200Z",
     "start_time": "2024-03-12T02:10:08.161817400Z"
    }
   },
   "id": "c9ac4f613ca034ab",
   "execution_count": 5
  },
  {
   "cell_type": "code",
   "outputs": [],
   "source": [
    "# 피쳐 3개(가중치 w는 피쳐의 개수를 따라가게 된다)\n",
    "# 선형회귀 : y = w1x1 + w2x2 + w3x3 + b\n"
   ],
   "metadata": {
    "collapsed": false
   },
   "id": "a35ed35f0c058532"
  }
 ],
 "metadata": {
  "kernelspec": {
   "display_name": "Python 3",
   "language": "python",
   "name": "python3"
  },
  "language_info": {
   "codemirror_mode": {
    "name": "ipython",
    "version": 2
   },
   "file_extension": ".py",
   "mimetype": "text/x-python",
   "name": "python",
   "nbconvert_exporter": "python",
   "pygments_lexer": "ipython2",
   "version": "2.7.6"
  }
 },
 "nbformat": 4,
 "nbformat_minor": 5
}
