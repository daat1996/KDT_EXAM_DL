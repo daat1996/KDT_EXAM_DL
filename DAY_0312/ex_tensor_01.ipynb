{
 "cells": [
  {
   "cell_type": "markdown",
   "source": [
    "### 텐서(Tensor) 살펴보기\n",
    "- Pytorch에서 데이터 저장 자료형\n",
    "- 모델 입력(input), 출력(output) 데이터 형태\n",
    "- "
   ],
   "metadata": {
    "collapsed": false
   },
   "id": "ff8f9814b1b70be1"
  },
  {
   "cell_type": "markdown",
   "source": [
    "- 모듈로딩"
   ],
   "metadata": {
    "collapsed": false
   },
   "id": "a1abf1fde48cbde7"
  },
  {
   "cell_type": "code",
   "outputs": [],
   "source": [
    "import torch"
   ],
   "metadata": {
    "collapsed": false,
    "ExecuteTime": {
     "end_time": "2024-03-12T00:40:45.943556600Z",
     "start_time": "2024-03-12T00:40:44.527614800Z"
    }
   },
   "id": "33693adccdcca4bc",
   "execution_count": 1
  },
  {
   "cell_type": "markdown",
   "source": [
    "- Tensor 속성 관련 함수"
   ],
   "metadata": {
    "collapsed": false
   },
   "id": "827555c705ccbc4"
  },
  {
   "cell_type": "code",
   "outputs": [],
   "source": [
    "# 매개변수 : 텐서 인스턴스, 텐서 변수명\n",
    "def print_attribute(tensor, name):\n",
    "    print(f'[Tensor{name}]\\'s Attribute]')\n",
    "    print(f' - tensor.shape : {tensor.shape}')\n",
    "    print(f' - tensor.ndim : {tensor.ndim}')\n",
    "    print(f' - tensor.dtype : {tensor.dtype}')\n",
    "    print(f' - tensor.device : {tensor.device}')\n",
    "    print(f' - tensor.requires_grad : {tensor.requires_grad}')\n",
    "    print(f' - tensor.data \\n{tensor.data}')"
   ],
   "metadata": {
    "collapsed": false,
    "ExecuteTime": {
     "end_time": "2024-03-12T00:46:56.273839100Z",
     "start_time": "2024-03-12T00:46:56.261763100Z"
    }
   },
   "id": "6163a85fe23ca548",
   "execution_count": 2
  },
  {
   "cell_type": "markdown",
   "source": [
    "- Tensor 생성 (1) 특정 데이터 타입의 텐서 생성\n",
    "    * 타입별 텐서 클래스 생성자 활용\n",
    "    * 예) IntTensor(), FloatTensor(), BoolTensor()"
   ],
   "metadata": {
    "collapsed": false
   },
   "id": "86b22789468a0408"
  },
  {
   "cell_type": "code",
   "outputs": [
    {
     "name": "stderr",
     "output_type": "stream",
     "text": [
      "C:\\Users\\KDP-23\\AppData\\Local\\Temp\\ipykernel_20032\\1016672282.py:3: DeprecationWarning: an integer is required (got type float).  Implicit conversion to integers using __int__ is deprecated, and may be removed in a future version of Python.\n",
      "  t2 = torch.IntTensor([10.,20.]) #\n"
     ]
    }
   ],
   "source": [
    "# 정수 타입 텐서 생성\n",
    "t1= torch.IntTensor(10) # t1은 1차원 스칼라값\n",
    "t2 = torch.IntTensor([10.,20.]) # int 텐서에 실수를 넣어 경고 발생\n",
    "t3 = torch.BoolTensor([1,1,0,-1]) # 0만 False \n",
    "t4= torch.FloatTensor([10,20])  # float라 실수로 바뀜"
   ],
   "metadata": {
    "collapsed": false,
    "ExecuteTime": {
     "end_time": "2024-03-12T00:58:57.538998500Z",
     "start_time": "2024-03-12T00:58:57.517755400Z"
    }
   },
   "id": "99b886992d00ca8b",
   "execution_count": 15
  },
  {
   "cell_type": "code",
   "outputs": [
    {
     "name": "stdout",
     "output_type": "stream",
     "text": [
      "[Tensort1]'s Attribute]\n",
      " - tensor.shape : torch.Size([10])\n",
      " - tensor.ndim : 1\n",
      " - tensor.dtype : torch.int32\n",
      " - tensor.device : cpu\n",
      " - tensor.requires_grad : False\n",
      " - tensor.data \n",
      "tensor([0, 0, 0, 0, 0, 0, 0, 0, 0, 0], dtype=torch.int32)\n",
      "[Tensort2]'s Attribute]\n",
      " - tensor.shape : torch.Size([2])\n",
      " - tensor.ndim : 1\n",
      " - tensor.dtype : torch.int32\n",
      " - tensor.device : cpu\n",
      " - tensor.requires_grad : False\n",
      " - tensor.data \n",
      "tensor([10, 20], dtype=torch.int32)\n",
      "[Tensort3]'s Attribute]\n",
      " - tensor.shape : torch.Size([4])\n",
      " - tensor.ndim : 1\n",
      " - tensor.dtype : torch.bool\n",
      " - tensor.device : cpu\n",
      " - tensor.requires_grad : False\n",
      " - tensor.data \n",
      "tensor([ True,  True, False,  True])\n",
      "[Tensort4]'s Attribute]\n",
      " - tensor.shape : torch.Size([2])\n",
      " - tensor.ndim : 1\n",
      " - tensor.dtype : torch.float32\n",
      " - tensor.device : cpu\n",
      " - tensor.requires_grad : False\n",
      " - tensor.data \n",
      "tensor([10., 20.])\n"
     ]
    }
   ],
   "source": [
    "print_attribute(t1,'t1')\n",
    "print_attribute(t2,'t2')\n",
    "print_attribute(t3,'t3')\n",
    "print_attribute(t4,'t4')"
   ],
   "metadata": {
    "collapsed": false,
    "ExecuteTime": {
     "end_time": "2024-03-12T00:58:58.094579900Z",
     "start_time": "2024-03-12T00:58:58.070241700Z"
    }
   },
   "id": "6a7536df6f3a9ff0",
   "execution_count": 16
  },
  {
   "cell_type": "markdown",
   "source": [
    "- Tensor 생성 (2) 원하는 값으로 텐서 생성 => torch.tensor()"
   ],
   "metadata": {
    "collapsed": false
   },
   "id": "6baaa04e81cacc14"
  },
  {
   "cell_type": "code",
   "outputs": [
    {
     "name": "stdout",
     "output_type": "stream",
     "text": [
      "[Tensort1]'s Attribute]\n",
      " - tensor.shape : torch.Size([])\n",
      " - tensor.ndim : 0\n",
      " - tensor.dtype : torch.int64\n",
      " - tensor.device : cpu\n",
      " - tensor.requires_grad : False\n",
      " - tensor.data \n",
      "10\n"
     ]
    }
   ],
   "source": [
    "t1 = torch.tensor(10)       # scalar 데이터, int64\n",
    "print_attribute(t1,'t1')"
   ],
   "metadata": {
    "collapsed": false,
    "ExecuteTime": {
     "end_time": "2024-03-12T01:23:17.950914400Z",
     "start_time": "2024-03-12T01:23:17.926351500Z"
    }
   },
   "id": "dad54e9ce500f011",
   "execution_count": 21
  },
  {
   "cell_type": "code",
   "outputs": [
    {
     "name": "stdout",
     "output_type": "stream",
     "text": [
      "[Tensort1]'s Attribute]\n",
      " - tensor.shape : torch.Size([])\n",
      " - tensor.ndim : 0\n",
      " - tensor.dtype : torch.float32\n",
      " - tensor.device : cpu\n",
      " - tensor.requires_grad : False\n",
      " - tensor.data \n",
      "10.0\n"
     ]
    }
   ],
   "source": [
    "t1 = torch.tensor(10.)    # scalar 데이터, float32\n",
    "print_attribute(t1,'t1')"
   ],
   "metadata": {
    "collapsed": false,
    "ExecuteTime": {
     "end_time": "2024-03-12T01:23:09.858594400Z",
     "start_time": "2024-03-12T01:23:09.842770900Z"
    }
   },
   "id": "9e9aa85626999fe9",
   "execution_count": 20
  },
  {
   "cell_type": "code",
   "outputs": [
    {
     "name": "stdout",
     "output_type": "stream",
     "text": [
      "[Tensort1]'s Attribute]\n",
      " - tensor.shape : torch.Size([])\n",
      " - tensor.ndim : 0\n",
      " - tensor.dtype : torch.bool\n",
      " - tensor.device : cpu\n",
      " - tensor.requires_grad : False\n",
      " - tensor.data \n",
      "True\n"
     ]
    }
   ],
   "source": [
    "# dtype 매개변수 : 원하는 데이터 타입 지정 가능\n",
    "t1 = torch.tensor(10., dtype=torch.bool)    # 강제로 int32로 타입 바꾸기  float32  --> bool      \n",
    "print_attribute(t1,'t1')"
   ],
   "metadata": {
    "collapsed": false,
    "ExecuteTime": {
     "end_time": "2024-03-12T01:26:10.646874600Z",
     "start_time": "2024-03-12T01:26:10.625792300Z"
    }
   },
   "id": "a634baa6cf1f4567",
   "execution_count": 23
  },
  {
   "cell_type": "code",
   "outputs": [
    {
     "name": "stdout",
     "output_type": "stream",
     "text": [
      "[Tensort1]'s Attribute]\n",
      " - tensor.shape : torch.Size([3])\n",
      " - tensor.ndim : 1\n",
      " - tensor.dtype : torch.int8\n",
      " - tensor.device : cpu\n",
      " - tensor.requires_grad : False\n",
      " - tensor.data \n",
      "tensor([1, 2, 3], dtype=torch.int8)\n"
     ]
    }
   ],
   "source": [
    "t1= torch.tensor([1,2,3], dtype=torch.int8)     # 1D 데이터\n",
    "print_attribute(t1,'t1')"
   ],
   "metadata": {
    "collapsed": false,
    "ExecuteTime": {
     "end_time": "2024-03-12T01:27:08.171438800Z",
     "start_time": "2024-03-12T01:27:08.148538400Z"
    }
   },
   "id": "63d5ae153a20652d",
   "execution_count": 24
  },
  {
   "cell_type": "code",
   "outputs": [
    {
     "name": "stdout",
     "output_type": "stream",
     "text": [
      "[Tensort1]'s Attribute]\n",
      " - tensor.shape : torch.Size([1, 3])\n",
      " - tensor.ndim : 2\n",
      " - tensor.dtype : torch.int8\n",
      " - tensor.device : cpu\n",
      " - tensor.requires_grad : False\n",
      " - tensor.data \n",
      "tensor([[1, 2, 3]], dtype=torch.int8)\n"
     ]
    }
   ],
   "source": [
    "t1= torch.tensor([[1,2,3]], dtype=torch.int8)     # 2D 데이터\n",
    "print_attribute(t1,'t1')"
   ],
   "metadata": {
    "collapsed": false,
    "ExecuteTime": {
     "end_time": "2024-03-12T01:27:19.725704600Z",
     "start_time": "2024-03-12T01:27:19.703590300Z"
    }
   },
   "id": "f17d9865045bd35",
   "execution_count": 25
  },
  {
   "cell_type": "markdown",
   "source": [
    "- Tensor 생성 (3) 특정 값으로 채운 텐서 => 0, 1 등의 값"
   ],
   "metadata": {
    "collapsed": false
   },
   "id": "67b4d91f81971d32"
  },
  {
   "cell_type": "code",
   "outputs": [
    {
     "name": "stdout",
     "output_type": "stream",
     "text": [
      "[Tensort1]'s Attribute]\n",
      " - tensor.shape : torch.Size([5])\n",
      " - tensor.ndim : 1\n",
      " - tensor.dtype : torch.float32\n",
      " - tensor.device : cpu\n",
      " - tensor.requires_grad : False\n",
      " - tensor.data \n",
      "tensor([0., 0., 0., 0., 0.])\n"
     ]
    }
   ],
   "source": [
    "# 0으로 채운 텐서\n",
    "t1 = torch.zeros((5,5), dtype=torch.int8)\n",
    "print_attribute(t1, 't1')"
   ],
   "metadata": {
    "collapsed": false,
    "ExecuteTime": {
     "end_time": "2024-03-12T01:30:48.466587900Z",
     "start_time": "2024-03-12T01:30:48.426835600Z"
    }
   },
   "id": "a51f9c2e9eef57af",
   "execution_count": 26
  },
  {
   "cell_type": "code",
   "outputs": [
    {
     "name": "stdout",
     "output_type": "stream",
     "text": [
      "[Tensort1]'s Attribute]\n",
      " - tensor.shape : torch.Size([2, 4])\n",
      " - tensor.ndim : 2\n",
      " - tensor.dtype : torch.int8\n",
      " - tensor.device : cpu\n",
      " - tensor.requires_grad : False\n",
      " - tensor.data \n",
      "tensor([[1, 1, 1, 1],\n",
      "        [1, 1, 1, 1]], dtype=torch.int8)\n"
     ]
    }
   ],
   "source": [
    "# 1으로 채운 텐서\n",
    "t1 = torch.ones((2,4), dtype=torch.int8)\n",
    "print_attribute(t1, 't1')"
   ],
   "metadata": {
    "collapsed": false,
    "ExecuteTime": {
     "end_time": "2024-03-12T01:32:04.911835300Z",
     "start_time": "2024-03-12T01:32:04.893000600Z"
    }
   },
   "id": "8bdb1c8e92b55e24",
   "execution_count": 28
  },
  {
   "cell_type": "code",
   "outputs": [
    {
     "name": "stdout",
     "output_type": "stream",
     "text": [
      "torch.Size([2, 6])\n"
     ]
    }
   ],
   "source": [
    "# 이미 존재하는 텐서와 동일한 shape으로 잡고 값 채우기 => zeros_like(), ones_like()\n",
    "img= torch.tensor([[2,3,4,5,6,7],[2,3,4,5,6,7]])\n",
    "print(img.shape)"
   ],
   "metadata": {
    "collapsed": false,
    "ExecuteTime": {
     "end_time": "2024-03-12T01:34:51.764764800Z",
     "start_time": "2024-03-12T01:34:51.721161600Z"
    }
   },
   "id": "7ec1c8bdea03c26f",
   "execution_count": 29
  },
  {
   "cell_type": "code",
   "outputs": [
    {
     "name": "stdout",
     "output_type": "stream",
     "text": [
      "tensor([[0, 0, 0, 0, 0, 0],\n",
      "        [0, 0, 0, 0, 0, 0]])\n"
     ]
    }
   ],
   "source": [
    "zero_img = torch.zeros_like(img)\n",
    "print(zero_img)"
   ],
   "metadata": {
    "collapsed": false,
    "ExecuteTime": {
     "end_time": "2024-03-12T01:35:35.848610200Z",
     "start_time": "2024-03-12T01:35:35.821668Z"
    }
   },
   "id": "c1972d79cb3e58b8",
   "execution_count": 30
  },
  {
   "cell_type": "code",
   "outputs": [
    {
     "name": "stdout",
     "output_type": "stream",
     "text": [
      "tensor([[1, 1, 1, 1, 1, 1],\n",
      "        [1, 1, 1, 1, 1, 1]])\n"
     ]
    }
   ],
   "source": [
    "one_img = torch.ones_like(img)\n",
    "print(one_img)"
   ],
   "metadata": {
    "collapsed": false,
    "ExecuteTime": {
     "end_time": "2024-03-12T01:36:18.886083200Z",
     "start_time": "2024-03-12T01:36:18.870364500Z"
    }
   },
   "id": "8e89e58638adf28a",
   "execution_count": 32
  },
  {
   "cell_type": "code",
   "outputs": [
    {
     "name": "stdout",
     "output_type": "stream",
     "text": [
      "tensor([[7, 7, 7, 7, 7, 7],\n",
      "        [7, 7, 7, 7, 7, 7]])\n"
     ]
    }
   ],
   "source": [
    "full_img=torch.full_like(img,7)     # 7로 채우기\n",
    "print(full_img)"
   ],
   "metadata": {
    "collapsed": false,
    "ExecuteTime": {
     "end_time": "2024-03-12T01:37:20.657577700Z",
     "start_time": "2024-03-12T01:37:20.627961600Z"
    }
   },
   "id": "f93dd92870dca8b",
   "execution_count": 33
  },
  {
   "cell_type": "code",
   "outputs": [
    {
     "name": "stdout",
     "output_type": "stream",
     "text": [
      "tensor([[1., 0., 0., 0., 0.],\n",
      "        [0., 1., 0., 0., 0.],\n",
      "        [0., 0., 1., 0., 0.],\n",
      "        [0., 0., 0., 1., 0.],\n",
      "        [0., 0., 0., 0., 1.]])\n"
     ]
    }
   ],
   "source": [
    "# 대각선 방향으로 1채우기 => eye()\n",
    "t1 = torch.eye(5)\n",
    "print(t1)"
   ],
   "metadata": {
    "collapsed": false,
    "ExecuteTime": {
     "end_time": "2024-03-12T01:38:06.699160300Z",
     "start_time": "2024-03-12T01:38:06.665541400Z"
    }
   },
   "id": "302b0f63cafe4606",
   "execution_count": 34
  },
  {
   "cell_type": "code",
   "outputs": [
    {
     "data": {
      "text/plain": "<torch._C.Generator at 0x179d77d95f0>"
     },
     "execution_count": 35,
     "metadata": {},
     "output_type": "execute_result"
    }
   ],
   "source": [
    "torch.manual_seed(12)           # 랜덤 초기값 설정"
   ],
   "metadata": {
    "collapsed": false,
    "ExecuteTime": {
     "end_time": "2024-03-12T01:40:42.697222800Z",
     "start_time": "2024-03-12T01:40:42.675208100Z"
    }
   },
   "id": "b7123c32a5fcdbfd",
   "execution_count": 35
  },
  {
   "cell_type": "markdown",
   "source": [
    "- Tensor 생성 방법(4): 임의의 값으로 채ㅇ"
   ],
   "metadata": {
    "collapsed": false
   },
   "id": "4f39dce289a3921e"
  },
  {
   "cell_type": "code",
   "outputs": [
    {
     "name": "stdout",
     "output_type": "stream",
     "text": [
      "tensor([[0.1256, 0.4456, 0.6601],\n",
      "        [0.0554, 0.1573, 0.8137]])\n"
     ]
    }
   ],
   "source": [
    "t5 = torch.rand(2,3)            # [0,1) 분포 안에서 랜덤 생성()\n",
    "print(t5)"
   ],
   "metadata": {
    "collapsed": false,
    "ExecuteTime": {
     "end_time": "2024-03-12T01:43:09.295998900Z",
     "start_time": "2024-03-12T01:43:09.282978900Z"
    }
   },
   "id": "dbf097745be44e",
   "execution_count": 38
  },
  {
   "cell_type": "code",
   "outputs": [
    {
     "name": "stdout",
     "output_type": "stream",
     "text": [
      "tensor([[ 0.1466, -1.0041, -0.7882],\n",
      "        [-0.8074, -0.2957, -0.1462]])\n"
     ]
    }
   ],
   "source": [
    "t6 = torch.randn(2,3)           # standard normal 분포에서 랜덤 생성\n",
    "print(t6)"
   ],
   "metadata": {
    "collapsed": false,
    "ExecuteTime": {
     "end_time": "2024-03-12T01:43:14.916325400Z",
     "start_time": "2024-03-12T01:43:14.876541Z"
    }
   },
   "id": "a9fe20d9391d894b",
   "execution_count": 39
  },
  {
   "cell_type": "code",
   "outputs": [
    {
     "name": "stdout",
     "output_type": "stream",
     "text": [
      "tensor([[6, 7, 2],\n",
      "        [1, 8, 8]])\n"
     ]
    }
   ],
   "source": [
    "t7 = torch.randint(low=1, high=10, size=(2,3))      # [low,high) low<=값 <high\n",
    "print(t7)"
   ],
   "metadata": {
    "collapsed": false,
    "ExecuteTime": {
     "end_time": "2024-03-12T01:43:29.826619900Z",
     "start_time": "2024-03-12T01:43:29.782439400Z"
    }
   },
   "id": "52ead9d9817c4c6",
   "execution_count": 41
  },
  {
   "cell_type": "markdown",
   "source": [
    "- Tensor 생성 방법(5) : Ndarray 객체 활용 => torch.from_numpy(), torch.as_tensor(), tensor()"
   ],
   "metadata": {
    "collapsed": false
   },
   "id": "577a5da91e5fae89"
  },
  {
   "cell_type": "code",
   "outputs": [
    {
     "name": "stdout",
     "output_type": "stream",
     "text": [
      "[11 22 33] <class 'numpy.ndarray'>\n"
     ]
    }
   ],
   "source": [
    "# 데이터 생성\n",
    "import numpy as np\n",
    "data = np.array([11,22,33])\n",
    "print(data, type(data))"
   ],
   "metadata": {
    "collapsed": false,
    "ExecuteTime": {
     "end_time": "2024-03-12T01:46:31.565414200Z",
     "start_time": "2024-03-12T01:46:31.520785200Z"
    }
   },
   "id": "24f08f5f3dbdfa76",
   "execution_count": 42
  },
  {
   "cell_type": "code",
   "outputs": [
    {
     "name": "stdout",
     "output_type": "stream",
     "text": [
      "tensor([11, 22, 33], dtype=torch.int32)\n"
     ]
    }
   ],
   "source": [
    "t1 = torch.from_numpy(data)\n",
    "print(t1)"
   ],
   "metadata": {
    "collapsed": false,
    "ExecuteTime": {
     "end_time": "2024-03-12T01:46:43.238642500Z",
     "start_time": "2024-03-12T01:46:43.208813300Z"
    }
   },
   "id": "a16e31d1886fdb9c",
   "execution_count": 43
  },
  {
   "cell_type": "code",
   "outputs": [
    {
     "name": "stdout",
     "output_type": "stream",
     "text": [
      "tensor([11, 22, 33], dtype=torch.int32)\n"
     ]
    }
   ],
   "source": [
    "t2 = torch.as_tensor(data)\n",
    "print(t2)"
   ],
   "metadata": {
    "collapsed": false,
    "ExecuteTime": {
     "end_time": "2024-03-12T01:47:02.240428100Z",
     "start_time": "2024-03-12T01:47:02.211293100Z"
    }
   },
   "id": "d94e486b39ecefd0",
   "execution_count": 44
  },
  {
   "cell_type": "code",
   "outputs": [
    {
     "name": "stdout",
     "output_type": "stream",
     "text": [
      "tensor([11, 22, 33], dtype=torch.int32)\n"
     ]
    }
   ],
   "source": [
    "t3 = torch.tensor(data)\n",
    "print(t3)"
   ],
   "metadata": {
    "collapsed": false,
    "ExecuteTime": {
     "end_time": "2024-03-12T01:47:51.806339100Z",
     "start_time": "2024-03-12T01:47:51.775031600Z"
    }
   },
   "id": "3f41f72687282fd1",
   "execution_count": 45
  },
  {
   "cell_type": "code",
   "outputs": [],
   "source": [
    "# ndarray 원소 변경\n",
    "data[0] =100"
   ],
   "metadata": {
    "collapsed": false,
    "ExecuteTime": {
     "end_time": "2024-03-12T01:48:18.756558200Z",
     "start_time": "2024-03-12T01:48:18.730206500Z"
    }
   },
   "id": "78fa46b7215df577",
   "execution_count": 46
  },
  {
   "cell_type": "code",
   "outputs": [
    {
     "name": "stdout",
     "output_type": "stream",
     "text": [
      "[100  22  33]\n",
      "tensor([100,  22,  33], dtype=torch.int32)\n",
      "tensor([100,  22,  33], dtype=torch.int32)\n",
      "tensor([11, 22, 33], dtype=torch.int32)\n"
     ]
    }
   ],
   "source": [
    "# from_numpy, as_tensor() ==> 데이터 공유\n",
    "# tensor() ==> 복사본 생성\n",
    "print(data, t1, t2, t3, sep='\\n')"
   ],
   "metadata": {
    "collapsed": false,
    "ExecuteTime": {
     "end_time": "2024-03-12T01:50:14.980578500Z",
     "start_time": "2024-03-12T01:50:14.964670300Z"
    }
   },
   "id": "f3713b2ec951d17a",
   "execution_count": 47
  },
  {
   "cell_type": "markdown",
   "source": [
    "- 브로드캐스팅 연산(덧셈)"
   ],
   "metadata": {
    "collapsed": false
   },
   "id": "44aee3706d714328"
  },
  {
   "cell_type": "code",
   "outputs": [
    {
     "name": "stdout",
     "output_type": "stream",
     "text": [
      "tensor([4., 5.]) torch.Size([2])\n"
     ]
    }
   ],
   "source": [
    "m1 = torch.FloatTensor([1,2])\n",
    "m2 = torch.FloatTensor([3])\n",
    "m3 = m1+m2\n",
    "print(m3, m3.shape)"
   ],
   "metadata": {
    "collapsed": false,
    "ExecuteTime": {
     "end_time": "2024-03-12T02:20:11.043766800Z",
     "start_time": "2024-03-12T02:20:11.007409200Z"
    }
   },
   "id": "b3818ac5daab730c",
   "execution_count": 48
  },
  {
   "cell_type": "code",
   "outputs": [
    {
     "name": "stdout",
     "output_type": "stream",
     "text": [
      "tensor([[4., 5.],\n",
      "        [5., 6.]]) torch.Size([2, 2])\n"
     ]
    }
   ],
   "source": [
    "m1 = torch.FloatTensor([1,2])\n",
    "m2 = torch.FloatTensor([[3],[4]])\n",
    "m3 = m1+m2\n",
    "print(f'm1.shape : {m1.shape}, m2.shape : {m2.shape}')\n",
    "print(m3, m3.shape)"
   ],
   "metadata": {
    "collapsed": false,
    "ExecuteTime": {
     "end_time": "2024-03-12T02:20:42.301686800Z",
     "start_time": "2024-03-12T02:20:42.277249600Z"
    }
   },
   "id": "7625a6ddba8d3170",
   "execution_count": 50
  },
  {
   "cell_type": "markdown",
   "source": [
    "- 브로드캐스팅 연산(곱셈)"
   ],
   "metadata": {
    "collapsed": false
   },
   "id": "fba4f43eb55b558c"
  },
  {
   "cell_type": "code",
   "outputs": [
    {
     "name": "stdout",
     "output_type": "stream",
     "text": [
      "m3.shape => torch.Size([2, 2])\n",
      "m3 => \n",
      "tensor([[3., 6.],\n",
      "        [4., 8.]])\n",
      "m4.shape => torch.Size([2, 2])\n",
      "m3 => \n",
      "tensor([[3., 6.],\n",
      "        [4., 8.]])\n"
     ]
    }
   ],
   "source": [
    "m3 = m1* m2\n",
    "m4 = m1.mul(m2)\n",
    "print(f'm3.shape => {m3.shape}\\nm3 => \\n{m3}')\n",
    "print(f'm4.shape => {m4.shape}\\nm3 => \\n{m4}')"
   ],
   "metadata": {
    "collapsed": false,
    "ExecuteTime": {
     "end_time": "2024-03-12T02:27:41.930144700Z",
     "start_time": "2024-03-12T02:27:41.894619200Z"
    }
   },
   "id": "5f7cdf4be4e79f14",
   "execution_count": 51
  },
  {
   "cell_type": "code",
   "outputs": [
    {
     "data": {
      "text/plain": "(tensor([[4., 5.],\n         [5., 6.]]),\n tensor([[-2., -1.],\n         [-3., -2.]]),\n tensor([[3., 6.],\n         [4., 8.]]),\n tensor([[0.3333, 0.6667],\n         [0.2500, 0.5000]]))"
     },
     "execution_count": 52,
     "metadata": {},
     "output_type": "execute_result"
    }
   ],
   "source": [
    "# 원소단위 연산 수행 메서드\n",
    "m1.add(m2), m1.sub(m2), m1.mul(m2), m1.div(m2)"
   ],
   "metadata": {
    "collapsed": false,
    "ExecuteTime": {
     "end_time": "2024-03-12T02:28:57.157117Z",
     "start_time": "2024-03-12T02:28:57.128397100Z"
    }
   },
   "id": "a0739eba48d13d9e",
   "execution_count": 52
  },
  {
   "cell_type": "markdown",
   "source": [],
   "metadata": {
    "collapsed": false
   },
   "id": "1cb9013936ce6a38"
  }
 ],
 "metadata": {
  "kernelspec": {
   "display_name": "Python 3",
   "language": "python",
   "name": "python3"
  },
  "language_info": {
   "codemirror_mode": {
    "name": "ipython",
    "version": 2
   },
   "file_extension": ".py",
   "mimetype": "text/x-python",
   "name": "python",
   "nbconvert_exporter": "python",
   "pygments_lexer": "ipython2",
   "version": "2.7.6"
  }
 },
 "nbformat": 4,
 "nbformat_minor": 5
}
