{
 "cells": [
  {
   "cell_type": "markdown",
   "source": [
    "### Tensor shape 변경\n",
    "  - reshape(), view() : 원소 갯수가 유지됨!, 기존 텐서 공유함"
   ],
   "metadata": {
    "collapsed": false
   },
   "id": "e8861a213312026f"
  },
  {
   "cell_type": "code",
   "outputs": [],
   "source": [
    "# 모듈 로딩\n",
    "import torch"
   ],
   "metadata": {
    "collapsed": false,
    "ExecuteTime": {
     "end_time": "2024-03-12T04:31:05.762355800Z",
     "start_time": "2024-03-12T04:31:04.534912500Z"
    }
   },
   "id": "3ee2a54ec884c5eb",
   "execution_count": 1
  },
  {
   "cell_type": "code",
   "outputs": [
    {
     "name": "stdout",
     "output_type": "stream",
     "text": [
      "torch.Size([2, 3]) 2\n",
      "torch.Size([2, 3]) torch.int64 0 (3, 1) True\n",
      "tensor([[1, 2, 3],\n",
      "        [4, 5, 6]]) 3207392663680 3207392663680 3207392663704\n"
     ]
    }
   ],
   "source": [
    "# 텐서 데이터 생성\n",
    "t1 = torch.tensor([[1,2,3],[4,5,6]])\n",
    "print(t1.shape, t1.ndim)\n",
    "\n",
    "print(t1.shape, t1.dtype, t1.storage_offset(), t1.stride(), t1.is_contiguous())\n",
    "print(t1, t1.data_ptr(), t1[0].data_ptr(), t1[1].data_ptr())"
   ],
   "metadata": {
    "collapsed": false,
    "ExecuteTime": {
     "end_time": "2024-03-12T05:24:37.130268400Z",
     "start_time": "2024-03-12T05:24:37.110382200Z"
    }
   },
   "id": "3292b2928014e693",
   "execution_count": 24
  },
  {
   "cell_type": "code",
   "outputs": [
    {
     "data": {
      "text/plain": "tensor([[1, 2],\n        [3, 4],\n        [5, 6]])"
     },
     "execution_count": 3,
     "metadata": {},
     "output_type": "execute_result"
    }
   ],
   "source": [
    "# [2,3] ===> [3,2] 형태 변경 : 원소 동일 6개\n",
    "t1.view(3,2)"
   ],
   "metadata": {
    "collapsed": false,
    "ExecuteTime": {
     "end_time": "2024-03-12T04:33:18.905339400Z",
     "start_time": "2024-03-12T04:33:18.874065400Z"
    }
   },
   "id": "c4d0c6427d2d6562",
   "execution_count": 3
  },
  {
   "cell_type": "code",
   "outputs": [
    {
     "data": {
      "text/plain": "tensor([[1],\n        [2],\n        [3],\n        [4],\n        [5],\n        [6]])"
     },
     "execution_count": 4,
     "metadata": {},
     "output_type": "execute_result"
    }
   ],
   "source": [
    "# [2,3] ===> [6,1] 형태 변경 : 원소 동일 6개\n",
    "t1.view(6,1)"
   ],
   "metadata": {
    "collapsed": false,
    "ExecuteTime": {
     "end_time": "2024-03-12T04:34:03.899273900Z",
     "start_time": "2024-03-12T04:34:03.889957800Z"
    }
   },
   "id": "529fbd1d95de1c22",
   "execution_count": 4
  },
  {
   "cell_type": "code",
   "outputs": [
    {
     "data": {
      "text/plain": "tensor([[1],\n        [2],\n        [3],\n        [4],\n        [5],\n        [6]])"
     },
     "execution_count": 5,
     "metadata": {},
     "output_type": "execute_result"
    }
   ],
   "source": [
    "# [2,3] ===> [6,1] 형태 변경 \n",
    "# 여기서 -1은 인덱싱의 의미가 아니라 원소 수를 알아서 행에 할당하라는 뜻\n",
    "t1.view(-1,1)"
   ],
   "metadata": {
    "collapsed": false,
    "ExecuteTime": {
     "end_time": "2024-03-12T04:39:22.718506600Z",
     "start_time": "2024-03-12T04:39:22.694028200Z"
    }
   },
   "id": "a64d4dd0d106b6dd",
   "execution_count": 5
  },
  {
   "cell_type": "code",
   "outputs": [
    {
     "data": {
      "text/plain": "tensor([[1],\n        [2],\n        [3],\n        [4],\n        [5],\n        [6]])"
     },
     "execution_count": 6,
     "metadata": {},
     "output_type": "execute_result"
    }
   ],
   "source": [
    "# [2,3] ===> [6,1] 형태 변경 \n",
    "# 여기서 -1은 인덱싱의 의미가 아니라 원소 수를 알아서 열을 할당하라는 뜻\n",
    "t1.view(6,-1)"
   ],
   "metadata": {
    "collapsed": false,
    "ExecuteTime": {
     "end_time": "2024-03-12T04:40:26.443188300Z",
     "start_time": "2024-03-12T04:40:26.416383200Z"
    }
   },
   "id": "434aa2e6b406858c",
   "execution_count": 6
  },
  {
   "cell_type": "code",
   "outputs": [
    {
     "data": {
      "text/plain": "tensor([[1, 2, 3],\n        [4, 5, 6]])"
     },
     "execution_count": 8,
     "metadata": {},
     "output_type": "execute_result"
    }
   ],
   "source": [
    "# tensor.reshape()\n",
    "t1.reshape(-1,3)"
   ],
   "metadata": {
    "collapsed": false,
    "ExecuteTime": {
     "end_time": "2024-03-12T04:41:56.137460100Z",
     "start_time": "2024-03-12T04:41:56.120697500Z"
    }
   },
   "id": "98e04e4bf99c546e",
   "execution_count": 8
  },
  {
   "cell_type": "code",
   "outputs": [],
   "source": [
    "# 원소 수 유지되어야함!\n",
    "# RuntimeError: shape '[-1,7]' is invalid for input of size 6\n",
    "# t1.reshape(-1,7)"
   ],
   "metadata": {
    "collapsed": false,
    "ExecuteTime": {
     "end_time": "2024-03-12T04:43:43.745946Z",
     "start_time": "2024-03-12T04:43:43.735728100Z"
    }
   },
   "id": "5202abdbeaf135c6",
   "execution_count": 9
  },
  {
   "cell_type": "markdown",
   "source": [
    "### 전치 : 열과 행 변경"
   ],
   "metadata": {
    "collapsed": false
   },
   "id": "4c19e09930ab800c"
  },
  {
   "cell_type": "code",
   "outputs": [
    {
     "name": "stdout",
     "output_type": "stream",
     "text": [
      "torch.Size([2, 3])\n",
      "torch.Size([3, 2]) False\n"
     ]
    }
   ],
   "source": [
    "print(t1.shape)     # T를 통해 행렬이 변경\n",
    "\n",
    "t2=t1.T\n",
    "print(t2.shape, t2.is_contiguous())\n",
    "# 뒤집으면 stride 정보 변경"
   ],
   "metadata": {
    "collapsed": false,
    "ExecuteTime": {
     "end_time": "2024-03-12T04:47:22.844436400Z",
     "start_time": "2024-03-12T04:47:22.828721400Z"
    }
   },
   "id": "76cb2252803eb98e",
   "execution_count": 14
  },
  {
   "cell_type": "code",
   "outputs": [
    {
     "ename": "RuntimeError",
     "evalue": "view size is not compatible with input tensor's size and stride (at least one dimension spans across two contiguous subspaces). Use .reshape(...) instead.",
     "output_type": "error",
     "traceback": [
      "\u001B[1;31m---------------------------------------------------------------------------\u001B[0m",
      "\u001B[1;31mRuntimeError\u001B[0m                              Traceback (most recent call last)",
      "Cell \u001B[1;32mIn[13], line 2\u001B[0m\n\u001B[0;32m      1\u001B[0m \u001B[38;5;66;03m# RuntimeError : view size is not compatible with input tensor's size and stride\u001B[39;00m\n\u001B[1;32m----> 2\u001B[0m \u001B[43mt2\u001B[49m\u001B[38;5;241;43m.\u001B[39;49m\u001B[43mview\u001B[49m\u001B[43m(\u001B[49m\u001B[38;5;241;43m-\u001B[39;49m\u001B[38;5;241;43m1\u001B[39;49m\u001B[43m,\u001B[49m\u001B[38;5;241;43m6\u001B[39;49m\u001B[43m)\u001B[49m\n",
      "\u001B[1;31mRuntimeError\u001B[0m: view size is not compatible with input tensor's size and stride (at least one dimension spans across two contiguous subspaces). Use .reshape(...) instead."
     ]
    }
   ],
   "source": [
    "# RuntimeError : view size is not compatible with input tensor's size and stride\n",
    "# t2.view(-1,6)             #에러 발생"
   ],
   "metadata": {
    "collapsed": false,
    "ExecuteTime": {
     "end_time": "2024-03-12T04:46:42.603206500Z",
     "start_time": "2024-03-12T04:46:41.841725200Z"
    }
   },
   "id": "e79cc7da48ea110f",
   "execution_count": 13
  },
  {
   "cell_type": "code",
   "outputs": [
    {
     "data": {
      "text/plain": "tensor([[1, 2, 3, 4, 5, 6]])"
     },
     "execution_count": 23,
     "metadata": {},
     "output_type": "execute_result"
    }
   ],
   "source": [
    "t2.reshape(-1,6)        # reshape은 가능!"
   ],
   "metadata": {
    "collapsed": false,
    "ExecuteTime": {
     "end_time": "2024-03-12T05:21:16.149948300Z",
     "start_time": "2024-03-12T05:21:16.122628300Z"
    }
   },
   "id": "86401ee2b5d3e3c2",
   "execution_count": 23
  },
  {
   "cell_type": "markdown",
   "source": [
    "Transform 했을 시 review는 바뀐 데이터정보를 그대로 불러오지만(142536) reshape은 다시 그 기준을 새로 지정한다(123456)"
   ],
   "metadata": {
    "collapsed": false
   },
   "id": "f0713a96d151bbd2"
  },
  {
   "cell_type": "code",
   "outputs": [
    {
     "name": "stdout",
     "output_type": "stream",
     "text": [
      "tensor([[1, 4, 2, 5, 3, 6]]) True\n"
     ]
    }
   ],
   "source": [
    "t3 = t2.reshape(-1,6)\n",
    "print(t3, t3.is_contiguous())"
   ],
   "metadata": {
    "collapsed": false,
    "ExecuteTime": {
     "end_time": "2024-03-12T04:54:22.090813Z",
     "start_time": "2024-03-12T04:54:22.068919400Z"
    }
   },
   "id": "c4088f3cef95fd39",
   "execution_count": 17
  },
  {
   "cell_type": "markdown",
   "source": [
    "### 텐서 데이터의 메모리 저장 정보 및 메타데이터\n",
    "- 현재 저장형태, 검색 방향 정보, 시작 정보"
   ],
   "metadata": {
    "collapsed": false
   },
   "id": "fd2bd924204cee34"
  },
  {
   "cell_type": "code",
   "outputs": [
    {
     "name": "stdout",
     "output_type": "stream",
     "text": [
      "torch.Size([2, 3]) 2\n",
      "t1.storage() =>  1\n",
      " 2\n",
      " 3\n",
      " 4\n",
      " 5\n",
      " 6\n",
      "[torch.storage.TypedStorage(dtype=torch.int64, device=cpu) of size 6]\n",
      "t1.storage_offset() => 0\n",
      "t1.stride() => (3, 1)\n",
      "t1.is_contignous() => True\n"
     ]
    }
   ],
   "source": [
    "t1 = torch.tensor([[1,2,3],[4,5,6]])\n",
    "print(t1.shape, t1.ndim)\n",
    "print(f't1.storage() => {t1.storage()}')\n",
    "print(f't1.storage_offset() => {t1.storage_offset()}')\n",
    "print(f't1.stride() => {t1.stride()}')      # 다음 줄을 가기 위해서는 몇칸 가야 하는가 (가로 기준)\n",
    "print(f't1.is_contiguous() => {t1.is_contiguous()}')        # 연속적인가"
   ],
   "metadata": {
    "collapsed": false,
    "ExecuteTime": {
     "end_time": "2024-03-12T04:59:13.047771900Z",
     "start_time": "2024-03-12T04:59:13.024233300Z"
    }
   },
   "id": "526f5a28450919f7",
   "execution_count": 19
  },
  {
   "cell_type": "code",
   "outputs": [
    {
     "name": "stdout",
     "output_type": "stream",
     "text": [
      "t2.storage() =>  1\n",
      " 2\n",
      " 3\n",
      " 4\n",
      " 5\n",
      " 6\n",
      "[torch.storage.TypedStorage(dtype=torch.int64, device=cpu) of size 6]\n",
      "t2.storage_offset() => 0\n",
      "t2.stride() => (2, 1)\n",
      "t2.is_contiguous() => True\n"
     ]
    }
   ],
   "source": [
    "t2 = t1.view(-1,2)      # 행,열 변경 (원래 있던 주소는 변하지 않음)\n",
    "\n",
    "print(f't2.storage() => {t2.storage()}')\n",
    "print(f't2.storage_offset() => {t2.storage_offset()}')\n",
    "print(f't2.stride() => {t2.stride()}')      # 다음 줄을 가기 위해서는 몇칸 가야 하는가 , 다음 칸 까지 얼마 가야하나\n",
    "print(f't2.is_contiguous() => {t2.is_contiguous()}')        # 연속적인가"
   ],
   "metadata": {
    "collapsed": false,
    "ExecuteTime": {
     "end_time": "2024-03-12T05:01:27.391993900Z",
     "start_time": "2024-03-12T05:01:27.375032400Z"
    }
   },
   "id": "65f4b830525eb37f",
   "execution_count": 21
  },
  {
   "cell_type": "code",
   "outputs": [
    {
     "data": {
      "text/plain": "tensor([[1, 2],\n        [3, 4],\n        [5, 6]])"
     },
     "execution_count": 22,
     "metadata": {},
     "output_type": "execute_result"
    }
   ],
   "source": [
    "t2"
   ],
   "metadata": {
    "collapsed": false,
    "ExecuteTime": {
     "end_time": "2024-03-12T05:04:27.628830400Z",
     "start_time": "2024-03-12T05:04:27.595967900Z"
    }
   },
   "id": "d1e92dc2b2f6d409",
   "execution_count": 22
  },
  {
   "cell_type": "markdown",
   "source": [
    "### 차원 제거/추가\n",
    "- tensor.squeeze() : 텐서에서 차원이 1인 것 제거\n",
    "- tensor.unsqueeze(dim) : 텐서에 차원 1인 것 추가"
   ],
   "metadata": {
    "collapsed": false
   },
   "id": "6591fc9763df175f"
  },
  {
   "cell_type": "code",
   "outputs": [],
   "source": [
    "# 데이터 생성\n",
    "t1 = torch.tensor([[1,2],[3,4]])\n",
    "t2 = torch.tensor([[1,2,3,4]])\n",
    "t3 = torch.tensor([[[1,2,3,4]]])"
   ],
   "metadata": {
    "collapsed": false,
    "ExecuteTime": {
     "end_time": "2024-03-12T05:41:56.028572200Z",
     "start_time": "2024-03-12T05:41:56.013292600Z"
    }
   },
   "id": "bdf582e0f0c53126",
   "execution_count": 30
  },
  {
   "cell_type": "code",
   "outputs": [
    {
     "name": "stdout",
     "output_type": "stream",
     "text": [
      "t1 => torch.Size([2, 2]), 2D, 3207392723136\n",
      "t2 => torch.Size([1, 4]), 2D, 3207392723264\n",
      "t3 => torch.Size([1, 1, 4]), 3D, 3207392723328\n"
     ]
    }
   ],
   "source": [
    "print(f't1 => {t1.shape}, {t1.ndim}D, {t1.data_ptr()}')\n",
    "print(f't2 => {t2.shape}, {t2.ndim}D, {t2.data_ptr()}')\n",
    "print(f't3 => {t3.shape}, {t3.ndim}D, {t3.data_ptr()}')"
   ],
   "metadata": {
    "collapsed": false,
    "ExecuteTime": {
     "end_time": "2024-03-12T05:44:38.496768200Z",
     "start_time": "2024-03-12T05:44:38.475374600Z"
    }
   },
   "id": "dd7cb14b6b021ebb",
   "execution_count": 34
  },
  {
   "cell_type": "code",
   "outputs": [
    {
     "name": "stdout",
     "output_type": "stream",
     "text": [
      "t1 차원 축소 => torch.Size([2, 2]), 2D, 3207392723136\n",
      "t2 차원 축소 => torch.Size([4]), 1D, 3207392723264\n",
      "t3 차원 축소 => torch.Size([4]), 1D, 3207392723328\n",
      "t3 차원 축소 => torch.Size([1, 4]), 2D, 3207392723328\n"
     ]
    }
   ],
   "source": [
    "t11 = t1.squeeze()\n",
    "t22 = t2.squeeze()\n",
    "t33 = t3.squeeze()\n",
    "t44 = t3.squeeze(dim=0)         # 지정된 것만 보게 한다(0번자리)\n",
    "print(f't1 차원 축소 => {t11.shape}, {t11.ndim}D, {t11.data_ptr()}')\n",
    "print(f't2 차원 축소 => {t22.shape}, {t22.ndim}D, {t22.data_ptr()}')\n",
    "print(f't3 차원 축소 => {t33.shape}, {t33.ndim}D, {t33.data_ptr()}')\n",
    "print(f't3 차원 축소 => {t44.shape}, {t44.ndim}D, {t44.data_ptr()}')\n",
    "# shape안에서 1이라고 적힌 녀석을 줄인다(?)"
   ],
   "metadata": {
    "collapsed": false,
    "ExecuteTime": {
     "end_time": "2024-03-12T05:45:31.520642200Z",
     "start_time": "2024-03-12T05:45:31.510184100Z"
    }
   },
   "id": "e363936d2d4255f2",
   "execution_count": 35
  },
  {
   "cell_type": "code",
   "outputs": [
    {
     "data": {
      "text/plain": "torch.Size([2, 2])"
     },
     "execution_count": 36,
     "metadata": {},
     "output_type": "execute_result"
    }
   ],
   "source": [
    "## 원소/요소 수 변경 없이 1차원 증가 시키기 => torch.unsqueeze(dim)\n",
    "t1.shape"
   ],
   "metadata": {
    "collapsed": false,
    "ExecuteTime": {
     "end_time": "2024-03-12T05:54:53.298857500Z",
     "start_time": "2024-03-12T05:54:53.264542Z"
    }
   },
   "id": "a7ebf25ca537b66a",
   "execution_count": 36
  },
  {
   "cell_type": "code",
   "outputs": [
    {
     "name": "stdout",
     "output_type": "stream",
     "text": [
      "t1 정보 => torch.Size([2, 2]), 2D, 3207392723136\n"
     ]
    }
   ],
   "source": [
    "print(f't1 정보 => {t1.shape}, {t1.ndim}D, {t1.data_ptr()}')"
   ],
   "metadata": {
    "collapsed": false,
    "ExecuteTime": {
     "end_time": "2024-03-12T05:55:34.146024600Z",
     "start_time": "2024-03-12T05:55:34.115650100Z"
    }
   },
   "id": "fab88147baf10c24",
   "execution_count": 37
  },
  {
   "cell_type": "code",
   "outputs": [
    {
     "name": "stdout",
     "output_type": "stream",
     "text": [
      "t1 차원 추가 => torch.Size([1, 2, 2]), 3D, 3207392723136, (4, 2, 1)\n",
      "t2 차원 추가 => torch.Size([2, 2, 1]), 3D, 3207392723136, (2, 1, 1)\n"
     ]
    }
   ],
   "source": [
    "t11 = t1.unsqueeze(dim=0)\n",
    "t22 = t1.unsqueeze(dim=-1)\n",
    "print(f't1 차원 추가 => {t11.shape}, {t11.ndim}D, {t11.data_ptr()}, {t11.stride()}')\n",
    "print(f't2 차원 추가 => {t22.shape}, {t22.ndim}D, {t22.data_ptr()}, {t22.stride()}')"
   ],
   "metadata": {
    "collapsed": false,
    "ExecuteTime": {
     "end_time": "2024-03-12T05:57:15.828561600Z",
     "start_time": "2024-03-12T05:57:15.794000800Z"
    }
   },
   "id": "17dfd3dbd1c0cc9a",
   "execution_count": 38
  },
  {
   "cell_type": "markdown",
   "source": [
    "### Tensor 차원/형태 변경"
   ],
   "metadata": {
    "collapsed": false
   },
   "id": "e6a046fb7321bc21"
  },
  {
   "cell_type": "code",
   "outputs": [
    {
     "name": "stdout",
     "output_type": "stream",
     "text": [
      "t1 => torch.Size([1, 3, 2]), 3D\n"
     ]
    }
   ],
   "source": [
    "t1 = torch.tensor([[[1,2],[11,22],[44,55]]])\n",
    "print(f't1 => {t1.shape}, {t1.ndim}D')"
   ],
   "metadata": {
    "collapsed": false,
    "ExecuteTime": {
     "end_time": "2024-03-12T06:37:48.210584100Z",
     "start_time": "2024-03-12T06:37:48.200186200Z"
    }
   },
   "id": "a99a731bf645b0e0",
   "execution_count": 42
  },
  {
   "cell_type": "code",
   "outputs": [
    {
     "name": "stdout",
     "output_type": "stream",
     "text": [
      "t11 => torch.Size([2, 3, 1]), 3D\n"
     ]
    }
   ],
   "source": [
    "# 2개의 차원을 변경하는 메서드 : transpose\n",
    "t11 = t1.transpose(0, 2)\n",
    "print(f't11 => {t11.shape}, {t11.ndim}D')"
   ],
   "metadata": {
    "collapsed": false,
    "ExecuteTime": {
     "end_time": "2024-03-12T06:39:29.237071100Z",
     "start_time": "2024-03-12T06:39:29.202207500Z"
    }
   },
   "id": "386d5eccb9dd0d09",
   "execution_count": 45
  },
  {
   "cell_type": "code",
   "outputs": [
    {
     "name": "stdout",
     "output_type": "stream",
     "text": [
      "t22 => torch.Size([3, 2, 1]), 3D\n"
     ]
    }
   ],
   "source": [
    "# 모든 차원을 변경하는 메서드 : permute\n",
    "t22 = t1.permute(1,2,0)\n",
    "print(f't22 => {t22.shape}, {t22.ndim}D')"
   ],
   "metadata": {
    "collapsed": false,
    "ExecuteTime": {
     "end_time": "2024-03-12T06:41:35.725403900Z",
     "start_time": "2024-03-12T06:41:35.695187700Z"
    }
   },
   "id": "ce6e4dd6f142fb35",
   "execution_count": 46
  },
  {
   "cell_type": "code",
   "outputs": [
    {
     "name": "stdout",
     "output_type": "stream",
     "text": [
      "3207392664000, 3207392664000, 3207392664000\n"
     ]
    }
   ],
   "source": [
    "print(f'{t1.data_ptr()}, {t11.data_ptr()}, {t22.data_ptr()}')"
   ],
   "metadata": {
    "collapsed": false,
    "ExecuteTime": {
     "end_time": "2024-03-12T06:43:15.392333400Z",
     "start_time": "2024-03-12T06:43:15.338450700Z"
    }
   },
   "id": "fc05bca71709e3a",
   "execution_count": 47
  },
  {
   "cell_type": "code",
   "outputs": [
    {
     "data": {
      "text/plain": "torch.Size([1, 1, 3, 2])"
     },
     "execution_count": 52,
     "metadata": {},
     "output_type": "execute_result"
    }
   ],
   "source": [
    "t1[None].shape      # 1차원 더 늘어난다"
   ],
   "metadata": {
    "collapsed": false,
    "ExecuteTime": {
     "end_time": "2024-03-12T06:48:13.171316700Z",
     "start_time": "2024-03-12T06:48:13.137575900Z"
    }
   },
   "id": "11f725445a4562e5",
   "execution_count": 52
  },
  {
   "cell_type": "code",
   "outputs": [
    {
     "data": {
      "text/plain": "torch.Size([1, 3, 2])"
     },
     "execution_count": 51,
     "metadata": {},
     "output_type": "execute_result"
    }
   ],
   "source": [
    "t1.shape"
   ],
   "metadata": {
    "collapsed": false,
    "ExecuteTime": {
     "end_time": "2024-03-12T06:47:59.482950300Z",
     "start_time": "2024-03-12T06:47:59.471511300Z"
    }
   },
   "id": "8f17ebfa544998ea",
   "execution_count": 51
  },
  {
   "cell_type": "code",
   "outputs": [],
   "source": [],
   "metadata": {
    "collapsed": false
   },
   "id": "91af3a3f84e50d3"
  }
 ],
 "metadata": {
  "kernelspec": {
   "display_name": "Python 3",
   "language": "python",
   "name": "python3"
  },
  "language_info": {
   "codemirror_mode": {
    "name": "ipython",
    "version": 2
   },
   "file_extension": ".py",
   "mimetype": "text/x-python",
   "name": "python",
   "nbconvert_exporter": "python",
   "pygments_lexer": "ipython2",
   "version": "2.7.6"
  }
 },
 "nbformat": 4,
 "nbformat_minor": 5
}
